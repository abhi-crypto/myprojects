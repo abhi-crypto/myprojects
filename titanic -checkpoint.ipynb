holaa hulaa
mola mola
{
 "cells": [
  {
   "cell_type": "code",
   "execution_count": 284,
   "metadata": {
    "ExecuteTime": {
     "end_time": "2019-11-30T11:57:46.439195Z",
     "start_time": "2019-11-30T11:57:46.434200Z"
    }
   },
   "outputs": [],
   "source": [
    "import pandas as pd \n",
    "import numpy as np"
   ]
  },
  {
   "cell_type": "code",
   "execution_count": 285,
   "metadata": {
    "ExecuteTime": {
     "end_time": "2019-11-30T11:57:46.615096Z",
     "start_time": "2019-11-30T11:57:46.443193Z"
    }
   },
   "outputs": [],
   "source": [
    "train_file=r'C:\\Users\\Abhishek\\Desktop\\python data\\projects\\titanic\\train.csv'\n",
    "test_file=r'C:\\Users\\Abhishek\\Desktop\\python data\\projects\\titanic\\test.csv'\n",
    "\n",
    "pd.set_option('display.max_columns', None)\n",
    "pd.set_option('display.max_rows', None)"
   ]
  },
  {
   "cell_type": "code",
   "execution_count": 286,
   "metadata": {
    "ExecuteTime": {
     "end_time": "2019-11-30T11:57:46.761021Z",
     "start_time": "2019-11-30T11:57:46.620090Z"
    }
   },
   "outputs": [],
   "source": [
    "tt_train=pd.read_csv(train_file)\n",
    "tt_test=pd.read_csv(test_file)"
   ]
  },
  {
   "cell_type": "code",
   "execution_count": 287,
   "metadata": {
    "ExecuteTime": {
     "end_time": "2019-11-30T11:57:46.907290Z",
     "start_time": "2019-11-30T11:57:46.763987Z"
    }
   },
   "outputs": [
    {
     "data": {
      "text/html": [
       "<div>\n",
       "<style scoped>\n",
       "    .dataframe tbody tr th:only-of-type {\n",
       "        vertical-align: middle;\n",
       "    }\n",
       "\n",
       "    .dataframe tbody tr th {\n",
       "        vertical-align: top;\n",
       "    }\n",
       "\n",
       "    .dataframe thead th {\n",
       "        text-align: right;\n",
       "    }\n",
       "</style>\n",
       "<table border=\"1\" class=\"dataframe\">\n",
       "  <thead>\n",
       "    <tr style=\"text-align: right;\">\n",
       "      <th></th>\n",
       "      <th>PassengerId</th>\n",
       "      <th>Survived</th>\n",
       "      <th>Pclass</th>\n",
       "      <th>Name</th>\n",
       "      <th>Sex</th>\n",
       "      <th>Age</th>\n",
       "      <th>SibSp</th>\n",
       "      <th>Parch</th>\n",
       "      <th>Ticket</th>\n",
       "      <th>Fare</th>\n",
       "      <th>Cabin</th>\n",
       "      <th>Embarked</th>\n",
       "    </tr>\n",
       "  </thead>\n",
       "  <tbody>\n",
       "    <tr>\n",
       "      <td>0</td>\n",
       "      <td>1</td>\n",
       "      <td>0</td>\n",
       "      <td>3</td>\n",
       "      <td>Braund, Mr. Owen Harris</td>\n",
       "      <td>male</td>\n",
       "      <td>22.0</td>\n",
       "      <td>1</td>\n",
       "      <td>0</td>\n",
       "      <td>A/5 21171</td>\n",
       "      <td>7.2500</td>\n",
       "      <td>NaN</td>\n",
       "      <td>S</td>\n",
       "    </tr>\n",
       "    <tr>\n",
       "      <td>1</td>\n",
       "      <td>2</td>\n",
       "      <td>1</td>\n",
       "      <td>1</td>\n",
       "      <td>Cumings, Mrs. John Bradley (Florence Briggs Th...</td>\n",
       "      <td>female</td>\n",
       "      <td>38.0</td>\n",
       "      <td>1</td>\n",
       "      <td>0</td>\n",
       "      <td>PC 17599</td>\n",
       "      <td>71.2833</td>\n",
       "      <td>C85</td>\n",
       "      <td>C</td>\n",
       "    </tr>\n",
       "    <tr>\n",
       "      <td>2</td>\n",
       "      <td>3</td>\n",
       "      <td>1</td>\n",
       "      <td>3</td>\n",
       "      <td>Heikkinen, Miss. Laina</td>\n",
       "      <td>female</td>\n",
       "      <td>26.0</td>\n",
       "      <td>0</td>\n",
       "      <td>0</td>\n",
       "      <td>STON/O2. 3101282</td>\n",
       "      <td>7.9250</td>\n",
       "      <td>NaN</td>\n",
       "      <td>S</td>\n",
       "    </tr>\n",
       "    <tr>\n",
       "      <td>3</td>\n",
       "      <td>4</td>\n",
       "      <td>1</td>\n",
       "      <td>1</td>\n",
       "      <td>Futrelle, Mrs. Jacques Heath (Lily May Peel)</td>\n",
       "      <td>female</td>\n",
       "      <td>35.0</td>\n",
       "      <td>1</td>\n",
       "      <td>0</td>\n",
       "      <td>113803</td>\n",
       "      <td>53.1000</td>\n",
       "      <td>C123</td>\n",
       "      <td>S</td>\n",
       "    </tr>\n",
       "    <tr>\n",
       "      <td>4</td>\n",
       "      <td>5</td>\n",
       "      <td>0</td>\n",
       "      <td>3</td>\n",
       "      <td>Allen, Mr. William Henry</td>\n",
       "      <td>male</td>\n",
       "      <td>35.0</td>\n",
       "      <td>0</td>\n",
       "      <td>0</td>\n",
       "      <td>373450</td>\n",
       "      <td>8.0500</td>\n",
       "      <td>NaN</td>\n",
       "      <td>S</td>\n",
       "    </tr>\n",
       "  </tbody>\n",
       "</table>\n",
       "</div>"
      ],
      "text/plain": [
       "   PassengerId  Survived  Pclass  \\\n",
       "0            1         0       3   \n",
       "1            2         1       1   \n",
       "2            3         1       3   \n",
       "3            4         1       1   \n",
       "4            5         0       3   \n",
       "\n",
       "                                                Name     Sex   Age  SibSp  \\\n",
       "0                            Braund, Mr. Owen Harris    male  22.0      1   \n",
       "1  Cumings, Mrs. John Bradley (Florence Briggs Th...  female  38.0      1   \n",
       "2                             Heikkinen, Miss. Laina  female  26.0      0   \n",
       "3       Futrelle, Mrs. Jacques Heath (Lily May Peel)  female  35.0      1   \n",
       "4                           Allen, Mr. William Henry    male  35.0      0   \n",
       "\n",
       "   Parch            Ticket     Fare Cabin Embarked  \n",
       "0      0         A/5 21171   7.2500   NaN        S  \n",
       "1      0          PC 17599  71.2833   C85        C  \n",
       "2      0  STON/O2. 3101282   7.9250   NaN        S  \n",
       "3      0            113803  53.1000  C123        S  \n",
       "4      0            373450   8.0500   NaN        S  "
      ]
     },
     "execution_count": 287,
     "metadata": {},
     "output_type": "execute_result"
    }
   ],
   "source": [
    "tt_train.head()"
   ]
  },
  {
   "cell_type": "code",
   "execution_count": 288,
   "metadata": {
    "ExecuteTime": {
     "end_time": "2019-11-30T11:57:47.043192Z",
     "start_time": "2019-11-30T11:57:46.911266Z"
    }
   },
   "outputs": [
    {
     "data": {
      "text/html": [
       "<div>\n",
       "<style scoped>\n",
       "    .dataframe tbody tr th:only-of-type {\n",
       "        vertical-align: middle;\n",
       "    }\n",
       "\n",
       "    .dataframe tbody tr th {\n",
       "        vertical-align: top;\n",
       "    }\n",
       "\n",
       "    .dataframe thead th {\n",
       "        text-align: right;\n",
       "    }\n",
       "</style>\n",
       "<table border=\"1\" class=\"dataframe\">\n",
       "  <thead>\n",
       "    <tr style=\"text-align: right;\">\n",
       "      <th></th>\n",
       "      <th>PassengerId</th>\n",
       "      <th>Pclass</th>\n",
       "      <th>Name</th>\n",
       "      <th>Sex</th>\n",
       "      <th>Age</th>\n",
       "      <th>SibSp</th>\n",
       "      <th>Parch</th>\n",
       "      <th>Ticket</th>\n",
       "      <th>Fare</th>\n",
       "      <th>Cabin</th>\n",
       "      <th>Embarked</th>\n",
       "    </tr>\n",
       "  </thead>\n",
       "  <tbody>\n",
       "    <tr>\n",
       "      <td>0</td>\n",
       "      <td>892</td>\n",
       "      <td>3</td>\n",
       "      <td>Kelly, Mr. James</td>\n",
       "      <td>male</td>\n",
       "      <td>34.5</td>\n",
       "      <td>0</td>\n",
       "      <td>0</td>\n",
       "      <td>330911</td>\n",
       "      <td>7.8292</td>\n",
       "      <td>NaN</td>\n",
       "      <td>Q</td>\n",
       "    </tr>\n",
       "    <tr>\n",
       "      <td>1</td>\n",
       "      <td>893</td>\n",
       "      <td>3</td>\n",
       "      <td>Wilkes, Mrs. James (Ellen Needs)</td>\n",
       "      <td>female</td>\n",
       "      <td>47.0</td>\n",
       "      <td>1</td>\n",
       "      <td>0</td>\n",
       "      <td>363272</td>\n",
       "      <td>7.0000</td>\n",
       "      <td>NaN</td>\n",
       "      <td>S</td>\n",
       "    </tr>\n",
       "    <tr>\n",
       "      <td>2</td>\n",
       "      <td>894</td>\n",
       "      <td>2</td>\n",
       "      <td>Myles, Mr. Thomas Francis</td>\n",
       "      <td>male</td>\n",
       "      <td>62.0</td>\n",
       "      <td>0</td>\n",
       "      <td>0</td>\n",
       "      <td>240276</td>\n",
       "      <td>9.6875</td>\n",
       "      <td>NaN</td>\n",
       "      <td>Q</td>\n",
       "    </tr>\n",
       "    <tr>\n",
       "      <td>3</td>\n",
       "      <td>895</td>\n",
       "      <td>3</td>\n",
       "      <td>Wirz, Mr. Albert</td>\n",
       "      <td>male</td>\n",
       "      <td>27.0</td>\n",
       "      <td>0</td>\n",
       "      <td>0</td>\n",
       "      <td>315154</td>\n",
       "      <td>8.6625</td>\n",
       "      <td>NaN</td>\n",
       "      <td>S</td>\n",
       "    </tr>\n",
       "    <tr>\n",
       "      <td>4</td>\n",
       "      <td>896</td>\n",
       "      <td>3</td>\n",
       "      <td>Hirvonen, Mrs. Alexander (Helga E Lindqvist)</td>\n",
       "      <td>female</td>\n",
       "      <td>22.0</td>\n",
       "      <td>1</td>\n",
       "      <td>1</td>\n",
       "      <td>3101298</td>\n",
       "      <td>12.2875</td>\n",
       "      <td>NaN</td>\n",
       "      <td>S</td>\n",
       "    </tr>\n",
       "  </tbody>\n",
       "</table>\n",
       "</div>"
      ],
      "text/plain": [
       "   PassengerId  Pclass                                          Name     Sex  \\\n",
       "0          892       3                              Kelly, Mr. James    male   \n",
       "1          893       3              Wilkes, Mrs. James (Ellen Needs)  female   \n",
       "2          894       2                     Myles, Mr. Thomas Francis    male   \n",
       "3          895       3                              Wirz, Mr. Albert    male   \n",
       "4          896       3  Hirvonen, Mrs. Alexander (Helga E Lindqvist)  female   \n",
       "\n",
       "    Age  SibSp  Parch   Ticket     Fare Cabin Embarked  \n",
       "0  34.5      0      0   330911   7.8292   NaN        Q  \n",
       "1  47.0      1      0   363272   7.0000   NaN        S  \n",
       "2  62.0      0      0   240276   9.6875   NaN        Q  \n",
       "3  27.0      0      0   315154   8.6625   NaN        S  \n",
       "4  22.0      1      1  3101298  12.2875   NaN        S  "
      ]
     },
     "execution_count": 288,
     "metadata": {},
     "output_type": "execute_result"
    }
   ],
   "source": [
    "tt_test.head()"
   ]
  },
  {
   "cell_type": "code",
   "execution_count": 289,
   "metadata": {
    "ExecuteTime": {
     "end_time": "2019-11-30T11:57:47.127144Z",
     "start_time": "2019-11-30T11:57:47.049187Z"
    }
   },
   "outputs": [],
   "source": [
    "tt_test['Survived']=np.nan"
   ]
  },
  {
   "cell_type": "code",
   "execution_count": 290,
   "metadata": {
    "ExecuteTime": {
     "end_time": "2019-11-30T11:57:47.273883Z",
     "start_time": "2019-11-30T11:57:47.134139Z"
    }
   },
   "outputs": [],
   "source": [
    "tt_train['data']='train'\n",
    "tt_test['data']='test'\n",
    "\n",
    "\n",
    "tt_test=tt_test[tt_train.columns]\n",
    "tt_all=pd.concat([tt_train,tt_test],axis=0) "
   ]
  },
  {
   "cell_type": "code",
   "execution_count": 291,
   "metadata": {
    "ExecuteTime": {
     "end_time": "2019-11-30T11:57:47.356899Z",
     "start_time": "2019-11-30T11:57:47.276839Z"
    }
   },
   "outputs": [
    {
     "data": {
      "text/plain": [
       "PassengerId      int64\n",
       "Survived       float64\n",
       "Pclass           int64\n",
       "Name            object\n",
       "Sex             object\n",
       "Age            float64\n",
       "SibSp            int64\n",
       "Parch            int64\n",
       "Ticket          object\n",
       "Fare           float64\n",
       "Cabin           object\n",
       "Embarked        object\n",
       "data            object\n",
       "dtype: object"
      ]
     },
     "execution_count": 291,
     "metadata": {},
     "output_type": "execute_result"
    }
   ],
   "source": [
    "tt_all.dtypes"
   ]
  },
  {
   "cell_type": "code",
   "execution_count": 292,
   "metadata": {
    "ExecuteTime": {
     "end_time": "2019-11-30T11:57:47.441226Z",
     "start_time": "2019-11-30T11:57:47.361894Z"
    }
   },
   "outputs": [],
   "source": [
    "tt_all.drop(['PassengerId','Name','Ticket','Cabin'],axis=1,inplace=True)"
   ]
  },
  {
   "cell_type": "code",
   "execution_count": 293,
   "metadata": {
    "ExecuteTime": {
     "end_time": "2019-11-30T11:57:47.550967Z",
     "start_time": "2019-11-30T11:57:47.444172Z"
    }
   },
   "outputs": [
    {
     "data": {
      "text/plain": [
       "Survived    float64\n",
       "Pclass        int64\n",
       "Sex          object\n",
       "Age         float64\n",
       "SibSp         int64\n",
       "Parch         int64\n",
       "Fare        float64\n",
       "Embarked     object\n",
       "data         object\n",
       "dtype: object"
      ]
     },
     "execution_count": 293,
     "metadata": {},
     "output_type": "execute_result"
    }
   ],
   "source": [
    "tt_all.dtypes"
   ]
  },
  {
   "cell_type": "code",
   "execution_count": 294,
   "metadata": {
    "ExecuteTime": {
     "end_time": "2019-11-30T11:57:47.652503Z",
     "start_time": "2019-11-30T11:57:47.554945Z"
    }
   },
   "outputs": [
    {
     "data": {
      "text/plain": [
       "Survived    418\n",
       "Pclass        0\n",
       "Sex           0\n",
       "Age         263\n",
       "SibSp         0\n",
       "Parch         0\n",
       "Fare          1\n",
       "Embarked      2\n",
       "data          0\n",
       "dtype: int64"
      ]
     },
     "execution_count": 294,
     "metadata": {},
     "output_type": "execute_result"
    }
   ],
   "source": [
    "\n",
    "tt_all.isnull().sum()"
   ]
  },
  {
   "cell_type": "code",
   "execution_count": 295,
   "metadata": {
    "ExecuteTime": {
     "end_time": "2019-11-30T11:57:47.771905Z",
     "start_time": "2019-11-30T11:57:47.655505Z"
    }
   },
   "outputs": [],
   "source": [
    "tt_all['Embarked'].fillna('S', inplace=True)"
   ]
  },
  {
   "cell_type": "code",
   "execution_count": 296,
   "metadata": {
    "ExecuteTime": {
     "end_time": "2019-11-30T11:57:47.897234Z",
     "start_time": "2019-11-30T11:57:47.775881Z"
    }
   },
   "outputs": [
    {
     "data": {
      "text/html": [
       "<div>\n",
       "<style scoped>\n",
       "    .dataframe tbody tr th:only-of-type {\n",
       "        vertical-align: middle;\n",
       "    }\n",
       "\n",
       "    .dataframe tbody tr th {\n",
       "        vertical-align: top;\n",
       "    }\n",
       "\n",
       "    .dataframe thead th {\n",
       "        text-align: right;\n",
       "    }\n",
       "</style>\n",
       "<table border=\"1\" class=\"dataframe\">\n",
       "  <thead>\n",
       "    <tr style=\"text-align: right;\">\n",
       "      <th></th>\n",
       "      <th>Survived</th>\n",
       "      <th>Pclass</th>\n",
       "      <th>Sex</th>\n",
       "      <th>Age</th>\n",
       "      <th>SibSp</th>\n",
       "      <th>Parch</th>\n",
       "      <th>Fare</th>\n",
       "      <th>Embarked</th>\n",
       "      <th>data</th>\n",
       "    </tr>\n",
       "  </thead>\n",
       "  <tbody>\n",
       "    <tr>\n",
       "      <td>0</td>\n",
       "      <td>0.0</td>\n",
       "      <td>3</td>\n",
       "      <td>male</td>\n",
       "      <td>22.0</td>\n",
       "      <td>1</td>\n",
       "      <td>0</td>\n",
       "      <td>7.2500</td>\n",
       "      <td>S</td>\n",
       "      <td>train</td>\n",
       "    </tr>\n",
       "    <tr>\n",
       "      <td>1</td>\n",
       "      <td>1.0</td>\n",
       "      <td>1</td>\n",
       "      <td>female</td>\n",
       "      <td>38.0</td>\n",
       "      <td>1</td>\n",
       "      <td>0</td>\n",
       "      <td>71.2833</td>\n",
       "      <td>C</td>\n",
       "      <td>train</td>\n",
       "    </tr>\n",
       "    <tr>\n",
       "      <td>2</td>\n",
       "      <td>1.0</td>\n",
       "      <td>3</td>\n",
       "      <td>female</td>\n",
       "      <td>26.0</td>\n",
       "      <td>0</td>\n",
       "      <td>0</td>\n",
       "      <td>7.9250</td>\n",
       "      <td>S</td>\n",
       "      <td>train</td>\n",
       "    </tr>\n",
       "    <tr>\n",
       "      <td>3</td>\n",
       "      <td>1.0</td>\n",
       "      <td>1</td>\n",
       "      <td>female</td>\n",
       "      <td>35.0</td>\n",
       "      <td>1</td>\n",
       "      <td>0</td>\n",
       "      <td>53.1000</td>\n",
       "      <td>S</td>\n",
       "      <td>train</td>\n",
       "    </tr>\n",
       "    <tr>\n",
       "      <td>4</td>\n",
       "      <td>0.0</td>\n",
       "      <td>3</td>\n",
       "      <td>male</td>\n",
       "      <td>35.0</td>\n",
       "      <td>0</td>\n",
       "      <td>0</td>\n",
       "      <td>8.0500</td>\n",
       "      <td>S</td>\n",
       "      <td>train</td>\n",
       "    </tr>\n",
       "  </tbody>\n",
       "</table>\n",
       "</div>"
      ],
      "text/plain": [
       "   Survived  Pclass     Sex   Age  SibSp  Parch     Fare Embarked   data\n",
       "0       0.0       3    male  22.0      1      0   7.2500        S  train\n",
       "1       1.0       1  female  38.0      1      0  71.2833        C  train\n",
       "2       1.0       3  female  26.0      0      0   7.9250        S  train\n",
       "3       1.0       1  female  35.0      1      0  53.1000        S  train\n",
       "4       0.0       3    male  35.0      0      0   8.0500        S  train"
      ]
     },
     "execution_count": 296,
     "metadata": {},
     "output_type": "execute_result"
    }
   ],
   "source": [
    "tt_all.head()"
   ]
  },
  {
   "cell_type": "code",
   "execution_count": null,
   "metadata": {},
   "outputs": [],
   "source": []
  },
  {
   "cell_type": "code",
   "execution_count": 297,
   "metadata": {
    "ExecuteTime": {
     "end_time": "2019-11-30T11:57:48.038205Z",
     "start_time": "2019-11-30T11:57:47.904229Z"
    }
   },
   "outputs": [],
   "source": [
    "for col in tt_all.columns:\n",
    "    if (col not in ['Survived'])& (tt_all[col].isnull().sum()>0):\n",
    "        tt_all.loc[tt_all[col].isnull(),col]=tt_all.loc[tt_all['data']=='train',col].mean()"
   ]
  },
  {
   "cell_type": "code",
   "execution_count": 298,
   "metadata": {
    "ExecuteTime": {
     "end_time": "2019-11-30T11:57:48.103113Z",
     "start_time": "2019-11-30T11:57:48.041149Z"
    }
   },
   "outputs": [
    {
     "data": {
      "text/plain": [
       "Index(['Sex', 'Embarked', 'data'], dtype='object')"
      ]
     },
     "execution_count": 298,
     "metadata": {},
     "output_type": "execute_result"
    }
   ],
   "source": [
    "cat_vars=tt_all.select_dtypes(['object']).columns\n",
    "\n",
    "cat_vars"
   ]
  },
  {
   "cell_type": "code",
   "execution_count": 299,
   "metadata": {
    "ExecuteTime": {
     "end_time": "2019-11-30T11:57:48.224046Z",
     "start_time": "2019-11-30T11:57:48.107113Z"
    }
   },
   "outputs": [
    {
     "name": "stdout",
     "output_type": "stream",
     "text": [
      "Sex\n",
      "Embarked\n"
     ]
    }
   ],
   "source": [
    "for col in cat_vars[:-1]:\n",
    "    dummy=pd.get_dummies(tt_all[col],drop_first=False,prefix=col)\n",
    "    tt_all=pd.concat([tt_all,dummy],axis=1)\n",
    "    del tt_all[col]\n",
    "    print(col)\n",
    "del dummy"
   ]
  },
  {
   "cell_type": "code",
   "execution_count": 300,
   "metadata": {
    "ExecuteTime": {
     "end_time": "2019-11-30T11:57:48.327778Z",
     "start_time": "2019-11-30T11:57:48.227042Z"
    }
   },
   "outputs": [
    {
     "data": {
      "text/plain": [
       "(1309, 12)"
      ]
     },
     "execution_count": 300,
     "metadata": {},
     "output_type": "execute_result"
    }
   ],
   "source": [
    "tt_all.shape"
   ]
  },
  {
   "cell_type": "code",
   "execution_count": 301,
   "metadata": {
    "ExecuteTime": {
     "end_time": "2019-11-30T11:57:48.438713Z",
     "start_time": "2019-11-30T11:57:48.331777Z"
    }
   },
   "outputs": [
    {
     "data": {
      "text/html": [
       "<div>\n",
       "<style scoped>\n",
       "    .dataframe tbody tr th:only-of-type {\n",
       "        vertical-align: middle;\n",
       "    }\n",
       "\n",
       "    .dataframe tbody tr th {\n",
       "        vertical-align: top;\n",
       "    }\n",
       "\n",
       "    .dataframe thead th {\n",
       "        text-align: right;\n",
       "    }\n",
       "</style>\n",
       "<table border=\"1\" class=\"dataframe\">\n",
       "  <thead>\n",
       "    <tr style=\"text-align: right;\">\n",
       "      <th></th>\n",
       "      <th>Survived</th>\n",
       "      <th>Pclass</th>\n",
       "      <th>Age</th>\n",
       "      <th>SibSp</th>\n",
       "      <th>Parch</th>\n",
       "      <th>Fare</th>\n",
       "      <th>data</th>\n",
       "      <th>Sex_female</th>\n",
       "      <th>Sex_male</th>\n",
       "      <th>Embarked_C</th>\n",
       "      <th>Embarked_Q</th>\n",
       "      <th>Embarked_S</th>\n",
       "    </tr>\n",
       "  </thead>\n",
       "  <tbody>\n",
       "    <tr>\n",
       "      <td>0</td>\n",
       "      <td>0.0</td>\n",
       "      <td>3</td>\n",
       "      <td>22.0</td>\n",
       "      <td>1</td>\n",
       "      <td>0</td>\n",
       "      <td>7.2500</td>\n",
       "      <td>train</td>\n",
       "      <td>0</td>\n",
       "      <td>1</td>\n",
       "      <td>0</td>\n",
       "      <td>0</td>\n",
       "      <td>1</td>\n",
       "    </tr>\n",
       "    <tr>\n",
       "      <td>1</td>\n",
       "      <td>1.0</td>\n",
       "      <td>1</td>\n",
       "      <td>38.0</td>\n",
       "      <td>1</td>\n",
       "      <td>0</td>\n",
       "      <td>71.2833</td>\n",
       "      <td>train</td>\n",
       "      <td>1</td>\n",
       "      <td>0</td>\n",
       "      <td>1</td>\n",
       "      <td>0</td>\n",
       "      <td>0</td>\n",
       "    </tr>\n",
       "    <tr>\n",
       "      <td>2</td>\n",
       "      <td>1.0</td>\n",
       "      <td>3</td>\n",
       "      <td>26.0</td>\n",
       "      <td>0</td>\n",
       "      <td>0</td>\n",
       "      <td>7.9250</td>\n",
       "      <td>train</td>\n",
       "      <td>1</td>\n",
       "      <td>0</td>\n",
       "      <td>0</td>\n",
       "      <td>0</td>\n",
       "      <td>1</td>\n",
       "    </tr>\n",
       "    <tr>\n",
       "      <td>3</td>\n",
       "      <td>1.0</td>\n",
       "      <td>1</td>\n",
       "      <td>35.0</td>\n",
       "      <td>1</td>\n",
       "      <td>0</td>\n",
       "      <td>53.1000</td>\n",
       "      <td>train</td>\n",
       "      <td>1</td>\n",
       "      <td>0</td>\n",
       "      <td>0</td>\n",
       "      <td>0</td>\n",
       "      <td>1</td>\n",
       "    </tr>\n",
       "    <tr>\n",
       "      <td>4</td>\n",
       "      <td>0.0</td>\n",
       "      <td>3</td>\n",
       "      <td>35.0</td>\n",
       "      <td>0</td>\n",
       "      <td>0</td>\n",
       "      <td>8.0500</td>\n",
       "      <td>train</td>\n",
       "      <td>0</td>\n",
       "      <td>1</td>\n",
       "      <td>0</td>\n",
       "      <td>0</td>\n",
       "      <td>1</td>\n",
       "    </tr>\n",
       "  </tbody>\n",
       "</table>\n",
       "</div>"
      ],
      "text/plain": [
       "   Survived  Pclass   Age  SibSp  Parch     Fare   data  Sex_female  Sex_male  \\\n",
       "0       0.0       3  22.0      1      0   7.2500  train           0         1   \n",
       "1       1.0       1  38.0      1      0  71.2833  train           1         0   \n",
       "2       1.0       3  26.0      0      0   7.9250  train           1         0   \n",
       "3       1.0       1  35.0      1      0  53.1000  train           1         0   \n",
       "4       0.0       3  35.0      0      0   8.0500  train           0         1   \n",
       "\n",
       "   Embarked_C  Embarked_Q  Embarked_S  \n",
       "0           0           0           1  \n",
       "1           1           0           0  \n",
       "2           0           0           1  \n",
       "3           0           0           1  \n",
       "4           0           0           1  "
      ]
     },
     "execution_count": 301,
     "metadata": {},
     "output_type": "execute_result"
    }
   ],
   "source": [
    "tt_all.head()"
   ]
  },
  {
   "cell_type": "code",
   "execution_count": 302,
   "metadata": {
    "ExecuteTime": {
     "end_time": "2019-11-30T11:57:48.534657Z",
     "start_time": "2019-11-30T11:57:48.447707Z"
    }
   },
   "outputs": [
    {
     "data": {
      "text/plain": [
       "Survived      418\n",
       "Pclass          0\n",
       "Age             0\n",
       "SibSp           0\n",
       "Parch           0\n",
       "Fare            0\n",
       "data            0\n",
       "Sex_female      0\n",
       "Sex_male        0\n",
       "Embarked_C      0\n",
       "Embarked_Q      0\n",
       "Embarked_S      0\n",
       "dtype: int64"
      ]
     },
     "execution_count": 302,
     "metadata": {},
     "output_type": "execute_result"
    }
   ],
   "source": [
    "tt_all.isnull().sum()"
   ]
  },
  {
   "cell_type": "code",
   "execution_count": 303,
   "metadata": {
    "ExecuteTime": {
     "end_time": "2019-11-30T11:57:48.701562Z",
     "start_time": "2019-11-30T11:57:48.539654Z"
    }
   },
   "outputs": [
    {
     "name": "stderr",
     "output_type": "stream",
     "text": [
      "C:\\Users\\Abhishek\\Anaconda3\\lib\\site-packages\\pandas\\core\\frame.py:4102: SettingWithCopyWarning: \n",
      "A value is trying to be set on a copy of a slice from a DataFrame\n",
      "\n",
      "See the caveats in the documentation: http://pandas.pydata.org/pandas-docs/stable/user_guide/indexing.html#returning-a-view-versus-a-copy\n",
      "  errors=errors,\n"
     ]
    }
   ],
   "source": [
    "tt_train=tt_all[tt_all['data']=='train']\n",
    "del tt_train['data']\n",
    "tt_test=tt_all[tt_all['data']=='test']\n",
    "tt_test.drop(['Survived','data'],axis=1,inplace=True)"
   ]
  },
  {
   "cell_type": "code",
   "execution_count": 304,
   "metadata": {
    "ExecuteTime": {
     "end_time": "2019-11-30T11:57:48.781517Z",
     "start_time": "2019-11-30T11:57:48.705560Z"
    }
   },
   "outputs": [],
   "source": [
    "from sklearn.linear_model import LogisticRegression\n",
    "from sklearn.metrics import roc_auc_score\n",
    "from sklearn.linear_model import LogisticRegression\n",
    "from sklearn.model_selection import GridSearchCV"
   ]
  },
  {
   "cell_type": "code",
   "execution_count": 305,
   "metadata": {
    "ExecuteTime": {
     "end_time": "2019-11-30T11:57:48.871463Z",
     "start_time": "2019-11-30T11:57:48.787512Z"
    }
   },
   "outputs": [],
   "source": [
    "params={'class_weight':['balanced',None],\n",
    "        'penalty':['l1','l2'],\n",
    "        'C':np.linspace(0.001,0.5,10)}"
   ]
  },
  {
   "cell_type": "code",
   "execution_count": 306,
   "metadata": {
    "ExecuteTime": {
     "end_time": "2019-11-30T11:57:48.970407Z",
     "start_time": "2019-11-30T11:57:48.875462Z"
    }
   },
   "outputs": [],
   "source": [
    "model=LogisticRegression(fit_intercept=True)"
   ]
  },
  {
   "cell_type": "code",
   "execution_count": 307,
   "metadata": {
    "ExecuteTime": {
     "end_time": "2019-11-30T11:57:49.078346Z",
     "start_time": "2019-11-30T11:57:48.974405Z"
    }
   },
   "outputs": [],
   "source": [
    "grid_search=GridSearchCV(model,param_grid=params,cv=5,scoring=\"roc_auc\",verbose=4)"
   ]
  },
  {
   "cell_type": "code",
   "execution_count": 308,
   "metadata": {
    "ExecuteTime": {
     "end_time": "2019-11-30T11:57:49.185285Z",
     "start_time": "2019-11-30T11:57:49.085342Z"
    }
   },
   "outputs": [],
   "source": [
    "x_train=tt_train.drop('Survived',axis=1)\n",
    "y_train=tt_train['Survived']\n",
    "\n"
   ]
  },
  {
   "cell_type": "code",
   "execution_count": 309,
   "metadata": {
    "ExecuteTime": {
     "end_time": "2019-11-30T11:57:52.641303Z",
     "start_time": "2019-11-30T11:57:49.189282Z"
    }
   },
   "outputs": [
    {
     "name": "stdout",
     "output_type": "stream",
     "text": [
      "Fitting 5 folds for each of 40 candidates, totalling 200 fits\n",
      "[CV] C=0.001, class_weight=balanced, penalty=l1 ......................\n",
      "[CV]  C=0.001, class_weight=balanced, penalty=l1, score=0.565, total=   0.0s\n",
      "[CV] C=0.001, class_weight=balanced, penalty=l1 ......................\n",
      "[CV]  C=0.001, class_weight=balanced, penalty=l1, score=0.733, total=   0.0s\n",
      "[CV] C=0.001, class_weight=balanced, penalty=l1 ......................\n",
      "[CV]  C=0.001, class_weight=balanced, penalty=l1, score=0.696, total=   0.0s\n",
      "[CV] C=0.001, class_weight=balanced, penalty=l1 ......................\n",
      "[CV]  C=0.001, class_weight=balanced, penalty=l1, score=0.754, total=   0.0s\n",
      "[CV] C=0.001, class_weight=balanced, penalty=l1 ......................\n",
      "[CV]  C=0.001, class_weight=balanced, penalty=l1, score=0.768, total=   0.0s\n",
      "[CV] C=0.001, class_weight=balanced, penalty=l2 ......................\n",
      "[CV]  C=0.001, class_weight=balanced, penalty=l2, score=0.637, total=   0.0s\n",
      "[CV] C=0.001, class_weight=balanced, penalty=l2 ......................\n",
      "[CV]  C=0.001, class_weight=balanced, penalty=l2, score=0.800, total=   0.0s\n",
      "[CV] C=0.001, class_weight=balanced, penalty=l2 ......................\n",
      "[CV]  C=0.001, class_weight=balanced, penalty=l2, score=0.746, total=   0.0s\n",
      "[CV] C=0.001, class_weight=balanced, penalty=l2 ......................\n",
      "[CV]  C=0.001, class_weight=balanced, penalty=l2, score=0.800, total=   0.0s\n",
      "[CV] C=0.001, class_weight=balanced, penalty=l2 ......................\n",
      "[CV]  C=0.001, class_weight=balanced, penalty=l2, score=0.818, total=   0.0s\n",
      "[CV] C=0.001, class_weight=None, penalty=l1 ..........................\n",
      "[CV]  C=0.001, class_weight=None, penalty=l1, score=0.573, total=   0.0s\n",
      "[CV] C=0.001, class_weight=None, penalty=l1 ..........................\n",
      "[CV]  C=0.001, class_weight=None, penalty=l1, score=0.718, total=   0.0s\n",
      "[CV] C=0.001, class_weight=None, penalty=l1 ..........................\n",
      "[CV]  C=0.001, class_weight=None, penalty=l1, score=0.628, total=   0.0s"
     ]
    },
    {
     "name": "stderr",
     "output_type": "stream",
     "text": [
      "[Parallel(n_jobs=1)]: Using backend SequentialBackend with 1 concurrent workers.\n",
      "C:\\Users\\Abhishek\\Anaconda3\\lib\\site-packages\\sklearn\\linear_model\\logistic.py:432: FutureWarning: Default solver will be changed to 'lbfgs' in 0.22. Specify a solver to silence this warning.\n",
      "  FutureWarning)\n",
      "[Parallel(n_jobs=1)]: Done   1 out of   1 | elapsed:    0.0s remaining:    0.0s\n",
      "C:\\Users\\Abhishek\\Anaconda3\\lib\\site-packages\\sklearn\\linear_model\\logistic.py:432: FutureWarning: Default solver will be changed to 'lbfgs' in 0.22. Specify a solver to silence this warning.\n",
      "  FutureWarning)\n",
      "[Parallel(n_jobs=1)]: Done   2 out of   2 | elapsed:    0.0s remaining:    0.0s\n",
      "C:\\Users\\Abhishek\\Anaconda3\\lib\\site-packages\\sklearn\\linear_model\\logistic.py:432: FutureWarning: Default solver will be changed to 'lbfgs' in 0.22. Specify a solver to silence this warning.\n",
      "  FutureWarning)\n",
      "[Parallel(n_jobs=1)]: Done   3 out of   3 | elapsed:    0.0s remaining:    0.0s\n",
      "C:\\Users\\Abhishek\\Anaconda3\\lib\\site-packages\\sklearn\\linear_model\\logistic.py:432: FutureWarning: Default solver will be changed to 'lbfgs' in 0.22. Specify a solver to silence this warning.\n",
      "  FutureWarning)\n",
      "C:\\Users\\Abhishek\\Anaconda3\\lib\\site-packages\\sklearn\\linear_model\\logistic.py:432: FutureWarning: Default solver will be changed to 'lbfgs' in 0.22. Specify a solver to silence this warning.\n",
      "  FutureWarning)\n",
      "C:\\Users\\Abhishek\\Anaconda3\\lib\\site-packages\\sklearn\\linear_model\\logistic.py:432: FutureWarning: Default solver will be changed to 'lbfgs' in 0.22. Specify a solver to silence this warning.\n",
      "  FutureWarning)\n",
      "C:\\Users\\Abhishek\\Anaconda3\\lib\\site-packages\\sklearn\\linear_model\\logistic.py:432: FutureWarning: Default solver will be changed to 'lbfgs' in 0.22. Specify a solver to silence this warning.\n",
      "  FutureWarning)\n",
      "C:\\Users\\Abhishek\\Anaconda3\\lib\\site-packages\\sklearn\\linear_model\\logistic.py:432: FutureWarning: Default solver will be changed to 'lbfgs' in 0.22. Specify a solver to silence this warning.\n",
      "  FutureWarning)\n",
      "C:\\Users\\Abhishek\\Anaconda3\\lib\\site-packages\\sklearn\\linear_model\\logistic.py:432: FutureWarning: Default solver will be changed to 'lbfgs' in 0.22. Specify a solver to silence this warning.\n",
      "  FutureWarning)\n",
      "C:\\Users\\Abhishek\\Anaconda3\\lib\\site-packages\\sklearn\\linear_model\\logistic.py:432: FutureWarning: Default solver will be changed to 'lbfgs' in 0.22. Specify a solver to silence this warning.\n",
      "  FutureWarning)\n",
      "C:\\Users\\Abhishek\\Anaconda3\\lib\\site-packages\\sklearn\\linear_model\\logistic.py:432: FutureWarning: Default solver will be changed to 'lbfgs' in 0.22. Specify a solver to silence this warning.\n",
      "  FutureWarning)\n",
      "C:\\Users\\Abhishek\\Anaconda3\\lib\\site-packages\\sklearn\\linear_model\\logistic.py:432: FutureWarning: Default solver will be changed to 'lbfgs' in 0.22. Specify a solver to silence this warning.\n",
      "  FutureWarning)\n",
      "C:\\Users\\Abhishek\\Anaconda3\\lib\\site-packages\\sklearn\\linear_model\\logistic.py:432: FutureWarning: Default solver will be changed to 'lbfgs' in 0.22. Specify a solver to silence this warning.\n",
      "  FutureWarning)\n"
     ]
    },
    {
     "name": "stdout",
     "output_type": "stream",
     "text": [
      "\n",
      "[CV] C=0.001, class_weight=None, penalty=l1 ..........................\n",
      "[CV]  C=0.001, class_weight=None, penalty=l1, score=0.679, total=   0.0s\n",
      "[CV] C=0.001, class_weight=None, penalty=l1 ..........................\n",
      "[CV]  C=0.001, class_weight=None, penalty=l1, score=0.679, total=   0.0s\n",
      "[CV] C=0.001, class_weight=None, penalty=l2 ..........................\n",
      "[CV]  C=0.001, class_weight=None, penalty=l2, score=0.640, total=   0.0s\n",
      "[CV] C=0.001, class_weight=None, penalty=l2 ..........................\n",
      "[CV]  C=0.001, class_weight=None, penalty=l2, score=0.792, total=   0.0s\n",
      "[CV] C=0.001, class_weight=None, penalty=l2 ..........................\n",
      "[CV]  C=0.001, class_weight=None, penalty=l2, score=0.727, total=   0.0s\n",
      "[CV] C=0.001, class_weight=None, penalty=l2 ..........................\n",
      "[CV]  C=0.001, class_weight=None, penalty=l2, score=0.773, total=   0.0s\n",
      "[CV] C=0.001, class_weight=None, penalty=l2 ..........................\n",
      "[CV]  C=0.001, class_weight=None, penalty=l2, score=0.797, total=   0.0s\n",
      "[CV] C=0.05644444444444444, class_weight=balanced, penalty=l1 ........\n",
      "[CV]  C=0.05644444444444444, class_weight=balanced, penalty=l1, score=0.827, total=   0.0s\n",
      "[CV] C=0.05644444444444444, class_weight=balanced, penalty=l1 ........\n",
      "[CV]  C=0.05644444444444444, class_weight=balanced, penalty=l1, score=0.835, total=   0.0s\n",
      "[CV] C=0.05644444444444444, class_weight=balanced, penalty=l1 ........\n",
      "[CV]  C=0.05644444444444444, class_weight=balanced, penalty=l1, score=0.834, total=   0.0s\n",
      "[CV] C=0.05644444444444444, class_weight=balanced, penalty=l1 ........\n",
      "[CV]  C=0.05644444444444444, class_weight=balanced, penalty=l1, score=0.838, total=   0.0s\n",
      "[CV] C=0.05644444444444444, class_weight=balanced, penalty=l1 ........\n",
      "[CV]  C=0.05644444444444444, class_weight=balanced, penalty=l1, score=0.869, total=   0.0s\n",
      "[CV] C=0.05644444444444444, class_weight=balanced, penalty=l2 ........\n"
     ]
    },
    {
     "name": "stderr",
     "output_type": "stream",
     "text": [
      "C:\\Users\\Abhishek\\Anaconda3\\lib\\site-packages\\sklearn\\linear_model\\logistic.py:432: FutureWarning: Default solver will be changed to 'lbfgs' in 0.22. Specify a solver to silence this warning.\n",
      "  FutureWarning)\n",
      "C:\\Users\\Abhishek\\Anaconda3\\lib\\site-packages\\sklearn\\linear_model\\logistic.py:432: FutureWarning: Default solver will be changed to 'lbfgs' in 0.22. Specify a solver to silence this warning.\n",
      "  FutureWarning)\n",
      "C:\\Users\\Abhishek\\Anaconda3\\lib\\site-packages\\sklearn\\linear_model\\logistic.py:432: FutureWarning: Default solver will be changed to 'lbfgs' in 0.22. Specify a solver to silence this warning.\n",
      "  FutureWarning)\n",
      "C:\\Users\\Abhishek\\Anaconda3\\lib\\site-packages\\sklearn\\linear_model\\logistic.py:432: FutureWarning: Default solver will be changed to 'lbfgs' in 0.22. Specify a solver to silence this warning.\n",
      "  FutureWarning)\n",
      "C:\\Users\\Abhishek\\Anaconda3\\lib\\site-packages\\sklearn\\linear_model\\logistic.py:432: FutureWarning: Default solver will be changed to 'lbfgs' in 0.22. Specify a solver to silence this warning.\n",
      "  FutureWarning)\n",
      "C:\\Users\\Abhishek\\Anaconda3\\lib\\site-packages\\sklearn\\linear_model\\logistic.py:432: FutureWarning: Default solver will be changed to 'lbfgs' in 0.22. Specify a solver to silence this warning.\n",
      "  FutureWarning)\n",
      "C:\\Users\\Abhishek\\Anaconda3\\lib\\site-packages\\sklearn\\linear_model\\logistic.py:432: FutureWarning: Default solver will be changed to 'lbfgs' in 0.22. Specify a solver to silence this warning.\n",
      "  FutureWarning)\n",
      "C:\\Users\\Abhishek\\Anaconda3\\lib\\site-packages\\sklearn\\linear_model\\logistic.py:432: FutureWarning: Default solver will be changed to 'lbfgs' in 0.22. Specify a solver to silence this warning.\n",
      "  FutureWarning)\n",
      "C:\\Users\\Abhishek\\Anaconda3\\lib\\site-packages\\sklearn\\linear_model\\logistic.py:432: FutureWarning: Default solver will be changed to 'lbfgs' in 0.22. Specify a solver to silence this warning.\n",
      "  FutureWarning)\n",
      "C:\\Users\\Abhishek\\Anaconda3\\lib\\site-packages\\sklearn\\linear_model\\logistic.py:432: FutureWarning: Default solver will be changed to 'lbfgs' in 0.22. Specify a solver to silence this warning.\n",
      "  FutureWarning)\n",
      "C:\\Users\\Abhishek\\Anaconda3\\lib\\site-packages\\sklearn\\linear_model\\logistic.py:432: FutureWarning: Default solver will be changed to 'lbfgs' in 0.22. Specify a solver to silence this warning.\n",
      "  FutureWarning)\n",
      "C:\\Users\\Abhishek\\Anaconda3\\lib\\site-packages\\sklearn\\linear_model\\logistic.py:432: FutureWarning: Default solver will be changed to 'lbfgs' in 0.22. Specify a solver to silence this warning.\n",
      "  FutureWarning)\n"
     ]
    },
    {
     "name": "stdout",
     "output_type": "stream",
     "text": [
      "[CV]  C=0.05644444444444444, class_weight=balanced, penalty=l2, score=0.838, total=   0.0s\n",
      "[CV] C=0.05644444444444444, class_weight=balanced, penalty=l2 ........\n",
      "[CV]  C=0.05644444444444444, class_weight=balanced, penalty=l2, score=0.827, total=   0.0s\n",
      "[CV] C=0.05644444444444444, class_weight=balanced, penalty=l2 ........\n",
      "[CV]  C=0.05644444444444444, class_weight=balanced, penalty=l2, score=0.835, total=   0.0s\n",
      "[CV] C=0.05644444444444444, class_weight=balanced, penalty=l2 ........\n",
      "[CV]  C=0.05644444444444444, class_weight=balanced, penalty=l2, score=0.839, total=   0.0s\n",
      "[CV] C=0.05644444444444444, class_weight=balanced, penalty=l2 ........\n",
      "[CV]  C=0.05644444444444444, class_weight=balanced, penalty=l2, score=0.860, total=   0.0s\n",
      "[CV] C=0.05644444444444444, class_weight=None, penalty=l1 ............\n",
      "[CV]  C=0.05644444444444444, class_weight=None, penalty=l1, score=0.827, total=   0.0s\n",
      "[CV] C=0.05644444444444444, class_weight=None, penalty=l1 ............\n",
      "[CV]  C=0.05644444444444444, class_weight=None, penalty=l1, score=0.836, total=   0.0s\n",
      "[CV] C=0.05644444444444444, class_weight=None, penalty=l1 ............\n",
      "[CV]  C=0.05644444444444444, class_weight=None, penalty=l1, score=0.837, total=   0.0s\n",
      "[CV] C=0.05644444444444444, class_weight=None, penalty=l1 ............\n",
      "[CV]  C=0.05644444444444444, class_weight=None, penalty=l1, score=0.845, total=   0.0s\n",
      "[CV] C=0.05644444444444444, class_weight=None, penalty=l1 ............\n",
      "[CV]  C=0.05644444444444444, class_weight=None, penalty=l1, score=0.868, total=   0.0s\n",
      "[CV] C=0.05644444444444444, class_weight=None, penalty=l2 ............\n",
      "[CV]  C=0.05644444444444444, class_weight=None, penalty=l2, score=0.839, total=   0.0s\n",
      "[CV] C=0.05644444444444444, class_weight=None, penalty=l2 ............\n",
      "[CV]  C=0.05644444444444444, class_weight=None, penalty=l2, score=0.828, total=   0.0s\n",
      "[CV] C=0.05644444444444444, class_weight=None, penalty=l2 ............\n",
      "[CV]  C=0.05644444444444444, class_weight=None, penalty=l2, score=0.835, total=   0.0s"
     ]
    },
    {
     "name": "stderr",
     "output_type": "stream",
     "text": [
      "C:\\Users\\Abhishek\\Anaconda3\\lib\\site-packages\\sklearn\\linear_model\\logistic.py:432: FutureWarning: Default solver will be changed to 'lbfgs' in 0.22. Specify a solver to silence this warning.\n",
      "  FutureWarning)\n",
      "C:\\Users\\Abhishek\\Anaconda3\\lib\\site-packages\\sklearn\\linear_model\\logistic.py:432: FutureWarning: Default solver will be changed to 'lbfgs' in 0.22. Specify a solver to silence this warning.\n",
      "  FutureWarning)\n",
      "C:\\Users\\Abhishek\\Anaconda3\\lib\\site-packages\\sklearn\\linear_model\\logistic.py:432: FutureWarning: Default solver will be changed to 'lbfgs' in 0.22. Specify a solver to silence this warning.\n",
      "  FutureWarning)\n",
      "C:\\Users\\Abhishek\\Anaconda3\\lib\\site-packages\\sklearn\\linear_model\\logistic.py:432: FutureWarning: Default solver will be changed to 'lbfgs' in 0.22. Specify a solver to silence this warning.\n",
      "  FutureWarning)\n",
      "C:\\Users\\Abhishek\\Anaconda3\\lib\\site-packages\\sklearn\\linear_model\\logistic.py:432: FutureWarning: Default solver will be changed to 'lbfgs' in 0.22. Specify a solver to silence this warning.\n",
      "  FutureWarning)\n",
      "C:\\Users\\Abhishek\\Anaconda3\\lib\\site-packages\\sklearn\\linear_model\\logistic.py:432: FutureWarning: Default solver will be changed to 'lbfgs' in 0.22. Specify a solver to silence this warning.\n",
      "  FutureWarning)\n",
      "C:\\Users\\Abhishek\\Anaconda3\\lib\\site-packages\\sklearn\\linear_model\\logistic.py:432: FutureWarning: Default solver will be changed to 'lbfgs' in 0.22. Specify a solver to silence this warning.\n",
      "  FutureWarning)\n",
      "C:\\Users\\Abhishek\\Anaconda3\\lib\\site-packages\\sklearn\\linear_model\\logistic.py:432: FutureWarning: Default solver will be changed to 'lbfgs' in 0.22. Specify a solver to silence this warning.\n",
      "  FutureWarning)\n",
      "C:\\Users\\Abhishek\\Anaconda3\\lib\\site-packages\\sklearn\\linear_model\\logistic.py:432: FutureWarning: Default solver will be changed to 'lbfgs' in 0.22. Specify a solver to silence this warning.\n",
      "  FutureWarning)\n",
      "C:\\Users\\Abhishek\\Anaconda3\\lib\\site-packages\\sklearn\\linear_model\\logistic.py:432: FutureWarning: Default solver will be changed to 'lbfgs' in 0.22. Specify a solver to silence this warning.\n",
      "  FutureWarning)\n",
      "C:\\Users\\Abhishek\\Anaconda3\\lib\\site-packages\\sklearn\\linear_model\\logistic.py:432: FutureWarning: Default solver will be changed to 'lbfgs' in 0.22. Specify a solver to silence this warning.\n",
      "  FutureWarning)\n",
      "C:\\Users\\Abhishek\\Anaconda3\\lib\\site-packages\\sklearn\\linear_model\\logistic.py:432: FutureWarning: Default solver will be changed to 'lbfgs' in 0.22. Specify a solver to silence this warning.\n",
      "  FutureWarning)\n",
      "C:\\Users\\Abhishek\\Anaconda3\\lib\\site-packages\\sklearn\\linear_model\\logistic.py:432: FutureWarning: Default solver will be changed to 'lbfgs' in 0.22. Specify a solver to silence this warning.\n",
      "  FutureWarning)\n"
     ]
    },
    {
     "name": "stdout",
     "output_type": "stream",
     "text": [
      "\n",
      "[CV] C=0.05644444444444444, class_weight=None, penalty=l2 ............\n",
      "[CV]  C=0.05644444444444444, class_weight=None, penalty=l2, score=0.842, total=   0.0s\n",
      "[CV] C=0.05644444444444444, class_weight=None, penalty=l2 ............\n",
      "[CV]  C=0.05644444444444444, class_weight=None, penalty=l2, score=0.860, total=   0.0s\n",
      "[CV] C=0.11188888888888888, class_weight=balanced, penalty=l1 ........\n",
      "[CV]  C=0.11188888888888888, class_weight=balanced, penalty=l1, score=0.846, total=   0.0s\n",
      "[CV] C=0.11188888888888888, class_weight=balanced, penalty=l1 ........\n",
      "[CV]  C=0.11188888888888888, class_weight=balanced, penalty=l1, score=0.829, total=   0.0s\n",
      "[CV] C=0.11188888888888888, class_weight=balanced, penalty=l1 ........\n",
      "[CV]  C=0.11188888888888888, class_weight=balanced, penalty=l1, score=0.839, total=   0.0s\n",
      "[CV] C=0.11188888888888888, class_weight=balanced, penalty=l1 ........\n",
      "[CV]  C=0.11188888888888888, class_weight=balanced, penalty=l1, score=0.839, total=   0.0s\n",
      "[CV] C=0.11188888888888888, class_weight=balanced, penalty=l1 ........\n",
      "[CV]  C=0.11188888888888888, class_weight=balanced, penalty=l1, score=0.862, total=   0.0s\n",
      "[CV] C=0.11188888888888888, class_weight=balanced, penalty=l2 ........\n",
      "[CV]  C=0.11188888888888888, class_weight=balanced, penalty=l2, score=0.839, total=   0.0s\n",
      "[CV] C=0.11188888888888888, class_weight=balanced, penalty=l2 ........\n",
      "[CV]  C=0.11188888888888888, class_weight=balanced, penalty=l2, score=0.830, total=   0.0s\n",
      "[CV] C=0.11188888888888888, class_weight=balanced, penalty=l2 ........\n",
      "[CV]  C=0.11188888888888888, class_weight=balanced, penalty=l2, score=0.837, total=   0.0s\n",
      "[CV] C=0.11188888888888888, class_weight=balanced, penalty=l2 ........\n",
      "[CV]  C=0.11188888888888888, class_weight=balanced, penalty=l2, score=0.841, total=   0.0s\n",
      "[CV] C=0.11188888888888888, class_weight=balanced, penalty=l2 ........\n",
      "[CV]  C=0.11188888888888888, class_weight=balanced, penalty=l2, score=0.860, total=   0.0s"
     ]
    },
    {
     "name": "stderr",
     "output_type": "stream",
     "text": [
      "C:\\Users\\Abhishek\\Anaconda3\\lib\\site-packages\\sklearn\\linear_model\\logistic.py:432: FutureWarning: Default solver will be changed to 'lbfgs' in 0.22. Specify a solver to silence this warning.\n",
      "  FutureWarning)\n",
      "C:\\Users\\Abhishek\\Anaconda3\\lib\\site-packages\\sklearn\\linear_model\\logistic.py:432: FutureWarning: Default solver will be changed to 'lbfgs' in 0.22. Specify a solver to silence this warning.\n",
      "  FutureWarning)\n",
      "C:\\Users\\Abhishek\\Anaconda3\\lib\\site-packages\\sklearn\\linear_model\\logistic.py:432: FutureWarning: Default solver will be changed to 'lbfgs' in 0.22. Specify a solver to silence this warning.\n",
      "  FutureWarning)\n",
      "C:\\Users\\Abhishek\\Anaconda3\\lib\\site-packages\\sklearn\\linear_model\\logistic.py:432: FutureWarning: Default solver will be changed to 'lbfgs' in 0.22. Specify a solver to silence this warning.\n",
      "  FutureWarning)\n",
      "C:\\Users\\Abhishek\\Anaconda3\\lib\\site-packages\\sklearn\\linear_model\\logistic.py:432: FutureWarning: Default solver will be changed to 'lbfgs' in 0.22. Specify a solver to silence this warning.\n",
      "  FutureWarning)\n",
      "C:\\Users\\Abhishek\\Anaconda3\\lib\\site-packages\\sklearn\\linear_model\\logistic.py:432: FutureWarning: Default solver will be changed to 'lbfgs' in 0.22. Specify a solver to silence this warning.\n",
      "  FutureWarning)\n",
      "C:\\Users\\Abhishek\\Anaconda3\\lib\\site-packages\\sklearn\\linear_model\\logistic.py:432: FutureWarning: Default solver will be changed to 'lbfgs' in 0.22. Specify a solver to silence this warning.\n",
      "  FutureWarning)\n",
      "C:\\Users\\Abhishek\\Anaconda3\\lib\\site-packages\\sklearn\\linear_model\\logistic.py:432: FutureWarning: Default solver will be changed to 'lbfgs' in 0.22. Specify a solver to silence this warning.\n",
      "  FutureWarning)\n",
      "C:\\Users\\Abhishek\\Anaconda3\\lib\\site-packages\\sklearn\\linear_model\\logistic.py:432: FutureWarning: Default solver will be changed to 'lbfgs' in 0.22. Specify a solver to silence this warning.\n",
      "  FutureWarning)\n",
      "C:\\Users\\Abhishek\\Anaconda3\\lib\\site-packages\\sklearn\\linear_model\\logistic.py:432: FutureWarning: Default solver will be changed to 'lbfgs' in 0.22. Specify a solver to silence this warning.\n",
      "  FutureWarning)\n",
      "C:\\Users\\Abhishek\\Anaconda3\\lib\\site-packages\\sklearn\\linear_model\\logistic.py:432: FutureWarning: Default solver will be changed to 'lbfgs' in 0.22. Specify a solver to silence this warning.\n",
      "  FutureWarning)\n",
      "C:\\Users\\Abhishek\\Anaconda3\\lib\\site-packages\\sklearn\\linear_model\\logistic.py:432: FutureWarning: Default solver will be changed to 'lbfgs' in 0.22. Specify a solver to silence this warning.\n",
      "  FutureWarning)\n",
      "C:\\Users\\Abhishek\\Anaconda3\\lib\\site-packages\\sklearn\\linear_model\\logistic.py:432: FutureWarning: Default solver will be changed to 'lbfgs' in 0.22. Specify a solver to silence this warning.\n",
      "  FutureWarning)\n"
     ]
    },
    {
     "name": "stdout",
     "output_type": "stream",
     "text": [
      "\n",
      "[CV] C=0.11188888888888888, class_weight=None, penalty=l1 ............\n",
      "[CV]  C=0.11188888888888888, class_weight=None, penalty=l1, score=0.843, total=   0.0s\n",
      "[CV] C=0.11188888888888888, class_weight=None, penalty=l1 ............\n",
      "[CV]  C=0.11188888888888888, class_weight=None, penalty=l1, score=0.831, total=   0.0s\n",
      "[CV] C=0.11188888888888888, class_weight=None, penalty=l1 ............\n",
      "[CV]  C=0.11188888888888888, class_weight=None, penalty=l1, score=0.844, total=   0.0s\n",
      "[CV] C=0.11188888888888888, class_weight=None, penalty=l1 ............\n",
      "[CV]  C=0.11188888888888888, class_weight=None, penalty=l1, score=0.845, total=   0.0s\n",
      "[CV] C=0.11188888888888888, class_weight=None, penalty=l1 ............\n",
      "[CV]  C=0.11188888888888888, class_weight=None, penalty=l1, score=0.864, total=   0.0s\n",
      "[CV] C=0.11188888888888888, class_weight=None, penalty=l2 ............\n",
      "[CV]  C=0.11188888888888888, class_weight=None, penalty=l2, score=0.841, total=   0.0s\n",
      "[CV] C=0.11188888888888888, class_weight=None, penalty=l2 ............\n",
      "[CV]  C=0.11188888888888888, class_weight=None, penalty=l2, score=0.830, total=   0.0s\n",
      "[CV] C=0.11188888888888888, class_weight=None, penalty=l2 ............\n",
      "[CV]  C=0.11188888888888888, class_weight=None, penalty=l2, score=0.840, total=   0.0s\n",
      "[CV] C=0.11188888888888888, class_weight=None, penalty=l2 ............\n",
      "[CV]  C=0.11188888888888888, class_weight=None, penalty=l2, score=0.846, total=   0.0s\n",
      "[CV] C=0.11188888888888888, class_weight=None, penalty=l2 ............\n",
      "[CV]  C=0.11188888888888888, class_weight=None, penalty=l2, score=0.860, total=   0.0s\n",
      "[CV] C=0.16733333333333333, class_weight=balanced, penalty=l1 ........\n",
      "[CV]  C=0.16733333333333333, class_weight=balanced, penalty=l1, score=0.846, total=   0.0s"
     ]
    },
    {
     "name": "stderr",
     "output_type": "stream",
     "text": [
      "C:\\Users\\Abhishek\\Anaconda3\\lib\\site-packages\\sklearn\\linear_model\\logistic.py:432: FutureWarning: Default solver will be changed to 'lbfgs' in 0.22. Specify a solver to silence this warning.\n",
      "  FutureWarning)\n",
      "C:\\Users\\Abhishek\\Anaconda3\\lib\\site-packages\\sklearn\\linear_model\\logistic.py:432: FutureWarning: Default solver will be changed to 'lbfgs' in 0.22. Specify a solver to silence this warning.\n",
      "  FutureWarning)\n",
      "C:\\Users\\Abhishek\\Anaconda3\\lib\\site-packages\\sklearn\\linear_model\\logistic.py:432: FutureWarning: Default solver will be changed to 'lbfgs' in 0.22. Specify a solver to silence this warning.\n",
      "  FutureWarning)\n",
      "C:\\Users\\Abhishek\\Anaconda3\\lib\\site-packages\\sklearn\\linear_model\\logistic.py:432: FutureWarning: Default solver will be changed to 'lbfgs' in 0.22. Specify a solver to silence this warning.\n",
      "  FutureWarning)\n",
      "C:\\Users\\Abhishek\\Anaconda3\\lib\\site-packages\\sklearn\\linear_model\\logistic.py:432: FutureWarning: Default solver will be changed to 'lbfgs' in 0.22. Specify a solver to silence this warning.\n",
      "  FutureWarning)\n",
      "C:\\Users\\Abhishek\\Anaconda3\\lib\\site-packages\\sklearn\\linear_model\\logistic.py:432: FutureWarning: Default solver will be changed to 'lbfgs' in 0.22. Specify a solver to silence this warning.\n",
      "  FutureWarning)\n",
      "C:\\Users\\Abhishek\\Anaconda3\\lib\\site-packages\\sklearn\\linear_model\\logistic.py:432: FutureWarning: Default solver will be changed to 'lbfgs' in 0.22. Specify a solver to silence this warning.\n",
      "  FutureWarning)\n",
      "C:\\Users\\Abhishek\\Anaconda3\\lib\\site-packages\\sklearn\\linear_model\\logistic.py:432: FutureWarning: Default solver will be changed to 'lbfgs' in 0.22. Specify a solver to silence this warning.\n",
      "  FutureWarning)\n",
      "C:\\Users\\Abhishek\\Anaconda3\\lib\\site-packages\\sklearn\\linear_model\\logistic.py:432: FutureWarning: Default solver will be changed to 'lbfgs' in 0.22. Specify a solver to silence this warning.\n",
      "  FutureWarning)\n",
      "C:\\Users\\Abhishek\\Anaconda3\\lib\\site-packages\\sklearn\\linear_model\\logistic.py:432: FutureWarning: Default solver will be changed to 'lbfgs' in 0.22. Specify a solver to silence this warning.\n",
      "  FutureWarning)\n",
      "C:\\Users\\Abhishek\\Anaconda3\\lib\\site-packages\\sklearn\\linear_model\\logistic.py:432: FutureWarning: Default solver will be changed to 'lbfgs' in 0.22. Specify a solver to silence this warning.\n",
      "  FutureWarning)\n"
     ]
    },
    {
     "name": "stdout",
     "output_type": "stream",
     "text": [
      "\n",
      "[CV] C=0.16733333333333333, class_weight=balanced, penalty=l1 ........\n",
      "[CV]  C=0.16733333333333333, class_weight=balanced, penalty=l1, score=0.836, total=   0.0s\n",
      "[CV] C=0.16733333333333333, class_weight=balanced, penalty=l1 ........\n",
      "[CV]  C=0.16733333333333333, class_weight=balanced, penalty=l1, score=0.840, total=   0.0s\n",
      "[CV] C=0.16733333333333333, class_weight=balanced, penalty=l1 ........\n",
      "[CV]  C=0.16733333333333333, class_weight=balanced, penalty=l1, score=0.842, total=   0.0s\n",
      "[CV] C=0.16733333333333333, class_weight=balanced, penalty=l1 ........\n",
      "[CV]  C=0.16733333333333333, class_weight=balanced, penalty=l1, score=0.864, total=   0.0s\n",
      "[CV] C=0.16733333333333333, class_weight=balanced, penalty=l2 ........\n",
      "[CV]  C=0.16733333333333333, class_weight=balanced, penalty=l2, score=0.841, total=   0.0s\n",
      "[CV] C=0.16733333333333333, class_weight=balanced, penalty=l2 ........\n",
      "[CV]  C=0.16733333333333333, class_weight=balanced, penalty=l2, score=0.832, total=   0.0s\n",
      "[CV] C=0.16733333333333333, class_weight=balanced, penalty=l2 ........\n",
      "[CV]  C=0.16733333333333333, class_weight=balanced, penalty=l2, score=0.840, total=   0.0s\n",
      "[CV] C=0.16733333333333333, class_weight=balanced, penalty=l2 ........\n",
      "[CV]  C=0.16733333333333333, class_weight=balanced, penalty=l2, score=0.842, total=   0.0s\n",
      "[CV] C=0.16733333333333333, class_weight=balanced, penalty=l2 ........\n",
      "[CV]  C=0.16733333333333333, class_weight=balanced, penalty=l2, score=0.864, total=   0.0s\n",
      "[CV] C=0.16733333333333333, class_weight=None, penalty=l1 ............\n",
      "[CV]  C=0.16733333333333333, class_weight=None, penalty=l1, score=0.848, total=   0.0s\n",
      "[CV] C=0.16733333333333333, class_weight=None, penalty=l1 ............\n",
      "[CV]  C=0.16733333333333333, class_weight=None, penalty=l1, score=0.833, total=   0.0s\n",
      "[CV] C=0.16733333333333333, class_weight=None, penalty=l1 ............\n",
      "[CV]  C=0.16733333333333333, class_weight=None, penalty=l1, score=0.844, total=   0.0s"
     ]
    },
    {
     "name": "stderr",
     "output_type": "stream",
     "text": [
      "C:\\Users\\Abhishek\\Anaconda3\\lib\\site-packages\\sklearn\\linear_model\\logistic.py:432: FutureWarning: Default solver will be changed to 'lbfgs' in 0.22. Specify a solver to silence this warning.\n",
      "  FutureWarning)\n",
      "C:\\Users\\Abhishek\\Anaconda3\\lib\\site-packages\\sklearn\\linear_model\\logistic.py:432: FutureWarning: Default solver will be changed to 'lbfgs' in 0.22. Specify a solver to silence this warning.\n",
      "  FutureWarning)\n",
      "C:\\Users\\Abhishek\\Anaconda3\\lib\\site-packages\\sklearn\\linear_model\\logistic.py:432: FutureWarning: Default solver will be changed to 'lbfgs' in 0.22. Specify a solver to silence this warning.\n",
      "  FutureWarning)\n",
      "C:\\Users\\Abhishek\\Anaconda3\\lib\\site-packages\\sklearn\\linear_model\\logistic.py:432: FutureWarning: Default solver will be changed to 'lbfgs' in 0.22. Specify a solver to silence this warning.\n",
      "  FutureWarning)\n",
      "C:\\Users\\Abhishek\\Anaconda3\\lib\\site-packages\\sklearn\\linear_model\\logistic.py:432: FutureWarning: Default solver will be changed to 'lbfgs' in 0.22. Specify a solver to silence this warning.\n",
      "  FutureWarning)\n",
      "C:\\Users\\Abhishek\\Anaconda3\\lib\\site-packages\\sklearn\\linear_model\\logistic.py:432: FutureWarning: Default solver will be changed to 'lbfgs' in 0.22. Specify a solver to silence this warning.\n",
      "  FutureWarning)\n",
      "C:\\Users\\Abhishek\\Anaconda3\\lib\\site-packages\\sklearn\\linear_model\\logistic.py:432: FutureWarning: Default solver will be changed to 'lbfgs' in 0.22. Specify a solver to silence this warning.\n",
      "  FutureWarning)\n",
      "C:\\Users\\Abhishek\\Anaconda3\\lib\\site-packages\\sklearn\\linear_model\\logistic.py:432: FutureWarning: Default solver will be changed to 'lbfgs' in 0.22. Specify a solver to silence this warning.\n",
      "  FutureWarning)\n",
      "C:\\Users\\Abhishek\\Anaconda3\\lib\\site-packages\\sklearn\\linear_model\\logistic.py:432: FutureWarning: Default solver will be changed to 'lbfgs' in 0.22. Specify a solver to silence this warning.\n",
      "  FutureWarning)\n",
      "C:\\Users\\Abhishek\\Anaconda3\\lib\\site-packages\\sklearn\\linear_model\\logistic.py:432: FutureWarning: Default solver will be changed to 'lbfgs' in 0.22. Specify a solver to silence this warning.\n",
      "  FutureWarning)\n",
      "C:\\Users\\Abhishek\\Anaconda3\\lib\\site-packages\\sklearn\\linear_model\\logistic.py:432: FutureWarning: Default solver will be changed to 'lbfgs' in 0.22. Specify a solver to silence this warning.\n",
      "  FutureWarning)\n",
      "C:\\Users\\Abhishek\\Anaconda3\\lib\\site-packages\\sklearn\\linear_model\\logistic.py:432: FutureWarning: Default solver will be changed to 'lbfgs' in 0.22. Specify a solver to silence this warning.\n",
      "  FutureWarning)\n",
      "C:\\Users\\Abhishek\\Anaconda3\\lib\\site-packages\\sklearn\\linear_model\\logistic.py:432: FutureWarning: Default solver will be changed to 'lbfgs' in 0.22. Specify a solver to silence this warning.\n",
      "  FutureWarning)\n"
     ]
    },
    {
     "name": "stdout",
     "output_type": "stream",
     "text": [
      "\n",
      "[CV] C=0.16733333333333333, class_weight=None, penalty=l1 ............\n",
      "[CV]  C=0.16733333333333333, class_weight=None, penalty=l1, score=0.844, total=   0.0s\n",
      "[CV] C=0.16733333333333333, class_weight=None, penalty=l1 ............\n",
      "[CV]  C=0.16733333333333333, class_weight=None, penalty=l1, score=0.859, total=   0.0s\n",
      "[CV] C=0.16733333333333333, class_weight=None, penalty=l2 ............\n",
      "[CV]  C=0.16733333333333333, class_weight=None, penalty=l2, score=0.844, total=   0.0s\n",
      "[CV] C=0.16733333333333333, class_weight=None, penalty=l2 ............\n",
      "[CV]  C=0.16733333333333333, class_weight=None, penalty=l2, score=0.832, total=   0.0s\n",
      "[CV] C=0.16733333333333333, class_weight=None, penalty=l2 ............\n",
      "[CV]  C=0.16733333333333333, class_weight=None, penalty=l2, score=0.843, total=   0.0s\n",
      "[CV] C=0.16733333333333333, class_weight=None, penalty=l2 ............\n",
      "[CV]  C=0.16733333333333333, class_weight=None, penalty=l2, score=0.845, total=   0.0s\n",
      "[CV] C=0.16733333333333333, class_weight=None, penalty=l2 ............\n",
      "[CV]  C=0.16733333333333333, class_weight=None, penalty=l2, score=0.863, total=   0.0s\n",
      "[CV] C=0.22277777777777777, class_weight=balanced, penalty=l1 ........\n",
      "[CV]  C=0.22277777777777777, class_weight=balanced, penalty=l1, score=0.846, total=   0.0s\n",
      "[CV] C=0.22277777777777777, class_weight=balanced, penalty=l1 ........\n",
      "[CV]  C=0.22277777777777777, class_weight=balanced, penalty=l1, score=0.836, total=   0.0s\n",
      "[CV] C=0.22277777777777777, class_weight=balanced, penalty=l1 ........\n",
      "[CV]  C=0.22277777777777777, class_weight=balanced, penalty=l1, score=0.846, total=   0.0s\n",
      "[CV] C=0.22277777777777777, class_weight=balanced, penalty=l1 ........\n",
      "[CV]  C=0.22277777777777777, class_weight=balanced, penalty=l1, score=0.846, total=   0.0s\n",
      "[CV] C=0.22277777777777777, class_weight=balanced, penalty=l1 ........\n",
      "[CV]  C=0.22277777777777777, class_weight=balanced, penalty=l1, score=0.868, total=   0.0s\n",
      "[CV] C=0.22277777777777777, class_weight=balanced, penalty=l2 ........\n"
     ]
    },
    {
     "name": "stderr",
     "output_type": "stream",
     "text": [
      "C:\\Users\\Abhishek\\Anaconda3\\lib\\site-packages\\sklearn\\linear_model\\logistic.py:432: FutureWarning: Default solver will be changed to 'lbfgs' in 0.22. Specify a solver to silence this warning.\n",
      "  FutureWarning)\n",
      "C:\\Users\\Abhishek\\Anaconda3\\lib\\site-packages\\sklearn\\linear_model\\logistic.py:432: FutureWarning: Default solver will be changed to 'lbfgs' in 0.22. Specify a solver to silence this warning.\n",
      "  FutureWarning)\n",
      "C:\\Users\\Abhishek\\Anaconda3\\lib\\site-packages\\sklearn\\linear_model\\logistic.py:432: FutureWarning: Default solver will be changed to 'lbfgs' in 0.22. Specify a solver to silence this warning.\n",
      "  FutureWarning)\n",
      "C:\\Users\\Abhishek\\Anaconda3\\lib\\site-packages\\sklearn\\linear_model\\logistic.py:432: FutureWarning: Default solver will be changed to 'lbfgs' in 0.22. Specify a solver to silence this warning.\n",
      "  FutureWarning)\n",
      "C:\\Users\\Abhishek\\Anaconda3\\lib\\site-packages\\sklearn\\linear_model\\logistic.py:432: FutureWarning: Default solver will be changed to 'lbfgs' in 0.22. Specify a solver to silence this warning.\n",
      "  FutureWarning)\n",
      "C:\\Users\\Abhishek\\Anaconda3\\lib\\site-packages\\sklearn\\linear_model\\logistic.py:432: FutureWarning: Default solver will be changed to 'lbfgs' in 0.22. Specify a solver to silence this warning.\n",
      "  FutureWarning)\n",
      "C:\\Users\\Abhishek\\Anaconda3\\lib\\site-packages\\sklearn\\linear_model\\logistic.py:432: FutureWarning: Default solver will be changed to 'lbfgs' in 0.22. Specify a solver to silence this warning.\n",
      "  FutureWarning)\n",
      "C:\\Users\\Abhishek\\Anaconda3\\lib\\site-packages\\sklearn\\linear_model\\logistic.py:432: FutureWarning: Default solver will be changed to 'lbfgs' in 0.22. Specify a solver to silence this warning.\n",
      "  FutureWarning)\n",
      "C:\\Users\\Abhishek\\Anaconda3\\lib\\site-packages\\sklearn\\linear_model\\logistic.py:432: FutureWarning: Default solver will be changed to 'lbfgs' in 0.22. Specify a solver to silence this warning.\n",
      "  FutureWarning)\n",
      "C:\\Users\\Abhishek\\Anaconda3\\lib\\site-packages\\sklearn\\linear_model\\logistic.py:432: FutureWarning: Default solver will be changed to 'lbfgs' in 0.22. Specify a solver to silence this warning.\n",
      "  FutureWarning)\n",
      "C:\\Users\\Abhishek\\Anaconda3\\lib\\site-packages\\sklearn\\linear_model\\logistic.py:432: FutureWarning: Default solver will be changed to 'lbfgs' in 0.22. Specify a solver to silence this warning.\n",
      "  FutureWarning)\n",
      "C:\\Users\\Abhishek\\Anaconda3\\lib\\site-packages\\sklearn\\linear_model\\logistic.py:432: FutureWarning: Default solver will be changed to 'lbfgs' in 0.22. Specify a solver to silence this warning.\n",
      "  FutureWarning)\n",
      "C:\\Users\\Abhishek\\Anaconda3\\lib\\site-packages\\sklearn\\linear_model\\logistic.py:432: FutureWarning: Default solver will be changed to 'lbfgs' in 0.22. Specify a solver to silence this warning.\n",
      "  FutureWarning)\n"
     ]
    },
    {
     "name": "stdout",
     "output_type": "stream",
     "text": [
      "[CV]  C=0.22277777777777777, class_weight=balanced, penalty=l2, score=0.842, total=   0.0s\n",
      "[CV] C=0.22277777777777777, class_weight=balanced, penalty=l2 ........\n",
      "[CV]  C=0.22277777777777777, class_weight=balanced, penalty=l2, score=0.834, total=   0.0s\n",
      "[CV] C=0.22277777777777777, class_weight=balanced, penalty=l2 ........\n",
      "[CV]  C=0.22277777777777777, class_weight=balanced, penalty=l2, score=0.842, total=   0.0s\n",
      "[CV] C=0.22277777777777777, class_weight=balanced, penalty=l2 ........\n",
      "[CV]  C=0.22277777777777777, class_weight=balanced, penalty=l2, score=0.840, total=   0.0s\n",
      "[CV] C=0.22277777777777777, class_weight=balanced, penalty=l2 ........\n",
      "[CV]  C=0.22277777777777777, class_weight=balanced, penalty=l2, score=0.866, total=   0.0s\n",
      "[CV] C=0.22277777777777777, class_weight=None, penalty=l1 ............\n",
      "[CV]  C=0.22277777777777777, class_weight=None, penalty=l1, score=0.848, total=   0.0s\n",
      "[CV] C=0.22277777777777777, class_weight=None, penalty=l1 ............\n",
      "[CV]  C=0.22277777777777777, class_weight=None, penalty=l1, score=0.836, total=   0.0s\n",
      "[CV] C=0.22277777777777777, class_weight=None, penalty=l1 ............\n",
      "[CV]  C=0.22277777777777777, class_weight=None, penalty=l1, score=0.847, total=   0.0s\n",
      "[CV] C=0.22277777777777777, class_weight=None, penalty=l1 ............\n",
      "[CV]  C=0.22277777777777777, class_weight=None, penalty=l1, score=0.847, total=   0.0s\n",
      "[CV] C=0.22277777777777777, class_weight=None, penalty=l1 ............\n",
      "[CV]  C=0.22277777777777777, class_weight=None, penalty=l1, score=0.863, total=   0.0s\n",
      "[CV] C=0.22277777777777777, class_weight=None, penalty=l2 ............\n",
      "[CV]  C=0.22277777777777777, class_weight=None, penalty=l2, score=0.845, total=   0.0s\n",
      "[CV] C=0.22277777777777777, class_weight=None, penalty=l2 ............\n",
      "[CV]  C=0.22277777777777777, class_weight=None, penalty=l2, score=0.834, total=   0.0s\n",
      "[CV] C=0.22277777777777777, class_weight=None, penalty=l2 ............\n",
      "[CV]  C=0.22277777777777777, class_weight=None, penalty=l2, score=0.846, total=   0.0s"
     ]
    },
    {
     "name": "stderr",
     "output_type": "stream",
     "text": [
      "C:\\Users\\Abhishek\\Anaconda3\\lib\\site-packages\\sklearn\\linear_model\\logistic.py:432: FutureWarning: Default solver will be changed to 'lbfgs' in 0.22. Specify a solver to silence this warning.\n",
      "  FutureWarning)\n",
      "C:\\Users\\Abhishek\\Anaconda3\\lib\\site-packages\\sklearn\\linear_model\\logistic.py:432: FutureWarning: Default solver will be changed to 'lbfgs' in 0.22. Specify a solver to silence this warning.\n",
      "  FutureWarning)\n",
      "C:\\Users\\Abhishek\\Anaconda3\\lib\\site-packages\\sklearn\\linear_model\\logistic.py:432: FutureWarning: Default solver will be changed to 'lbfgs' in 0.22. Specify a solver to silence this warning.\n",
      "  FutureWarning)\n",
      "C:\\Users\\Abhishek\\Anaconda3\\lib\\site-packages\\sklearn\\linear_model\\logistic.py:432: FutureWarning: Default solver will be changed to 'lbfgs' in 0.22. Specify a solver to silence this warning.\n",
      "  FutureWarning)\n",
      "C:\\Users\\Abhishek\\Anaconda3\\lib\\site-packages\\sklearn\\linear_model\\logistic.py:432: FutureWarning: Default solver will be changed to 'lbfgs' in 0.22. Specify a solver to silence this warning.\n",
      "  FutureWarning)\n",
      "C:\\Users\\Abhishek\\Anaconda3\\lib\\site-packages\\sklearn\\linear_model\\logistic.py:432: FutureWarning: Default solver will be changed to 'lbfgs' in 0.22. Specify a solver to silence this warning.\n",
      "  FutureWarning)\n",
      "C:\\Users\\Abhishek\\Anaconda3\\lib\\site-packages\\sklearn\\linear_model\\logistic.py:432: FutureWarning: Default solver will be changed to 'lbfgs' in 0.22. Specify a solver to silence this warning.\n",
      "  FutureWarning)\n",
      "C:\\Users\\Abhishek\\Anaconda3\\lib\\site-packages\\sklearn\\linear_model\\logistic.py:432: FutureWarning: Default solver will be changed to 'lbfgs' in 0.22. Specify a solver to silence this warning.\n",
      "  FutureWarning)\n",
      "C:\\Users\\Abhishek\\Anaconda3\\lib\\site-packages\\sklearn\\linear_model\\logistic.py:432: FutureWarning: Default solver will be changed to 'lbfgs' in 0.22. Specify a solver to silence this warning.\n",
      "  FutureWarning)\n",
      "C:\\Users\\Abhishek\\Anaconda3\\lib\\site-packages\\sklearn\\linear_model\\logistic.py:432: FutureWarning: Default solver will be changed to 'lbfgs' in 0.22. Specify a solver to silence this warning.\n",
      "  FutureWarning)\n",
      "C:\\Users\\Abhishek\\Anaconda3\\lib\\site-packages\\sklearn\\linear_model\\logistic.py:432: FutureWarning: Default solver will be changed to 'lbfgs' in 0.22. Specify a solver to silence this warning.\n",
      "  FutureWarning)\n",
      "C:\\Users\\Abhishek\\Anaconda3\\lib\\site-packages\\sklearn\\linear_model\\logistic.py:432: FutureWarning: Default solver will be changed to 'lbfgs' in 0.22. Specify a solver to silence this warning.\n",
      "  FutureWarning)\n",
      "C:\\Users\\Abhishek\\Anaconda3\\lib\\site-packages\\sklearn\\linear_model\\logistic.py:432: FutureWarning: Default solver will be changed to 'lbfgs' in 0.22. Specify a solver to silence this warning.\n",
      "  FutureWarning)\n"
     ]
    },
    {
     "name": "stdout",
     "output_type": "stream",
     "text": [
      "\n",
      "[CV] C=0.22277777777777777, class_weight=None, penalty=l2 ............\n",
      "[CV]  C=0.22277777777777777, class_weight=None, penalty=l2, score=0.843, total=   0.0s\n",
      "[CV] C=0.22277777777777777, class_weight=None, penalty=l2 ............\n",
      "[CV]  C=0.22277777777777777, class_weight=None, penalty=l2, score=0.863, total=   0.0s\n",
      "[CV] C=0.2782222222222222, class_weight=balanced, penalty=l1 .........\n",
      "[CV]  C=0.2782222222222222, class_weight=balanced, penalty=l1, score=0.847, total=   0.0s\n",
      "[CV] C=0.2782222222222222, class_weight=balanced, penalty=l1 .........\n",
      "[CV]  C=0.2782222222222222, class_weight=balanced, penalty=l1, score=0.836, total=   0.0s\n",
      "[CV] C=0.2782222222222222, class_weight=balanced, penalty=l1 .........\n",
      "[CV]  C=0.2782222222222222, class_weight=balanced, penalty=l1, score=0.849, total=   0.0s\n",
      "[CV] C=0.2782222222222222, class_weight=balanced, penalty=l1 .........\n",
      "[CV]  C=0.2782222222222222, class_weight=balanced, penalty=l1, score=0.844, total=   0.0s\n",
      "[CV] C=0.2782222222222222, class_weight=balanced, penalty=l1 .........\n",
      "[CV]  C=0.2782222222222222, class_weight=balanced, penalty=l1, score=0.868, total=   0.0s\n",
      "[CV] C=0.2782222222222222, class_weight=balanced, penalty=l2 .........\n",
      "[CV]  C=0.2782222222222222, class_weight=balanced, penalty=l2, score=0.843, total=   0.0s\n",
      "[CV] C=0.2782222222222222, class_weight=balanced, penalty=l2 .........\n",
      "[CV]  C=0.2782222222222222, class_weight=balanced, penalty=l2, score=0.834, total=   0.0s"
     ]
    },
    {
     "name": "stderr",
     "output_type": "stream",
     "text": [
      "C:\\Users\\Abhishek\\Anaconda3\\lib\\site-packages\\sklearn\\linear_model\\logistic.py:432: FutureWarning: Default solver will be changed to 'lbfgs' in 0.22. Specify a solver to silence this warning.\n",
      "  FutureWarning)\n",
      "C:\\Users\\Abhishek\\Anaconda3\\lib\\site-packages\\sklearn\\linear_model\\logistic.py:432: FutureWarning: Default solver will be changed to 'lbfgs' in 0.22. Specify a solver to silence this warning.\n",
      "  FutureWarning)\n",
      "C:\\Users\\Abhishek\\Anaconda3\\lib\\site-packages\\sklearn\\linear_model\\logistic.py:432: FutureWarning: Default solver will be changed to 'lbfgs' in 0.22. Specify a solver to silence this warning.\n",
      "  FutureWarning)\n",
      "C:\\Users\\Abhishek\\Anaconda3\\lib\\site-packages\\sklearn\\linear_model\\logistic.py:432: FutureWarning: Default solver will be changed to 'lbfgs' in 0.22. Specify a solver to silence this warning.\n",
      "  FutureWarning)\n",
      "C:\\Users\\Abhishek\\Anaconda3\\lib\\site-packages\\sklearn\\linear_model\\logistic.py:432: FutureWarning: Default solver will be changed to 'lbfgs' in 0.22. Specify a solver to silence this warning.\n",
      "  FutureWarning)\n",
      "C:\\Users\\Abhishek\\Anaconda3\\lib\\site-packages\\sklearn\\linear_model\\logistic.py:432: FutureWarning: Default solver will be changed to 'lbfgs' in 0.22. Specify a solver to silence this warning.\n",
      "  FutureWarning)\n",
      "C:\\Users\\Abhishek\\Anaconda3\\lib\\site-packages\\sklearn\\linear_model\\logistic.py:432: FutureWarning: Default solver will be changed to 'lbfgs' in 0.22. Specify a solver to silence this warning.\n",
      "  FutureWarning)\n",
      "C:\\Users\\Abhishek\\Anaconda3\\lib\\site-packages\\sklearn\\linear_model\\logistic.py:432: FutureWarning: Default solver will be changed to 'lbfgs' in 0.22. Specify a solver to silence this warning.\n",
      "  FutureWarning)\n",
      "C:\\Users\\Abhishek\\Anaconda3\\lib\\site-packages\\sklearn\\linear_model\\logistic.py:432: FutureWarning: Default solver will be changed to 'lbfgs' in 0.22. Specify a solver to silence this warning.\n",
      "  FutureWarning)\n"
     ]
    },
    {
     "name": "stdout",
     "output_type": "stream",
     "text": [
      "\n",
      "[CV] C=0.2782222222222222, class_weight=balanced, penalty=l2 .........\n",
      "[CV]  C=0.2782222222222222, class_weight=balanced, penalty=l2, score=0.845, total=   0.0s\n",
      "[CV] C=0.2782222222222222, class_weight=balanced, penalty=l2 .........\n",
      "[CV]  C=0.2782222222222222, class_weight=balanced, penalty=l2, score=0.840, total=   0.0s\n",
      "[CV] C=0.2782222222222222, class_weight=balanced, penalty=l2 .........\n",
      "[CV]  C=0.2782222222222222, class_weight=balanced, penalty=l2, score=0.866, total=   0.0s\n",
      "[CV] C=0.2782222222222222, class_weight=None, penalty=l1 .............\n",
      "[CV]  C=0.2782222222222222, class_weight=None, penalty=l1, score=0.848, total=   0.0s\n",
      "[CV] C=0.2782222222222222, class_weight=None, penalty=l1 .............\n",
      "[CV]  C=0.2782222222222222, class_weight=None, penalty=l1, score=0.835, total=   0.0s\n",
      "[CV] C=0.2782222222222222, class_weight=None, penalty=l1 .............\n",
      "[CV]  C=0.2782222222222222, class_weight=None, penalty=l1, score=0.850, total=   0.0s\n",
      "[CV] C=0.2782222222222222, class_weight=None, penalty=l1 .............\n",
      "[CV]  C=0.2782222222222222, class_weight=None, penalty=l1, score=0.845, total=   0.0s\n",
      "[CV] C=0.2782222222222222, class_weight=None, penalty=l1 .............\n",
      "[CV]  C=0.2782222222222222, class_weight=None, penalty=l1, score=0.866, total=   0.0s\n",
      "[CV] C=0.2782222222222222, class_weight=None, penalty=l2 .............\n",
      "[CV]  C=0.2782222222222222, class_weight=None, penalty=l2, score=0.846, total=   0.0s\n",
      "[CV] C=0.2782222222222222, class_weight=None, penalty=l2 .............\n",
      "[CV]  C=0.2782222222222222, class_weight=None, penalty=l2, score=0.834, total=   0.0s\n",
      "[CV] C=0.2782222222222222, class_weight=None, penalty=l2 .............\n",
      "[CV]  C=0.2782222222222222, class_weight=None, penalty=l2, score=0.846, total=   0.0s\n",
      "[CV] C=0.2782222222222222, class_weight=None, penalty=l2 .............\n",
      "[CV]  C=0.2782222222222222, class_weight=None, penalty=l2, score=0.843, total=   0.0s\n",
      "[CV] C=0.2782222222222222, class_weight=None, penalty=l2 .............\n",
      "[CV]  C=0.2782222222222222, class_weight=None, penalty=l2, score=0.864, total=   0.0s\n",
      "[CV] C=0.33366666666666667, class_weight=balanced, penalty=l1 ........\n"
     ]
    },
    {
     "name": "stderr",
     "output_type": "stream",
     "text": [
      "C:\\Users\\Abhishek\\Anaconda3\\lib\\site-packages\\sklearn\\linear_model\\logistic.py:432: FutureWarning: Default solver will be changed to 'lbfgs' in 0.22. Specify a solver to silence this warning.\n",
      "  FutureWarning)\n",
      "C:\\Users\\Abhishek\\Anaconda3\\lib\\site-packages\\sklearn\\linear_model\\logistic.py:432: FutureWarning: Default solver will be changed to 'lbfgs' in 0.22. Specify a solver to silence this warning.\n",
      "  FutureWarning)\n",
      "C:\\Users\\Abhishek\\Anaconda3\\lib\\site-packages\\sklearn\\linear_model\\logistic.py:432: FutureWarning: Default solver will be changed to 'lbfgs' in 0.22. Specify a solver to silence this warning.\n",
      "  FutureWarning)\n",
      "C:\\Users\\Abhishek\\Anaconda3\\lib\\site-packages\\sklearn\\linear_model\\logistic.py:432: FutureWarning: Default solver will be changed to 'lbfgs' in 0.22. Specify a solver to silence this warning.\n",
      "  FutureWarning)\n",
      "C:\\Users\\Abhishek\\Anaconda3\\lib\\site-packages\\sklearn\\linear_model\\logistic.py:432: FutureWarning: Default solver will be changed to 'lbfgs' in 0.22. Specify a solver to silence this warning.\n",
      "  FutureWarning)\n",
      "C:\\Users\\Abhishek\\Anaconda3\\lib\\site-packages\\sklearn\\linear_model\\logistic.py:432: FutureWarning: Default solver will be changed to 'lbfgs' in 0.22. Specify a solver to silence this warning.\n",
      "  FutureWarning)\n",
      "C:\\Users\\Abhishek\\Anaconda3\\lib\\site-packages\\sklearn\\linear_model\\logistic.py:432: FutureWarning: Default solver will be changed to 'lbfgs' in 0.22. Specify a solver to silence this warning.\n",
      "  FutureWarning)\n",
      "C:\\Users\\Abhishek\\Anaconda3\\lib\\site-packages\\sklearn\\linear_model\\logistic.py:432: FutureWarning: Default solver will be changed to 'lbfgs' in 0.22. Specify a solver to silence this warning.\n",
      "  FutureWarning)\n",
      "C:\\Users\\Abhishek\\Anaconda3\\lib\\site-packages\\sklearn\\linear_model\\logistic.py:432: FutureWarning: Default solver will be changed to 'lbfgs' in 0.22. Specify a solver to silence this warning.\n",
      "  FutureWarning)\n",
      "C:\\Users\\Abhishek\\Anaconda3\\lib\\site-packages\\sklearn\\linear_model\\logistic.py:432: FutureWarning: Default solver will be changed to 'lbfgs' in 0.22. Specify a solver to silence this warning.\n",
      "  FutureWarning)\n",
      "C:\\Users\\Abhishek\\Anaconda3\\lib\\site-packages\\sklearn\\linear_model\\logistic.py:432: FutureWarning: Default solver will be changed to 'lbfgs' in 0.22. Specify a solver to silence this warning.\n",
      "  FutureWarning)\n",
      "C:\\Users\\Abhishek\\Anaconda3\\lib\\site-packages\\sklearn\\linear_model\\logistic.py:432: FutureWarning: Default solver will be changed to 'lbfgs' in 0.22. Specify a solver to silence this warning.\n",
      "  FutureWarning)\n",
      "C:\\Users\\Abhishek\\Anaconda3\\lib\\site-packages\\sklearn\\linear_model\\logistic.py:432: FutureWarning: Default solver will be changed to 'lbfgs' in 0.22. Specify a solver to silence this warning.\n",
      "  FutureWarning)\n"
     ]
    },
    {
     "name": "stdout",
     "output_type": "stream",
     "text": [
      "[CV]  C=0.33366666666666667, class_weight=balanced, penalty=l1, score=0.847, total=   0.0s\n",
      "[CV] C=0.33366666666666667, class_weight=balanced, penalty=l1 ........\n",
      "[CV]  C=0.33366666666666667, class_weight=balanced, penalty=l1, score=0.835, total=   0.0s\n",
      "[CV] C=0.33366666666666667, class_weight=balanced, penalty=l1 ........\n",
      "[CV]  C=0.33366666666666667, class_weight=balanced, penalty=l1, score=0.849, total=   0.0s\n",
      "[CV] C=0.33366666666666667, class_weight=balanced, penalty=l1 ........\n",
      "[CV]  C=0.33366666666666667, class_weight=balanced, penalty=l1, score=0.843, total=   0.0s\n",
      "[CV] C=0.33366666666666667, class_weight=balanced, penalty=l1 ........\n",
      "[CV]  C=0.33366666666666667, class_weight=balanced, penalty=l1, score=0.869, total=   0.0s\n",
      "[CV] C=0.33366666666666667, class_weight=balanced, penalty=l2 ........\n",
      "[CV]  C=0.33366666666666667, class_weight=balanced, penalty=l2, score=0.844, total=   0.0s\n",
      "[CV] C=0.33366666666666667, class_weight=balanced, penalty=l2 ........\n",
      "[CV]  C=0.33366666666666667, class_weight=balanced, penalty=l2, score=0.835, total=   0.0s\n",
      "[CV] C=0.33366666666666667, class_weight=balanced, penalty=l2 ........\n",
      "[CV]  C=0.33366666666666667, class_weight=balanced, penalty=l2, score=0.846, total=   0.0s"
     ]
    },
    {
     "name": "stderr",
     "output_type": "stream",
     "text": [
      "C:\\Users\\Abhishek\\Anaconda3\\lib\\site-packages\\sklearn\\linear_model\\logistic.py:432: FutureWarning: Default solver will be changed to 'lbfgs' in 0.22. Specify a solver to silence this warning.\n",
      "  FutureWarning)\n",
      "C:\\Users\\Abhishek\\Anaconda3\\lib\\site-packages\\sklearn\\linear_model\\logistic.py:432: FutureWarning: Default solver will be changed to 'lbfgs' in 0.22. Specify a solver to silence this warning.\n",
      "  FutureWarning)\n",
      "C:\\Users\\Abhishek\\Anaconda3\\lib\\site-packages\\sklearn\\linear_model\\logistic.py:432: FutureWarning: Default solver will be changed to 'lbfgs' in 0.22. Specify a solver to silence this warning.\n",
      "  FutureWarning)\n",
      "C:\\Users\\Abhishek\\Anaconda3\\lib\\site-packages\\sklearn\\linear_model\\logistic.py:432: FutureWarning: Default solver will be changed to 'lbfgs' in 0.22. Specify a solver to silence this warning.\n",
      "  FutureWarning)\n",
      "C:\\Users\\Abhishek\\Anaconda3\\lib\\site-packages\\sklearn\\linear_model\\logistic.py:432: FutureWarning: Default solver will be changed to 'lbfgs' in 0.22. Specify a solver to silence this warning.\n",
      "  FutureWarning)\n",
      "C:\\Users\\Abhishek\\Anaconda3\\lib\\site-packages\\sklearn\\linear_model\\logistic.py:432: FutureWarning: Default solver will be changed to 'lbfgs' in 0.22. Specify a solver to silence this warning.\n",
      "  FutureWarning)\n",
      "C:\\Users\\Abhishek\\Anaconda3\\lib\\site-packages\\sklearn\\linear_model\\logistic.py:432: FutureWarning: Default solver will be changed to 'lbfgs' in 0.22. Specify a solver to silence this warning.\n",
      "  FutureWarning)\n",
      "C:\\Users\\Abhishek\\Anaconda3\\lib\\site-packages\\sklearn\\linear_model\\logistic.py:432: FutureWarning: Default solver will be changed to 'lbfgs' in 0.22. Specify a solver to silence this warning.\n",
      "  FutureWarning)\n"
     ]
    },
    {
     "name": "stdout",
     "output_type": "stream",
     "text": [
      "\n",
      "[CV] C=0.33366666666666667, class_weight=balanced, penalty=l2 ........\n",
      "[CV]  C=0.33366666666666667, class_weight=balanced, penalty=l2, score=0.838, total=   0.0s\n",
      "[CV] C=0.33366666666666667, class_weight=balanced, penalty=l2 ........\n",
      "[CV]  C=0.33366666666666667, class_weight=balanced, penalty=l2, score=0.866, total=   0.0s\n",
      "[CV] C=0.33366666666666667, class_weight=None, penalty=l1 ............\n",
      "[CV]  C=0.33366666666666667, class_weight=None, penalty=l1, score=0.848, total=   0.0s\n",
      "[CV] C=0.33366666666666667, class_weight=None, penalty=l1 ............\n",
      "[CV]  C=0.33366666666666667, class_weight=None, penalty=l1, score=0.836, total=   0.0s\n",
      "[CV] C=0.33366666666666667, class_weight=None, penalty=l1 ............\n",
      "[CV]  C=0.33366666666666667, class_weight=None, penalty=l1, score=0.850, total=   0.0s\n",
      "[CV] C=0.33366666666666667, class_weight=None, penalty=l1 ............\n",
      "[CV]  C=0.33366666666666667, class_weight=None, penalty=l1, score=0.846, total=   0.0s\n",
      "[CV] C=0.33366666666666667, class_weight=None, penalty=l1 ............\n",
      "[CV]  C=0.33366666666666667, class_weight=None, penalty=l1, score=0.866, total=   0.0s\n",
      "[CV] C=0.33366666666666667, class_weight=None, penalty=l2 ............\n",
      "[CV]  C=0.33366666666666667, class_weight=None, penalty=l2, score=0.847, total=   0.0s\n",
      "[CV] C=0.33366666666666667, class_weight=None, penalty=l2 ............\n",
      "[CV]  C=0.33366666666666667, class_weight=None, penalty=l2, score=0.835, total=   0.0s\n",
      "[CV] C=0.33366666666666667, class_weight=None, penalty=l2 ............\n",
      "[CV]  C=0.33366666666666667, class_weight=None, penalty=l2, score=0.847, total=   0.0s\n",
      "[CV] C=0.33366666666666667, class_weight=None, penalty=l2 ............\n",
      "[CV]  C=0.33366666666666667, class_weight=None, penalty=l2, score=0.842, total=   0.0s"
     ]
    },
    {
     "name": "stderr",
     "output_type": "stream",
     "text": [
      "C:\\Users\\Abhishek\\Anaconda3\\lib\\site-packages\\sklearn\\linear_model\\logistic.py:432: FutureWarning: Default solver will be changed to 'lbfgs' in 0.22. Specify a solver to silence this warning.\n",
      "  FutureWarning)\n",
      "C:\\Users\\Abhishek\\Anaconda3\\lib\\site-packages\\sklearn\\linear_model\\logistic.py:432: FutureWarning: Default solver will be changed to 'lbfgs' in 0.22. Specify a solver to silence this warning.\n",
      "  FutureWarning)\n",
      "C:\\Users\\Abhishek\\Anaconda3\\lib\\site-packages\\sklearn\\linear_model\\logistic.py:432: FutureWarning: Default solver will be changed to 'lbfgs' in 0.22. Specify a solver to silence this warning.\n",
      "  FutureWarning)\n",
      "C:\\Users\\Abhishek\\Anaconda3\\lib\\site-packages\\sklearn\\linear_model\\logistic.py:432: FutureWarning: Default solver will be changed to 'lbfgs' in 0.22. Specify a solver to silence this warning.\n",
      "  FutureWarning)\n",
      "C:\\Users\\Abhishek\\Anaconda3\\lib\\site-packages\\sklearn\\linear_model\\logistic.py:432: FutureWarning: Default solver will be changed to 'lbfgs' in 0.22. Specify a solver to silence this warning.\n",
      "  FutureWarning)\n",
      "C:\\Users\\Abhishek\\Anaconda3\\lib\\site-packages\\sklearn\\linear_model\\logistic.py:432: FutureWarning: Default solver will be changed to 'lbfgs' in 0.22. Specify a solver to silence this warning.\n",
      "  FutureWarning)\n",
      "C:\\Users\\Abhishek\\Anaconda3\\lib\\site-packages\\sklearn\\linear_model\\logistic.py:432: FutureWarning: Default solver will be changed to 'lbfgs' in 0.22. Specify a solver to silence this warning.\n",
      "  FutureWarning)\n",
      "C:\\Users\\Abhishek\\Anaconda3\\lib\\site-packages\\sklearn\\linear_model\\logistic.py:432: FutureWarning: Default solver will be changed to 'lbfgs' in 0.22. Specify a solver to silence this warning.\n",
      "  FutureWarning)\n",
      "C:\\Users\\Abhishek\\Anaconda3\\lib\\site-packages\\sklearn\\linear_model\\logistic.py:432: FutureWarning: Default solver will be changed to 'lbfgs' in 0.22. Specify a solver to silence this warning.\n",
      "  FutureWarning)\n",
      "C:\\Users\\Abhishek\\Anaconda3\\lib\\site-packages\\sklearn\\linear_model\\logistic.py:432: FutureWarning: Default solver will be changed to 'lbfgs' in 0.22. Specify a solver to silence this warning.\n",
      "  FutureWarning)\n",
      "C:\\Users\\Abhishek\\Anaconda3\\lib\\site-packages\\sklearn\\linear_model\\logistic.py:432: FutureWarning: Default solver will be changed to 'lbfgs' in 0.22. Specify a solver to silence this warning.\n",
      "  FutureWarning)\n",
      "C:\\Users\\Abhishek\\Anaconda3\\lib\\site-packages\\sklearn\\linear_model\\logistic.py:432: FutureWarning: Default solver will be changed to 'lbfgs' in 0.22. Specify a solver to silence this warning.\n",
      "  FutureWarning)\n"
     ]
    },
    {
     "name": "stdout",
     "output_type": "stream",
     "text": [
      "\n",
      "[CV] C=0.33366666666666667, class_weight=None, penalty=l2 ............\n",
      "[CV]  C=0.33366666666666667, class_weight=None, penalty=l2, score=0.864, total=   0.0s\n",
      "[CV] C=0.3891111111111111, class_weight=balanced, penalty=l1 .........\n",
      "[CV]  C=0.3891111111111111, class_weight=balanced, penalty=l1, score=0.848, total=   0.0s\n",
      "[CV] C=0.3891111111111111, class_weight=balanced, penalty=l1 .........\n",
      "[CV]  C=0.3891111111111111, class_weight=balanced, penalty=l1, score=0.835, total=   0.0s\n",
      "[CV] C=0.3891111111111111, class_weight=balanced, penalty=l1 .........\n",
      "[CV]  C=0.3891111111111111, class_weight=balanced, penalty=l1, score=0.849, total=   0.0s\n",
      "[CV] C=0.3891111111111111, class_weight=balanced, penalty=l1 .........\n",
      "[CV]  C=0.3891111111111111, class_weight=balanced, penalty=l1, score=0.843, total=   0.0s\n",
      "[CV] C=0.3891111111111111, class_weight=balanced, penalty=l1 .........\n",
      "[CV]  C=0.3891111111111111, class_weight=balanced, penalty=l1, score=0.868, total=   0.0s\n",
      "[CV] C=0.3891111111111111, class_weight=balanced, penalty=l2 .........\n",
      "[CV]  C=0.3891111111111111, class_weight=balanced, penalty=l2, score=0.845, total=   0.0s\n",
      "[CV] C=0.3891111111111111, class_weight=balanced, penalty=l2 .........\n",
      "[CV]  C=0.3891111111111111, class_weight=balanced, penalty=l2, score=0.835, total=   0.0s\n",
      "[CV] C=0.3891111111111111, class_weight=balanced, penalty=l2 .........\n",
      "[CV]  C=0.3891111111111111, class_weight=balanced, penalty=l2, score=0.846, total=   0.0s"
     ]
    },
    {
     "name": "stderr",
     "output_type": "stream",
     "text": [
      "C:\\Users\\Abhishek\\Anaconda3\\lib\\site-packages\\sklearn\\linear_model\\logistic.py:432: FutureWarning: Default solver will be changed to 'lbfgs' in 0.22. Specify a solver to silence this warning.\n",
      "  FutureWarning)\n",
      "C:\\Users\\Abhishek\\Anaconda3\\lib\\site-packages\\sklearn\\linear_model\\logistic.py:432: FutureWarning: Default solver will be changed to 'lbfgs' in 0.22. Specify a solver to silence this warning.\n",
      "  FutureWarning)\n",
      "C:\\Users\\Abhishek\\Anaconda3\\lib\\site-packages\\sklearn\\linear_model\\logistic.py:432: FutureWarning: Default solver will be changed to 'lbfgs' in 0.22. Specify a solver to silence this warning.\n",
      "  FutureWarning)\n",
      "C:\\Users\\Abhishek\\Anaconda3\\lib\\site-packages\\sklearn\\linear_model\\logistic.py:432: FutureWarning: Default solver will be changed to 'lbfgs' in 0.22. Specify a solver to silence this warning.\n",
      "  FutureWarning)\n",
      "C:\\Users\\Abhishek\\Anaconda3\\lib\\site-packages\\sklearn\\linear_model\\logistic.py:432: FutureWarning: Default solver will be changed to 'lbfgs' in 0.22. Specify a solver to silence this warning.\n",
      "  FutureWarning)\n",
      "C:\\Users\\Abhishek\\Anaconda3\\lib\\site-packages\\sklearn\\linear_model\\logistic.py:432: FutureWarning: Default solver will be changed to 'lbfgs' in 0.22. Specify a solver to silence this warning.\n",
      "  FutureWarning)\n",
      "C:\\Users\\Abhishek\\Anaconda3\\lib\\site-packages\\sklearn\\linear_model\\logistic.py:432: FutureWarning: Default solver will be changed to 'lbfgs' in 0.22. Specify a solver to silence this warning.\n",
      "  FutureWarning)\n",
      "C:\\Users\\Abhishek\\Anaconda3\\lib\\site-packages\\sklearn\\linear_model\\logistic.py:432: FutureWarning: Default solver will be changed to 'lbfgs' in 0.22. Specify a solver to silence this warning.\n",
      "  FutureWarning)\n",
      "C:\\Users\\Abhishek\\Anaconda3\\lib\\site-packages\\sklearn\\linear_model\\logistic.py:432: FutureWarning: Default solver will be changed to 'lbfgs' in 0.22. Specify a solver to silence this warning.\n",
      "  FutureWarning)\n",
      "C:\\Users\\Abhishek\\Anaconda3\\lib\\site-packages\\sklearn\\linear_model\\logistic.py:432: FutureWarning: Default solver will be changed to 'lbfgs' in 0.22. Specify a solver to silence this warning.\n",
      "  FutureWarning)\n"
     ]
    },
    {
     "name": "stdout",
     "output_type": "stream",
     "text": [
      "\n",
      "[CV] C=0.3891111111111111, class_weight=balanced, penalty=l2 .........\n",
      "[CV]  C=0.3891111111111111, class_weight=balanced, penalty=l2, score=0.839, total=   0.0s\n",
      "[CV] C=0.3891111111111111, class_weight=balanced, penalty=l2 .........\n",
      "[CV]  C=0.3891111111111111, class_weight=balanced, penalty=l2, score=0.867, total=   0.0s\n",
      "[CV] C=0.3891111111111111, class_weight=None, penalty=l1 .............\n",
      "[CV]  C=0.3891111111111111, class_weight=None, penalty=l1, score=0.848, total=   0.0s\n",
      "[CV] C=0.3891111111111111, class_weight=None, penalty=l1 .............\n",
      "[CV]  C=0.3891111111111111, class_weight=None, penalty=l1, score=0.836, total=   0.0s\n",
      "[CV] C=0.3891111111111111, class_weight=None, penalty=l1 .............\n",
      "[CV]  C=0.3891111111111111, class_weight=None, penalty=l1, score=0.852, total=   0.0s\n",
      "[CV] C=0.3891111111111111, class_weight=None, penalty=l1 .............\n",
      "[CV]  C=0.3891111111111111, class_weight=None, penalty=l1, score=0.846, total=   0.0s\n",
      "[CV] C=0.3891111111111111, class_weight=None, penalty=l1 .............\n",
      "[CV]  C=0.3891111111111111, class_weight=None, penalty=l1, score=0.867, total=   0.0s\n",
      "[CV] C=0.3891111111111111, class_weight=None, penalty=l2 .............\n",
      "[CV]  C=0.3891111111111111, class_weight=None, penalty=l2, score=0.847, total=   0.0s\n",
      "[CV] C=0.3891111111111111, class_weight=None, penalty=l2 .............\n",
      "[CV]  C=0.3891111111111111, class_weight=None, penalty=l2, score=0.835, total=   0.0s\n",
      "[CV] C=0.3891111111111111, class_weight=None, penalty=l2 .............\n",
      "[CV]  C=0.3891111111111111, class_weight=None, penalty=l2, score=0.848, total=   0.0s"
     ]
    },
    {
     "name": "stderr",
     "output_type": "stream",
     "text": [
      "C:\\Users\\Abhishek\\Anaconda3\\lib\\site-packages\\sklearn\\linear_model\\logistic.py:432: FutureWarning: Default solver will be changed to 'lbfgs' in 0.22. Specify a solver to silence this warning.\n",
      "  FutureWarning)\n",
      "C:\\Users\\Abhishek\\Anaconda3\\lib\\site-packages\\sklearn\\linear_model\\logistic.py:432: FutureWarning: Default solver will be changed to 'lbfgs' in 0.22. Specify a solver to silence this warning.\n",
      "  FutureWarning)\n",
      "C:\\Users\\Abhishek\\Anaconda3\\lib\\site-packages\\sklearn\\linear_model\\logistic.py:432: FutureWarning: Default solver will be changed to 'lbfgs' in 0.22. Specify a solver to silence this warning.\n",
      "  FutureWarning)\n",
      "C:\\Users\\Abhishek\\Anaconda3\\lib\\site-packages\\sklearn\\linear_model\\logistic.py:432: FutureWarning: Default solver will be changed to 'lbfgs' in 0.22. Specify a solver to silence this warning.\n",
      "  FutureWarning)\n",
      "C:\\Users\\Abhishek\\Anaconda3\\lib\\site-packages\\sklearn\\linear_model\\logistic.py:432: FutureWarning: Default solver will be changed to 'lbfgs' in 0.22. Specify a solver to silence this warning.\n",
      "  FutureWarning)\n",
      "C:\\Users\\Abhishek\\Anaconda3\\lib\\site-packages\\sklearn\\linear_model\\logistic.py:432: FutureWarning: Default solver will be changed to 'lbfgs' in 0.22. Specify a solver to silence this warning.\n",
      "  FutureWarning)\n",
      "C:\\Users\\Abhishek\\Anaconda3\\lib\\site-packages\\sklearn\\linear_model\\logistic.py:432: FutureWarning: Default solver will be changed to 'lbfgs' in 0.22. Specify a solver to silence this warning.\n",
      "  FutureWarning)\n",
      "C:\\Users\\Abhishek\\Anaconda3\\lib\\site-packages\\sklearn\\linear_model\\logistic.py:432: FutureWarning: Default solver will be changed to 'lbfgs' in 0.22. Specify a solver to silence this warning.\n",
      "  FutureWarning)\n",
      "C:\\Users\\Abhishek\\Anaconda3\\lib\\site-packages\\sklearn\\linear_model\\logistic.py:432: FutureWarning: Default solver will be changed to 'lbfgs' in 0.22. Specify a solver to silence this warning.\n",
      "  FutureWarning)\n",
      "C:\\Users\\Abhishek\\Anaconda3\\lib\\site-packages\\sklearn\\linear_model\\logistic.py:432: FutureWarning: Default solver will be changed to 'lbfgs' in 0.22. Specify a solver to silence this warning.\n",
      "  FutureWarning)\n",
      "C:\\Users\\Abhishek\\Anaconda3\\lib\\site-packages\\sklearn\\linear_model\\logistic.py:432: FutureWarning: Default solver will be changed to 'lbfgs' in 0.22. Specify a solver to silence this warning.\n",
      "  FutureWarning)\n"
     ]
    },
    {
     "name": "stdout",
     "output_type": "stream",
     "text": [
      "\n",
      "[CV] C=0.3891111111111111, class_weight=None, penalty=l2 .............\n",
      "[CV]  C=0.3891111111111111, class_weight=None, penalty=l2, score=0.841, total=   0.0s\n",
      "[CV] C=0.3891111111111111, class_weight=None, penalty=l2 .............\n",
      "[CV]  C=0.3891111111111111, class_weight=None, penalty=l2, score=0.866, total=   0.0s\n",
      "[CV] C=0.44455555555555554, class_weight=balanced, penalty=l1 ........\n",
      "[CV]  C=0.44455555555555554, class_weight=balanced, penalty=l1, score=0.847, total=   0.0s\n",
      "[CV] C=0.44455555555555554, class_weight=balanced, penalty=l1 ........\n",
      "[CV]  C=0.44455555555555554, class_weight=balanced, penalty=l1, score=0.835, total=   0.0s\n",
      "[CV] C=0.44455555555555554, class_weight=balanced, penalty=l1 ........\n",
      "[CV]  C=0.44455555555555554, class_weight=balanced, penalty=l1, score=0.850, total=   0.0s\n",
      "[CV] C=0.44455555555555554, class_weight=balanced, penalty=l1 ........\n",
      "[CV]  C=0.44455555555555554, class_weight=balanced, penalty=l1, score=0.843, total=   0.0s\n",
      "[CV] C=0.44455555555555554, class_weight=balanced, penalty=l1 ........\n",
      "[CV]  C=0.44455555555555554, class_weight=balanced, penalty=l1, score=0.869, total=   0.0s\n",
      "[CV] C=0.44455555555555554, class_weight=balanced, penalty=l2 ........\n",
      "[CV]  C=0.44455555555555554, class_weight=balanced, penalty=l2, score=0.846, total=   0.0s\n",
      "[CV] C=0.44455555555555554, class_weight=balanced, penalty=l2 ........\n",
      "[CV]  C=0.44455555555555554, class_weight=balanced, penalty=l2, score=0.835, total=   0.0s\n",
      "[CV] C=0.44455555555555554, class_weight=balanced, penalty=l2 ........\n",
      "[CV]  C=0.44455555555555554, class_weight=balanced, penalty=l2, score=0.846, total=   0.0s\n",
      "[CV] C=0.44455555555555554, class_weight=balanced, penalty=l2 ........\n"
     ]
    },
    {
     "name": "stderr",
     "output_type": "stream",
     "text": [
      "C:\\Users\\Abhishek\\Anaconda3\\lib\\site-packages\\sklearn\\linear_model\\logistic.py:432: FutureWarning: Default solver will be changed to 'lbfgs' in 0.22. Specify a solver to silence this warning.\n",
      "  FutureWarning)\n",
      "C:\\Users\\Abhishek\\Anaconda3\\lib\\site-packages\\sklearn\\linear_model\\logistic.py:432: FutureWarning: Default solver will be changed to 'lbfgs' in 0.22. Specify a solver to silence this warning.\n",
      "  FutureWarning)\n",
      "C:\\Users\\Abhishek\\Anaconda3\\lib\\site-packages\\sklearn\\linear_model\\logistic.py:432: FutureWarning: Default solver will be changed to 'lbfgs' in 0.22. Specify a solver to silence this warning.\n",
      "  FutureWarning)\n",
      "C:\\Users\\Abhishek\\Anaconda3\\lib\\site-packages\\sklearn\\linear_model\\logistic.py:432: FutureWarning: Default solver will be changed to 'lbfgs' in 0.22. Specify a solver to silence this warning.\n",
      "  FutureWarning)\n",
      "C:\\Users\\Abhishek\\Anaconda3\\lib\\site-packages\\sklearn\\linear_model\\logistic.py:432: FutureWarning: Default solver will be changed to 'lbfgs' in 0.22. Specify a solver to silence this warning.\n",
      "  FutureWarning)\n",
      "C:\\Users\\Abhishek\\Anaconda3\\lib\\site-packages\\sklearn\\linear_model\\logistic.py:432: FutureWarning: Default solver will be changed to 'lbfgs' in 0.22. Specify a solver to silence this warning.\n",
      "  FutureWarning)\n",
      "C:\\Users\\Abhishek\\Anaconda3\\lib\\site-packages\\sklearn\\linear_model\\logistic.py:432: FutureWarning: Default solver will be changed to 'lbfgs' in 0.22. Specify a solver to silence this warning.\n",
      "  FutureWarning)\n",
      "C:\\Users\\Abhishek\\Anaconda3\\lib\\site-packages\\sklearn\\linear_model\\logistic.py:432: FutureWarning: Default solver will be changed to 'lbfgs' in 0.22. Specify a solver to silence this warning.\n",
      "  FutureWarning)\n",
      "C:\\Users\\Abhishek\\Anaconda3\\lib\\site-packages\\sklearn\\linear_model\\logistic.py:432: FutureWarning: Default solver will be changed to 'lbfgs' in 0.22. Specify a solver to silence this warning.\n",
      "  FutureWarning)\n",
      "C:\\Users\\Abhishek\\Anaconda3\\lib\\site-packages\\sklearn\\linear_model\\logistic.py:432: FutureWarning: Default solver will be changed to 'lbfgs' in 0.22. Specify a solver to silence this warning.\n",
      "  FutureWarning)\n",
      "C:\\Users\\Abhishek\\Anaconda3\\lib\\site-packages\\sklearn\\linear_model\\logistic.py:432: FutureWarning: Default solver will be changed to 'lbfgs' in 0.22. Specify a solver to silence this warning.\n",
      "  FutureWarning)\n",
      "C:\\Users\\Abhishek\\Anaconda3\\lib\\site-packages\\sklearn\\linear_model\\logistic.py:432: FutureWarning: Default solver will be changed to 'lbfgs' in 0.22. Specify a solver to silence this warning.\n",
      "  FutureWarning)\n"
     ]
    },
    {
     "name": "stdout",
     "output_type": "stream",
     "text": [
      "[CV]  C=0.44455555555555554, class_weight=balanced, penalty=l2, score=0.840, total=   0.0s\n",
      "[CV] C=0.44455555555555554, class_weight=balanced, penalty=l2 ........\n",
      "[CV]  C=0.44455555555555554, class_weight=balanced, penalty=l2, score=0.868, total=   0.0s\n",
      "[CV] C=0.44455555555555554, class_weight=None, penalty=l1 ............\n",
      "[CV]  C=0.44455555555555554, class_weight=None, penalty=l1, score=0.848, total=   0.0s\n",
      "[CV] C=0.44455555555555554, class_weight=None, penalty=l1 ............\n",
      "[CV]  C=0.44455555555555554, class_weight=None, penalty=l1, score=0.836, total=   0.0s\n",
      "[CV] C=0.44455555555555554, class_weight=None, penalty=l1 ............\n",
      "[CV]  C=0.44455555555555554, class_weight=None, penalty=l1, score=0.852, total=   0.0s\n",
      "[CV] C=0.44455555555555554, class_weight=None, penalty=l1 ............\n",
      "[CV]  C=0.44455555555555554, class_weight=None, penalty=l1, score=0.843, total=   0.0s\n",
      "[CV] C=0.44455555555555554, class_weight=None, penalty=l1 ............\n",
      "[CV]  C=0.44455555555555554, class_weight=None, penalty=l1, score=0.866, total=   0.0s\n",
      "[CV] C=0.44455555555555554, class_weight=None, penalty=l2 ............\n",
      "[CV]  C=0.44455555555555554, class_weight=None, penalty=l2, score=0.848, total=   0.0s\n",
      "[CV] C=0.44455555555555554, class_weight=None, penalty=l2 ............\n",
      "[CV]  C=0.44455555555555554, class_weight=None, penalty=l2, score=0.835, total=   0.0s\n",
      "[CV] C=0.44455555555555554, class_weight=None, penalty=l2 ............\n",
      "[CV]  C=0.44455555555555554, class_weight=None, penalty=l2, score=0.849, total=   0.0s\n",
      "[CV] C=0.44455555555555554, class_weight=None, penalty=l2 ............\n",
      "[CV]  C=0.44455555555555554, class_weight=None, penalty=l2, score=0.841, total=   0.0s\n",
      "[CV] C=0.44455555555555554, class_weight=None, penalty=l2 ............\n",
      "[CV]  C=0.44455555555555554, class_weight=None, penalty=l2, score=0.866, total=   0.0s\n",
      "[CV] C=0.5, class_weight=balanced, penalty=l1 ........................\n",
      "[CV]  C=0.5, class_weight=balanced, penalty=l1, score=0.847, total=   0.0s\n",
      "[CV] C=0.5, class_weight=balanced, penalty=l1 ........................\n",
      "[CV]  C=0.5, class_weight=balanced, penalty=l1, score=0.835, total=   0.0s"
     ]
    },
    {
     "name": "stderr",
     "output_type": "stream",
     "text": [
      "C:\\Users\\Abhishek\\Anaconda3\\lib\\site-packages\\sklearn\\linear_model\\logistic.py:432: FutureWarning: Default solver will be changed to 'lbfgs' in 0.22. Specify a solver to silence this warning.\n",
      "  FutureWarning)\n",
      "C:\\Users\\Abhishek\\Anaconda3\\lib\\site-packages\\sklearn\\linear_model\\logistic.py:432: FutureWarning: Default solver will be changed to 'lbfgs' in 0.22. Specify a solver to silence this warning.\n",
      "  FutureWarning)\n",
      "C:\\Users\\Abhishek\\Anaconda3\\lib\\site-packages\\sklearn\\linear_model\\logistic.py:432: FutureWarning: Default solver will be changed to 'lbfgs' in 0.22. Specify a solver to silence this warning.\n",
      "  FutureWarning)\n",
      "C:\\Users\\Abhishek\\Anaconda3\\lib\\site-packages\\sklearn\\linear_model\\logistic.py:432: FutureWarning: Default solver will be changed to 'lbfgs' in 0.22. Specify a solver to silence this warning.\n",
      "  FutureWarning)\n",
      "C:\\Users\\Abhishek\\Anaconda3\\lib\\site-packages\\sklearn\\linear_model\\logistic.py:432: FutureWarning: Default solver will be changed to 'lbfgs' in 0.22. Specify a solver to silence this warning.\n",
      "  FutureWarning)\n",
      "C:\\Users\\Abhishek\\Anaconda3\\lib\\site-packages\\sklearn\\linear_model\\logistic.py:432: FutureWarning: Default solver will be changed to 'lbfgs' in 0.22. Specify a solver to silence this warning.\n",
      "  FutureWarning)\n",
      "C:\\Users\\Abhishek\\Anaconda3\\lib\\site-packages\\sklearn\\linear_model\\logistic.py:432: FutureWarning: Default solver will be changed to 'lbfgs' in 0.22. Specify a solver to silence this warning.\n",
      "  FutureWarning)\n",
      "C:\\Users\\Abhishek\\Anaconda3\\lib\\site-packages\\sklearn\\linear_model\\logistic.py:432: FutureWarning: Default solver will be changed to 'lbfgs' in 0.22. Specify a solver to silence this warning.\n",
      "  FutureWarning)\n",
      "C:\\Users\\Abhishek\\Anaconda3\\lib\\site-packages\\sklearn\\linear_model\\logistic.py:432: FutureWarning: Default solver will be changed to 'lbfgs' in 0.22. Specify a solver to silence this warning.\n",
      "  FutureWarning)\n",
      "C:\\Users\\Abhishek\\Anaconda3\\lib\\site-packages\\sklearn\\linear_model\\logistic.py:432: FutureWarning: Default solver will be changed to 'lbfgs' in 0.22. Specify a solver to silence this warning.\n",
      "  FutureWarning)\n",
      "C:\\Users\\Abhishek\\Anaconda3\\lib\\site-packages\\sklearn\\linear_model\\logistic.py:432: FutureWarning: Default solver will be changed to 'lbfgs' in 0.22. Specify a solver to silence this warning.\n",
      "  FutureWarning)\n"
     ]
    },
    {
     "name": "stdout",
     "output_type": "stream",
     "text": [
      "\n",
      "[CV] C=0.5, class_weight=balanced, penalty=l1 ........................\n",
      "[CV]  C=0.5, class_weight=balanced, penalty=l1, score=0.850, total=   0.0s\n",
      "[CV] C=0.5, class_weight=balanced, penalty=l1 ........................\n",
      "[CV]  C=0.5, class_weight=balanced, penalty=l1, score=0.841, total=   0.0s\n",
      "[CV] C=0.5, class_weight=balanced, penalty=l1 ........................\n",
      "[CV]  C=0.5, class_weight=balanced, penalty=l1, score=0.870, total=   0.0s\n",
      "[CV] C=0.5, class_weight=balanced, penalty=l2 ........................\n",
      "[CV]  C=0.5, class_weight=balanced, penalty=l2, score=0.846, total=   0.0s\n",
      "[CV] C=0.5, class_weight=balanced, penalty=l2 ........................\n",
      "[CV]  C=0.5, class_weight=balanced, penalty=l2, score=0.834, total=   0.0s\n",
      "[CV] C=0.5, class_weight=balanced, penalty=l2 ........................\n",
      "[CV]  C=0.5, class_weight=balanced, penalty=l2, score=0.847, total=   0.0s\n",
      "[CV] C=0.5, class_weight=balanced, penalty=l2 ........................\n",
      "[CV]  C=0.5, class_weight=balanced, penalty=l2, score=0.839, total=   0.0s\n",
      "[CV] C=0.5, class_weight=balanced, penalty=l2 ........................\n",
      "[CV]  C=0.5, class_weight=balanced, penalty=l2, score=0.868, total=   0.0s\n",
      "[CV] C=0.5, class_weight=None, penalty=l1 ............................\n",
      "[CV]  C=0.5, class_weight=None, penalty=l1, score=0.848, total=   0.0s\n",
      "[CV] C=0.5, class_weight=None, penalty=l1 ............................\n",
      "[CV]  C=0.5, class_weight=None, penalty=l1, score=0.836, total=   0.0s\n",
      "[CV] C=0.5, class_weight=None, penalty=l1 ............................\n",
      "[CV]  C=0.5, class_weight=None, penalty=l1, score=0.853, total=   0.0s"
     ]
    },
    {
     "name": "stderr",
     "output_type": "stream",
     "text": [
      "C:\\Users\\Abhishek\\Anaconda3\\lib\\site-packages\\sklearn\\linear_model\\logistic.py:432: FutureWarning: Default solver will be changed to 'lbfgs' in 0.22. Specify a solver to silence this warning.\n",
      "  FutureWarning)\n",
      "C:\\Users\\Abhishek\\Anaconda3\\lib\\site-packages\\sklearn\\linear_model\\logistic.py:432: FutureWarning: Default solver will be changed to 'lbfgs' in 0.22. Specify a solver to silence this warning.\n",
      "  FutureWarning)\n",
      "C:\\Users\\Abhishek\\Anaconda3\\lib\\site-packages\\sklearn\\linear_model\\logistic.py:432: FutureWarning: Default solver will be changed to 'lbfgs' in 0.22. Specify a solver to silence this warning.\n",
      "  FutureWarning)\n",
      "C:\\Users\\Abhishek\\Anaconda3\\lib\\site-packages\\sklearn\\linear_model\\logistic.py:432: FutureWarning: Default solver will be changed to 'lbfgs' in 0.22. Specify a solver to silence this warning.\n",
      "  FutureWarning)\n",
      "C:\\Users\\Abhishek\\Anaconda3\\lib\\site-packages\\sklearn\\linear_model\\logistic.py:432: FutureWarning: Default solver will be changed to 'lbfgs' in 0.22. Specify a solver to silence this warning.\n",
      "  FutureWarning)\n",
      "C:\\Users\\Abhishek\\Anaconda3\\lib\\site-packages\\sklearn\\linear_model\\logistic.py:432: FutureWarning: Default solver will be changed to 'lbfgs' in 0.22. Specify a solver to silence this warning.\n",
      "  FutureWarning)\n",
      "C:\\Users\\Abhishek\\Anaconda3\\lib\\site-packages\\sklearn\\linear_model\\logistic.py:432: FutureWarning: Default solver will be changed to 'lbfgs' in 0.22. Specify a solver to silence this warning.\n",
      "  FutureWarning)\n",
      "C:\\Users\\Abhishek\\Anaconda3\\lib\\site-packages\\sklearn\\linear_model\\logistic.py:432: FutureWarning: Default solver will be changed to 'lbfgs' in 0.22. Specify a solver to silence this warning.\n",
      "  FutureWarning)\n",
      "C:\\Users\\Abhishek\\Anaconda3\\lib\\site-packages\\sklearn\\linear_model\\logistic.py:432: FutureWarning: Default solver will be changed to 'lbfgs' in 0.22. Specify a solver to silence this warning.\n",
      "  FutureWarning)\n",
      "C:\\Users\\Abhishek\\Anaconda3\\lib\\site-packages\\sklearn\\linear_model\\logistic.py:432: FutureWarning: Default solver will be changed to 'lbfgs' in 0.22. Specify a solver to silence this warning.\n",
      "  FutureWarning)\n",
      "C:\\Users\\Abhishek\\Anaconda3\\lib\\site-packages\\sklearn\\linear_model\\logistic.py:432: FutureWarning: Default solver will be changed to 'lbfgs' in 0.22. Specify a solver to silence this warning.\n",
      "  FutureWarning)\n",
      "C:\\Users\\Abhishek\\Anaconda3\\lib\\site-packages\\sklearn\\linear_model\\logistic.py:432: FutureWarning: Default solver will be changed to 'lbfgs' in 0.22. Specify a solver to silence this warning.\n",
      "  FutureWarning)\n"
     ]
    },
    {
     "name": "stdout",
     "output_type": "stream",
     "text": [
      "\n",
      "[CV] C=0.5, class_weight=None, penalty=l1 ............................\n",
      "[CV]  C=0.5, class_weight=None, penalty=l1, score=0.842, total=   0.0s\n",
      "[CV] C=0.5, class_weight=None, penalty=l1 ............................\n",
      "[CV]  C=0.5, class_weight=None, penalty=l1, score=0.867, total=   0.0s\n",
      "[CV] C=0.5, class_weight=None, penalty=l2 ............................\n",
      "[CV]  C=0.5, class_weight=None, penalty=l2, score=0.848, total=   0.0s\n",
      "[CV] C=0.5, class_weight=None, penalty=l2 ............................\n",
      "[CV]  C=0.5, class_weight=None, penalty=l2, score=0.834, total=   0.0s\n",
      "[CV] C=0.5, class_weight=None, penalty=l2 ............................\n",
      "[CV]  C=0.5, class_weight=None, penalty=l2, score=0.851, total=   0.0s\n",
      "[CV] C=0.5, class_weight=None, penalty=l2 ............................\n",
      "[CV]  C=0.5, class_weight=None, penalty=l2, score=0.842, total=   0.0s\n",
      "[CV] C=0.5, class_weight=None, penalty=l2 ............................\n",
      "[CV]  C=0.5, class_weight=None, penalty=l2, score=0.866, total=   0.0s\n"
     ]
    },
    {
     "name": "stderr",
     "output_type": "stream",
     "text": [
      "C:\\Users\\Abhishek\\Anaconda3\\lib\\site-packages\\sklearn\\linear_model\\logistic.py:432: FutureWarning: Default solver will be changed to 'lbfgs' in 0.22. Specify a solver to silence this warning.\n",
      "  FutureWarning)\n",
      "[Parallel(n_jobs=1)]: Done 200 out of 200 | elapsed:    3.2s finished\n",
      "C:\\Users\\Abhishek\\Anaconda3\\lib\\site-packages\\sklearn\\model_selection\\_search.py:813: DeprecationWarning: The default of the `iid` parameter will change from True to False in version 0.22 and will be removed in 0.24. This will change numeric results when test-set sizes are unequal.\n",
      "  DeprecationWarning)\n",
      "C:\\Users\\Abhishek\\Anaconda3\\lib\\site-packages\\sklearn\\linear_model\\logistic.py:432: FutureWarning: Default solver will be changed to 'lbfgs' in 0.22. Specify a solver to silence this warning.\n",
      "  FutureWarning)\n"
     ]
    },
    {
     "data": {
      "text/plain": [
       "GridSearchCV(cv=5, error_score='raise-deprecating',\n",
       "             estimator=LogisticRegression(C=1.0, class_weight=None, dual=False,\n",
       "                                          fit_intercept=True,\n",
       "                                          intercept_scaling=1, l1_ratio=None,\n",
       "                                          max_iter=100, multi_class='warn',\n",
       "                                          n_jobs=None, penalty='l2',\n",
       "                                          random_state=None, solver='warn',\n",
       "                                          tol=0.0001, verbose=0,\n",
       "                                          warm_start=False),\n",
       "             iid='warn', n_jobs=None,\n",
       "             param_grid={'C': array([0.001     , 0.05644444, 0.11188889, 0.16733333, 0.22277778,\n",
       "       0.27822222, 0.33366667, 0.38911111, 0.44455556, 0.5       ]),\n",
       "                         'class_weight': ['balanced', None],\n",
       "                         'penalty': ['l1', 'l2']},\n",
       "             pre_dispatch='2*n_jobs', refit=True, return_train_score=False,\n",
       "             scoring='roc_auc', verbose=4)"
      ]
     },
     "execution_count": 309,
     "metadata": {},
     "output_type": "execute_result"
    }
   ],
   "source": [
    "grid_search.fit(x_train,y_train)"
   ]
  },
  {
   "cell_type": "code",
   "execution_count": 310,
   "metadata": {
    "ExecuteTime": {
     "end_time": "2019-11-30T11:57:52.656296Z",
     "start_time": "2019-11-30T11:57:52.646300Z"
    }
   },
   "outputs": [
    {
     "data": {
      "text/plain": [
       "LogisticRegression(C=0.3891111111111111, class_weight=None, dual=False,\n",
       "                   fit_intercept=True, intercept_scaling=1, l1_ratio=None,\n",
       "                   max_iter=100, multi_class='warn', n_jobs=None, penalty='l1',\n",
       "                   random_state=None, solver='warn', tol=0.0001, verbose=0,\n",
       "                   warm_start=False)"
      ]
     },
     "execution_count": 310,
     "metadata": {},
     "output_type": "execute_result"
    }
   ],
   "source": [
    "grid_search.best_estimator_"
   ]
  },
  {
   "cell_type": "code",
   "execution_count": 311,
   "metadata": {
    "ExecuteTime": {
     "end_time": "2019-11-30T11:57:52.783222Z",
     "start_time": "2019-11-30T11:57:52.661292Z"
    }
   },
   "outputs": [],
   "source": [
    "def report(results, n_top=3):\n",
    "    for i in range(1, n_top + 1):\n",
    "        candidates = np.flatnonzero(results['rank_test_score'] == i)\n",
    "        for candidate in candidates:\n",
    "            print(\"Model with rank: {0}\".format(i))\n",
    "            print(\"Mean validation score: {0:.3f} (std: {1:.3f})\".format(\n",
    "                  results['mean_test_score'][candidate],\n",
    "                  results['std_test_score'][candidate]))\n",
    "            print(\"Parameters: {0}\".format(results['params'][candidate]))\n",
    "            print(\"\")"
   ]
  },
  {
   "cell_type": "code",
   "execution_count": 312,
   "metadata": {
    "ExecuteTime": {
     "end_time": "2019-11-30T11:57:52.877167Z",
     "start_time": "2019-11-30T11:57:52.787219Z"
    }
   },
   "outputs": [
    {
     "name": "stdout",
     "output_type": "stream",
     "text": [
      "Model with rank: 1\n",
      "Mean validation score: 0.850 (std: 0.010)\n",
      "Parameters: {'C': 0.3891111111111111, 'class_weight': None, 'penalty': 'l1'}\n",
      "\n",
      "Model with rank: 2\n",
      "Mean validation score: 0.849 (std: 0.010)\n",
      "Parameters: {'C': 0.33366666666666667, 'class_weight': None, 'penalty': 'l1'}\n",
      "\n",
      "Model with rank: 3\n",
      "Mean validation score: 0.849 (std: 0.010)\n",
      "Parameters: {'C': 0.5, 'class_weight': None, 'penalty': 'l1'}\n",
      "\n",
      "Model with rank: 4\n",
      "Mean validation score: 0.849 (std: 0.011)\n",
      "Parameters: {'C': 0.44455555555555554, 'class_weight': 'balanced', 'penalty': 'l1'}\n",
      "\n",
      "Model with rank: 5\n",
      "Mean validation score: 0.849 (std: 0.010)\n",
      "Parameters: {'C': 0.44455555555555554, 'class_weight': None, 'penalty': 'l1'}\n",
      "\n"
     ]
    }
   ],
   "source": [
    "report(grid_search.cv_results_,5)"
   ]
  },
  {
   "cell_type": "code",
   "execution_count": 313,
   "metadata": {
    "ExecuteTime": {
     "end_time": "2019-11-30T11:57:52.959120Z",
     "start_time": "2019-11-30T11:57:52.886164Z"
    }
   },
   "outputs": [],
   "source": [
    "from sklearn.metrics import accuracy_score\n"
   ]
  },
  {
   "cell_type": "code",
   "execution_count": null,
   "metadata": {
    "ExecuteTime": {
     "end_time": "2019-11-30T11:36:41.948390Z",
     "start_time": "2019-11-30T11:36:41.931400Z"
    }
   },
   "outputs": [],
   "source": []
  },
  {
   "cell_type": "code",
   "execution_count": 314,
   "metadata": {
    "ExecuteTime": {
     "end_time": "2019-11-30T11:57:53.060061Z",
     "start_time": "2019-11-30T11:57:52.964118Z"
    }
   },
   "outputs": [],
   "source": [
    "logr=grid_search.best_estimator_"
   ]
  },
  {
   "cell_type": "code",
   "execution_count": 315,
   "metadata": {
    "ExecuteTime": {
     "end_time": "2019-11-30T11:57:53.182993Z",
     "start_time": "2019-11-30T11:57:53.067060Z"
    }
   },
   "outputs": [
    {
     "name": "stderr",
     "output_type": "stream",
     "text": [
      "C:\\Users\\Abhishek\\Anaconda3\\lib\\site-packages\\sklearn\\linear_model\\logistic.py:432: FutureWarning: Default solver will be changed to 'lbfgs' in 0.22. Specify a solver to silence this warning.\n",
      "  FutureWarning)\n"
     ]
    },
    {
     "data": {
      "text/plain": [
       "LogisticRegression(C=0.3891111111111111, class_weight=None, dual=False,\n",
       "                   fit_intercept=True, intercept_scaling=1, l1_ratio=None,\n",
       "                   max_iter=100, multi_class='warn', n_jobs=None, penalty='l1',\n",
       "                   random_state=None, solver='warn', tol=0.0001, verbose=0,\n",
       "                   warm_start=False)"
      ]
     },
     "execution_count": 315,
     "metadata": {},
     "output_type": "execute_result"
    }
   ],
   "source": [
    "logr.fit(x_train,y_train)"
   ]
  },
  {
   "cell_type": "code",
   "execution_count": 336,
   "metadata": {
    "ExecuteTime": {
     "end_time": "2019-11-30T12:01:06.987932Z",
     "start_time": "2019-11-30T12:01:06.979934Z"
    }
   },
   "outputs": [
    {
     "data": {
      "text/plain": [
       "array([0.01, 0.02, 0.03, 0.04, 0.05, 0.06, 0.07, 0.08, 0.09, 0.1 , 0.11,\n",
       "       0.12, 0.13, 0.14, 0.15, 0.16, 0.17, 0.18, 0.19, 0.2 , 0.21, 0.22,\n",
       "       0.23, 0.24, 0.25, 0.26, 0.27, 0.28, 0.29, 0.3 , 0.31, 0.32, 0.33,\n",
       "       0.34, 0.35, 0.36, 0.37, 0.38, 0.39, 0.4 , 0.41, 0.42, 0.43, 0.44,\n",
       "       0.45, 0.46, 0.47, 0.48, 0.49, 0.5 , 0.51, 0.52, 0.53, 0.54, 0.55,\n",
       "       0.56, 0.57, 0.58, 0.59, 0.6 , 0.61, 0.62, 0.63, 0.64, 0.65, 0.66,\n",
       "       0.67, 0.68, 0.69, 0.7 , 0.71, 0.72, 0.73, 0.74, 0.75, 0.76, 0.77,\n",
       "       0.78, 0.79, 0.8 , 0.81, 0.82, 0.83, 0.84, 0.85, 0.86, 0.87, 0.88,\n",
       "       0.89, 0.9 , 0.91, 0.92, 0.93, 0.94, 0.95, 0.96, 0.97, 0.98, 0.99])"
      ]
     },
     "execution_count": 336,
     "metadata": {},
     "output_type": "execute_result"
    }
   ],
   "source": [
    "cutoffs=np.linspace(0.01,0.99,99)\n",
    "\n",
    "cutoffs"
   ]
  },
  {
   "cell_type": "code",
   "execution_count": 317,
   "metadata": {
    "ExecuteTime": {
     "end_time": "2019-11-30T11:57:53.349897Z",
     "start_time": "2019-11-30T11:57:53.257949Z"
    }
   },
   "outputs": [],
   "source": [
    "train_score=logr.predict_proba(x_train)[:,1]\n",
    "\n",
    "real=y_train"
   ]
  },
  {
   "cell_type": "code",
   "execution_count": 318,
   "metadata": {
    "ExecuteTime": {
     "end_time": "2019-11-30T11:57:53.442846Z",
     "start_time": "2019-11-30T11:57:53.353895Z"
    }
   },
   "outputs": [
    {
     "data": {
      "text/plain": [
       "array([0.10028081, 0.90187496, 0.6446588 , 0.87446258, 0.09190745,\n",
       "       0.11109887, 0.27715799, 0.09940734, 0.60315993, 0.87207431,\n",
       "       0.71584368, 0.80752423, 0.13782632, 0.04668423, 0.72333203,\n",
       "       0.64882543, 0.08155502, 0.22458388, 0.54627964, 0.68535879,\n",
       "       0.20580631, 0.20258539, 0.72693689, 0.44285156, 0.55620189,\n",
       "       0.4077676 , 0.13777196, 0.4690593 , 0.62962853, 0.10625064,\n",
       "       0.41895247, 0.94060265, 0.62951196, 0.08666634, 0.48816728,\n",
       "       0.29131755, 0.13777389, 0.13424496, 0.5708208 , 0.72628432,\n",
       "       0.46963917, 0.76671906, 0.13808053, 0.89475175, 0.7019629 ,\n",
       "       0.1063073 , 0.08715115, 0.62951196, 0.08539481, 0.64130461,\n",
       "       0.07038504, 0.13413258, 0.87035425, 0.75919556, 0.26195393,\n",
       "       0.4301167 , 0.83599133, 0.14217243, 0.84908915, 0.04518079,\n",
       "       0.16808157, 0.90467304, 0.29762305, 0.08965656, 0.49670714,\n",
       "       0.10165594, 0.79977863, 0.14153851, 0.38332831, 0.06868022,\n",
       "       0.21099497, 0.35645413, 0.32300546, 0.12027479, 0.11797839,\n",
       "       0.12053462, 0.10625064, 0.1063073 , 0.38783066, 0.6204249 ,\n",
       "       0.13116081, 0.10889156, 0.6295458 , 0.45395121, 0.85202755,\n",
       "       0.3830026 , 0.10482523, 0.1063073 , 0.91424581, 0.12397049,\n",
       "       0.1083484 , 0.13773633, 0.27380728, 0.08140695, 0.04630818,\n",
       "       0.1063073 , 0.22357938, 0.56202459, 0.76878054, 0.16568503,\n",
       "       0.63055136, 0.10625064, 0.51647395, 0.09732737, 0.04996373,\n",
       "       0.11126874, 0.6785129 , 0.10620627, 0.08451066, 0.57370128,\n",
       "       0.32196482, 0.72572573, 0.13074254, 0.61992507, 0.76736286,\n",
       "       0.13418876, 0.03470167, 0.18489944, 0.71735991, 0.51799075,\n",
       "       0.2086302 , 0.1063073 , 0.22153159, 0.783796  , 0.28096009,\n",
       "       0.17141515, 0.11082854, 0.12358936, 0.61324838, 0.06917333,\n",
       "       0.12653888, 0.13736723, 0.42178107, 0.75919556, 0.2504991 ,\n",
       "       0.32546017, 0.92147097, 0.32467471, 0.15354611, 0.58895923,\n",
       "       0.65714747, 0.67191508, 0.59643823, 0.14677336, 0.2914316 ,\n",
       "       0.23195641, 0.11427891, 0.61393454, 0.1743603 , 0.16603389,\n",
       "       0.13123311, 0.91601463, 0.05140386, 0.06964555, 0.10603653,\n",
       "       0.35171013, 0.72061585, 0.10543934, 0.10653265, 0.01185758,\n",
       "       0.06829705, 0.74459973, 0.11739152, 0.14935455, 0.08332922,\n",
       "       0.16673815, 0.91109108, 0.37272547, 0.42106107, 0.13126485,\n",
       "       0.22392142, 0.07710473, 0.72984199, 0.13418876, 0.30935413,\n",
       "       0.1043926 , 0.04604822, 0.87915544, 0.22299119, 0.08689251,\n",
       "       0.14058614, 0.28233277, 0.05989974, 0.28157265, 0.76163723,\n",
       "       0.44391774, 0.56549724, 0.31383047, 0.06052322, 0.08934701,\n",
       "       0.78636685, 0.28636355, 0.6252937 , 0.32053554, 0.89691993,\n",
       "       0.89993023, 0.11082854, 0.07030757, 0.62951196, 0.82447288,\n",
       "       0.11188395, 0.01185758, 0.09396942, 0.08985331, 0.14522978,\n",
       "       0.77857069, 0.07830731, 0.15756457, 0.72062886, 0.42204394,\n",
       "       0.12355094, 0.77603249, 0.13039119, 0.22299119, 0.08479513,\n",
       "       0.93047484, 0.63764777, 0.1351184 , 0.93802553, 0.22131983,\n",
       "       0.15296037, 0.23923119, 0.05851698, 0.10625064, 0.3497623 ,\n",
       "       0.1313152 , 0.28439106, 0.13566238, 0.29263141, 0.39687703,\n",
       "       0.88680584, 0.10824566, 0.10620407, 0.49525238, 0.25442477,\n",
       "       0.61809423, 0.12772146, 0.87290095, 0.28439106, 0.20709189,\n",
       "       0.62477694, 0.56549724, 0.22661612, 0.13033637, 0.13668639,\n",
       "       0.25890914, 0.65147654, 0.8012016 , 0.30704971, 0.09744061,\n",
       "       0.10601361, 0.53443769, 0.21411109, 0.08289427, 0.50678625,\n",
       "       0.66193128, 0.94259051, 0.92547662, 0.98677836, 0.6738103 ,\n",
       "       0.11082854, 0.07106304, 0.23753869, 0.3246196 , 0.62951196,\n",
       "       0.19141651, 0.05442082, 0.09249893, 0.86360257, 0.92803685,\n",
       "       0.42585458, 0.11743227, 0.72603207, 0.42373391, 0.62951196,\n",
       "       0.7656522 , 0.50399245, 0.2159467 , 0.07084564, 0.49824868,\n",
       "       0.04077543, 0.11125282, 0.15368861, 0.14148761, 0.4211318 ,\n",
       "       0.12686709, 0.10596964, 0.13067476, 0.16603389, 0.68238247,\n",
       "       0.93159761, 0.94653678, 0.24354452, 0.65929819, 0.12390572,\n",
       "       0.49670714, 0.16178651, 0.95963475, 0.42538168, 0.93999931,\n",
       "       0.62951196, 0.06814453, 0.13774664, 0.80512623, 0.1063073 ,\n",
       "       0.64315069, 0.94887481, 0.95274138, 0.2307526 , 0.93720881,\n",
       "       0.95200201, 0.9573633 , 0.76137419, 0.11126874, 0.12246596,\n",
       "       0.64459605, 0.78594293, 0.12176584, 0.93295404, 0.91071487,\n",
       "       0.13039119, 0.11431808, 0.80368362, 0.78477762, 0.01185758,\n",
       "       0.94399837, 0.04352637, 0.76517595, 0.52895567, 0.95496848,\n",
       "       0.49922064, 0.31217634, 0.46072591, 0.09395426, 0.91790195,\n",
       "       0.10625064, 0.39261012, 0.93511129, 0.0694416 , 0.3213345 ,\n",
       "       0.3272084 , 0.91182632, 0.23372918, 0.2504991 , 0.19291798,\n",
       "       0.82447288, 0.74257118, 0.55427074, 0.15961255, 0.07575248,\n",
       "       0.127824  , 0.42964261, 0.14653488, 0.09580652, 0.13777196,\n",
       "       0.11188395, 0.92835222, 0.75404851, 0.62962853, 0.62962853,\n",
       "       0.04830984, 0.23881306, 0.56481845, 0.09158507, 0.08715115,\n",
       "       0.10514776, 0.82680688, 0.68536229, 0.62951196, 0.94949187,\n",
       "       0.4851719 , 0.11153741, 0.14148761, 0.65451437, 0.59342173,\n",
       "       0.92506977, 0.67148851, 0.65048193, 0.17497321, 0.14135843,\n",
       "       0.95245728, 0.82157981, 0.09978395, 0.87399466, 0.10625064,\n",
       "       0.34331104, 0.06030641, 0.76517595, 0.11082061, 0.88642125,\n",
       "       0.35388514, 0.1341307 , 0.06470995, 0.94468429, 0.62985762,\n",
       "       0.13063081, 0.60897401, 0.15635538, 0.2602485 , 0.80591824,\n",
       "       0.08219115, 0.1175018 , 0.6127192 , 0.08756966, 0.68596813,\n",
       "       0.16302828, 0.05845307, 0.31445766, 0.13412135, 0.39687703,\n",
       "       0.10625064, 0.11048903, 0.8995826 , 0.2159467 , 0.07140473,\n",
       "       0.61855076, 0.71942034, 0.827906  , 0.22299119, 0.72850626,\n",
       "       0.13808053, 0.13976078, 0.10828301, 0.54579038, 0.10894809,\n",
       "       0.10601361, 0.76472256, 0.85190396, 0.11082854, 0.0998274 ,\n",
       "       0.43432586, 0.55427074, 0.67964033, 0.1486004 , 0.24643949,\n",
       "       0.93588657, 0.52453028, 0.67646853, 0.25712776, 0.21611274,\n",
       "       0.64157346, 0.13849429, 0.09249893, 0.80612995, 0.10633028,\n",
       "       0.62765871, 0.86150418, 0.3900591 , 0.71198767, 0.27283146,\n",
       "       0.13828218, 0.08474715, 0.49444333, 0.34063673, 0.1063073 ,\n",
       "       0.14063568, 0.19912999, 0.8906847 , 0.67808146, 0.11082854,\n",
       "       0.29448663, 0.09448261, 0.31067059, 0.14223597, 0.1063073 ,\n",
       "       0.08425783, 0.2159467 , 0.24647907, 0.11081901, 0.73780082,\n",
       "       0.10601361, 0.08474043, 0.70562268, 0.86747173, 0.67369296,\n",
       "       0.44582864, 0.16302828, 0.08254859, 0.13051003, 0.77978554,\n",
       "       0.04788411, 0.2159467 , 0.06021861, 0.37158036, 0.51962634,\n",
       "       0.39687703, 0.88931524, 0.29568313, 0.10543934, 0.13658428,\n",
       "       0.08474715, 0.13388564, 0.25507529, 0.23371071, 0.13424496,\n",
       "       0.14113007, 0.85291832, 0.10892658, 0.9218458 , 0.12386373,\n",
       "       0.14935455, 0.68895017, 0.62940295, 0.56632352, 0.95006576,\n",
       "       0.58923543, 0.76206818, 0.42165062, 0.11698994, 0.13837242,\n",
       "       0.11294548, 0.1063073 , 0.37542181, 0.84352372, 0.12373783,\n",
       "       0.30697167, 0.77426354, 0.11723724, 0.7180805 , 0.0997738 ,\n",
       "       0.92732306, 0.13067476, 0.13777196, 0.90034457, 0.13777389,\n",
       "       0.08230404, 0.67808146, 0.60809416, 0.08219115, 0.15271251,\n",
       "       0.86893684, 0.13777389, 0.13907571, 0.66332011, 0.61694521,\n",
       "       0.87624358, 0.31383047, 0.94757797, 0.10870148, 0.94043106,\n",
       "       0.89258824, 0.46472866, 0.44960495, 0.17428244, 0.34889039,\n",
       "       0.20368905, 0.81046105, 0.28140281, 0.07192932, 0.29690306,\n",
       "       0.63102662, 0.2485045 , 0.11085874, 0.16807929, 0.6719364 ,\n",
       "       0.21411109, 0.8570402 , 0.68131845, 0.86322794, 0.50773973,\n",
       "       0.11082854, 0.07991312, 0.23407582, 0.1063073 , 0.61855076,\n",
       "       0.0768259 , 0.14141516, 0.55903149, 0.13777389, 0.09975935,\n",
       "       0.09681356, 0.74830807, 0.37551253, 0.62951196, 0.15296037,\n",
       "       0.14454594, 0.77594954, 0.86175513, 0.62478066, 0.09978395,\n",
       "       0.76962183, 0.90563784, 0.1268184 , 0.46078285, 0.13845701,\n",
       "       0.93699378, 0.14696195, 0.24722826, 0.13074254, 0.1063073 ,\n",
       "       0.09160921, 0.86040077, 0.06541563, 0.59174676, 0.15343073,\n",
       "       0.06693082, 0.81009931, 0.06018066, 0.13777196, 0.31325667,\n",
       "       0.71675869, 0.10625064, 0.43667191, 0.07143681, 0.45531022,\n",
       "       0.06987407, 0.10538308, 0.44559926, 0.82652963, 0.92226509,\n",
       "       0.40032517, 0.1059403 , 0.56549724, 0.11082854, 0.09190745,\n",
       "       0.78458582, 0.06839597, 0.58192152, 0.82981759, 0.24303754,\n",
       "       0.11708756, 0.2917604 , 0.13221954, 0.13415694, 0.13790603,\n",
       "       0.22312961, 0.11652734, 0.94049862, 0.11743995, 0.11082217,\n",
       "       0.13758495, 0.05830509, 0.48187414, 0.39682341, 0.53549684,\n",
       "       0.80612995, 0.09978395, 0.1674789 , 0.46607552, 0.08359399,\n",
       "       0.13773633, 0.94949187, 0.58796056, 0.12547227, 0.73780082,\n",
       "       0.33673879, 0.14141516, 0.31333926, 0.10612366, 0.66499014,\n",
       "       0.10625064, 0.84409437, 0.1344174 , 0.62958342, 0.70739535,\n",
       "       0.19393796, 0.10625064, 0.52844949, 0.26211488, 0.33102897,\n",
       "       0.24721988, 0.10453479, 0.30007465, 0.08922117, 0.10616279,\n",
       "       0.15863628, 0.2504991 , 0.10620627, 0.07348481, 0.89073649,\n",
       "       0.68651893, 0.36498655, 0.07749141, 0.21775577, 0.2159467 ,\n",
       "       0.14509776, 0.12232521, 0.69990504, 0.36702058, 0.83064726,\n",
       "       0.62986154, 0.56431304, 0.1383674 , 0.04139693, 0.08032026,\n",
       "       0.24183949, 0.05764362, 0.1424872 , 0.14510774, 0.96706746,\n",
       "       0.36948157, 0.81848825, 0.12547227, 0.15568096, 0.22454505,\n",
       "       0.12821873, 0.07143681, 0.62949689, 0.34171416, 0.07547868,\n",
       "       0.9686951 , 0.38259391, 0.74716033, 0.12574242, 0.08999757,\n",
       "       0.18659545, 0.71278375, 0.33361788, 0.95323165, 0.10165594,\n",
       "       0.94568997, 0.42165062, 0.2550544 , 0.10888529, 0.12800266,\n",
       "       0.14129974, 0.95768229, 0.8093602 , 0.11381794, 0.09702894,\n",
       "       0.89025839, 0.11481255, 0.20258539, 0.13496103, 0.39469093,\n",
       "       0.13810815, 0.62369197, 0.62950068, 0.20713842, 0.58164067,\n",
       "       0.95402732, 0.22804911, 0.2159467 , 0.26211488, 0.26211488,\n",
       "       0.11291128, 0.37579255, 0.84555579, 0.10625064, 0.10625064,\n",
       "       0.42490891, 0.35382343, 0.95347162, 0.09789671, 0.10255487,\n",
       "       0.14827327, 0.11502202, 0.79642687, 0.45416688, 0.10698181,\n",
       "       0.86045062, 0.18706716, 0.09761523, 0.12725179, 0.63673722,\n",
       "       0.32633682, 0.11123048, 0.2914316 , 0.09448261, 0.91892096,\n",
       "       0.10870148, 0.07748755, 0.17677699, 0.88188725, 0.15282258,\n",
       "       0.82485639, 0.50819602, 0.62380215, 0.08985056, 0.0999361 ,\n",
       "       0.12458101, 0.06371639, 0.62986897, 0.13777196, 0.53405533,\n",
       "       0.14508576, 0.11082854, 0.7778513 , 0.11082378, 0.92598226,\n",
       "       0.78370771, 0.9244648 , 0.43012306, 0.07412512, 0.12028876,\n",
       "       0.12037067, 0.69799531, 0.06886573, 0.15955453, 0.42293136,\n",
       "       0.11082854, 0.31617713, 0.14058614, 0.49958453, 0.12063546,\n",
       "       0.17908184, 0.84629881, 0.60973756, 0.1366883 , 0.54002677,\n",
       "       0.20258539, 0.73279077, 0.539873  , 0.2657774 , 0.11395788,\n",
       "       0.10250147, 0.33133603, 0.69822296, 0.17908184, 0.88100193,\n",
       "       0.11743662, 0.08705228, 0.19617747, 0.48752765, 0.1040108 ,\n",
       "       0.39682341, 0.66531328, 0.22033845, 0.07306446, 0.07581079,\n",
       "       0.81754339, 0.11461875, 0.33812185, 0.62323598, 0.08103086,\n",
       "       0.1105239 , 0.12547227, 0.46695974, 0.11082854, 0.82037617,\n",
       "       0.72268249, 0.32888476, 0.13777389, 0.12723392, 0.14534989,\n",
       "       0.89606395, 0.1345206 , 0.1063073 , 0.11797839, 0.49862139,\n",
       "       0.13776886, 0.3033569 , 0.93104   , 0.1209711 , 0.14935455,\n",
       "       0.07545169, 0.01185758, 0.11995452, 0.23335514, 0.92690803,\n",
       "       0.06904951, 0.02988399, 0.74350071, 0.93608403, 0.6662277 ,\n",
       "       0.68254169, 0.8796597 , 0.27585576, 0.68142694, 0.13777389,\n",
       "       0.04551307, 0.21815244, 0.85022101, 0.14058614, 0.25626385,\n",
       "       0.73074951, 0.81161629, 0.4346261 , 0.10684145, 0.15315999,\n",
       "       0.11743995, 0.81663991, 0.37754919, 0.06583077, 0.81295246,\n",
       "       0.77319529, 0.13865399, 0.14141516, 0.10625064, 0.87355805,\n",
       "       0.81567354, 0.0970699 , 0.67427035, 0.23200138, 0.12028876,\n",
       "       0.48302116, 0.23923119, 0.9331313 , 0.52184729, 0.52706629,\n",
       "       0.10410515])"
      ]
     },
     "execution_count": 318,
     "metadata": {},
     "output_type": "execute_result"
    }
   ],
   "source": [
    "train_score"
   ]
  },
  {
   "cell_type": "code",
   "execution_count": 319,
   "metadata": {
    "ExecuteTime": {
     "end_time": "2019-11-30T11:57:53.561774Z",
     "start_time": "2019-11-30T11:57:53.447842Z"
    }
   },
   "outputs": [
    {
     "data": {
      "text/plain": [
       "0      0.0\n",
       "1      1.0\n",
       "2      1.0\n",
       "3      1.0\n",
       "4      0.0\n",
       "5      0.0\n",
       "6      0.0\n",
       "7      0.0\n",
       "8      1.0\n",
       "9      1.0\n",
       "10     1.0\n",
       "11     1.0\n",
       "12     0.0\n",
       "13     0.0\n",
       "14     0.0\n",
       "15     1.0\n",
       "16     0.0\n",
       "17     1.0\n",
       "18     0.0\n",
       "19     1.0\n",
       "20     0.0\n",
       "21     1.0\n",
       "22     1.0\n",
       "23     1.0\n",
       "24     0.0\n",
       "25     1.0\n",
       "26     0.0\n",
       "27     0.0\n",
       "28     1.0\n",
       "29     0.0\n",
       "30     0.0\n",
       "31     1.0\n",
       "32     1.0\n",
       "33     0.0\n",
       "34     0.0\n",
       "35     0.0\n",
       "36     1.0\n",
       "37     0.0\n",
       "38     0.0\n",
       "39     1.0\n",
       "40     0.0\n",
       "41     0.0\n",
       "42     0.0\n",
       "43     1.0\n",
       "44     1.0\n",
       "45     0.0\n",
       "46     0.0\n",
       "47     1.0\n",
       "48     0.0\n",
       "49     0.0\n",
       "50     0.0\n",
       "51     0.0\n",
       "52     1.0\n",
       "53     1.0\n",
       "54     0.0\n",
       "55     1.0\n",
       "56     1.0\n",
       "57     0.0\n",
       "58     1.0\n",
       "59     0.0\n",
       "60     0.0\n",
       "61     1.0\n",
       "62     0.0\n",
       "63     0.0\n",
       "64     0.0\n",
       "65     1.0\n",
       "66     1.0\n",
       "67     0.0\n",
       "68     1.0\n",
       "69     0.0\n",
       "70     0.0\n",
       "71     0.0\n",
       "72     0.0\n",
       "73     0.0\n",
       "74     1.0\n",
       "75     0.0\n",
       "76     0.0\n",
       "77     0.0\n",
       "78     1.0\n",
       "79     1.0\n",
       "80     0.0\n",
       "81     1.0\n",
       "82     1.0\n",
       "83     0.0\n",
       "84     1.0\n",
       "85     1.0\n",
       "86     0.0\n",
       "87     0.0\n",
       "88     1.0\n",
       "89     0.0\n",
       "90     0.0\n",
       "91     0.0\n",
       "92     0.0\n",
       "93     0.0\n",
       "94     0.0\n",
       "95     0.0\n",
       "96     0.0\n",
       "97     1.0\n",
       "98     1.0\n",
       "99     0.0\n",
       "100    0.0\n",
       "101    0.0\n",
       "102    0.0\n",
       "103    0.0\n",
       "104    0.0\n",
       "105    0.0\n",
       "106    1.0\n",
       "107    1.0\n",
       "108    0.0\n",
       "109    1.0\n",
       "110    0.0\n",
       "111    0.0\n",
       "112    0.0\n",
       "113    0.0\n",
       "114    0.0\n",
       "115    0.0\n",
       "116    0.0\n",
       "117    0.0\n",
       "118    0.0\n",
       "119    0.0\n",
       "120    0.0\n",
       "121    0.0\n",
       "122    0.0\n",
       "123    1.0\n",
       "124    0.0\n",
       "125    1.0\n",
       "126    0.0\n",
       "127    1.0\n",
       "128    1.0\n",
       "129    0.0\n",
       "130    0.0\n",
       "131    0.0\n",
       "132    0.0\n",
       "133    1.0\n",
       "134    0.0\n",
       "135    0.0\n",
       "136    1.0\n",
       "137    0.0\n",
       "138    0.0\n",
       "139    0.0\n",
       "140    0.0\n",
       "141    1.0\n",
       "142    1.0\n",
       "143    0.0\n",
       "144    0.0\n",
       "145    0.0\n",
       "146    1.0\n",
       "147    0.0\n",
       "148    0.0\n",
       "149    0.0\n",
       "150    0.0\n",
       "151    1.0\n",
       "152    0.0\n",
       "153    0.0\n",
       "154    0.0\n",
       "155    0.0\n",
       "156    1.0\n",
       "157    0.0\n",
       "158    0.0\n",
       "159    0.0\n",
       "160    0.0\n",
       "161    1.0\n",
       "162    0.0\n",
       "163    0.0\n",
       "164    0.0\n",
       "165    1.0\n",
       "166    1.0\n",
       "167    0.0\n",
       "168    0.0\n",
       "169    0.0\n",
       "170    0.0\n",
       "171    0.0\n",
       "172    1.0\n",
       "173    0.0\n",
       "174    0.0\n",
       "175    0.0\n",
       "176    0.0\n",
       "177    0.0\n",
       "178    0.0\n",
       "179    0.0\n",
       "180    0.0\n",
       "181    0.0\n",
       "182    0.0\n",
       "183    1.0\n",
       "184    1.0\n",
       "185    0.0\n",
       "186    1.0\n",
       "187    1.0\n",
       "188    0.0\n",
       "189    0.0\n",
       "190    1.0\n",
       "191    0.0\n",
       "192    1.0\n",
       "193    1.0\n",
       "194    1.0\n",
       "195    1.0\n",
       "196    0.0\n",
       "197    0.0\n",
       "198    1.0\n",
       "199    0.0\n",
       "200    0.0\n",
       "201    0.0\n",
       "202    0.0\n",
       "203    0.0\n",
       "204    1.0\n",
       "205    0.0\n",
       "206    0.0\n",
       "207    1.0\n",
       "208    1.0\n",
       "209    1.0\n",
       "210    0.0\n",
       "211    1.0\n",
       "212    0.0\n",
       "213    0.0\n",
       "214    0.0\n",
       "215    1.0\n",
       "216    1.0\n",
       "217    0.0\n",
       "218    1.0\n",
       "219    0.0\n",
       "220    1.0\n",
       "221    0.0\n",
       "222    0.0\n",
       "223    0.0\n",
       "224    1.0\n",
       "225    0.0\n",
       "226    1.0\n",
       "227    0.0\n",
       "228    0.0\n",
       "229    0.0\n",
       "230    1.0\n",
       "231    0.0\n",
       "232    0.0\n",
       "233    1.0\n",
       "234    0.0\n",
       "235    0.0\n",
       "236    0.0\n",
       "237    1.0\n",
       "238    0.0\n",
       "239    0.0\n",
       "240    0.0\n",
       "241    1.0\n",
       "242    0.0\n",
       "243    0.0\n",
       "244    0.0\n",
       "245    0.0\n",
       "246    0.0\n",
       "247    1.0\n",
       "248    1.0\n",
       "249    0.0\n",
       "250    0.0\n",
       "251    0.0\n",
       "252    0.0\n",
       "253    0.0\n",
       "254    0.0\n",
       "255    1.0\n",
       "256    1.0\n",
       "257    1.0\n",
       "258    1.0\n",
       "259    1.0\n",
       "260    0.0\n",
       "261    1.0\n",
       "262    0.0\n",
       "263    0.0\n",
       "264    0.0\n",
       "265    0.0\n",
       "266    0.0\n",
       "267    1.0\n",
       "268    1.0\n",
       "269    1.0\n",
       "270    0.0\n",
       "271    1.0\n",
       "272    1.0\n",
       "273    0.0\n",
       "274    1.0\n",
       "275    1.0\n",
       "276    0.0\n",
       "277    0.0\n",
       "278    0.0\n",
       "279    1.0\n",
       "280    0.0\n",
       "281    0.0\n",
       "282    0.0\n",
       "283    1.0\n",
       "284    0.0\n",
       "285    0.0\n",
       "286    1.0\n",
       "287    0.0\n",
       "288    1.0\n",
       "289    1.0\n",
       "290    1.0\n",
       "291    1.0\n",
       "292    0.0\n",
       "293    0.0\n",
       "294    0.0\n",
       "295    0.0\n",
       "296    0.0\n",
       "297    0.0\n",
       "298    1.0\n",
       "299    1.0\n",
       "300    1.0\n",
       "301    1.0\n",
       "302    0.0\n",
       "303    1.0\n",
       "304    0.0\n",
       "305    1.0\n",
       "306    1.0\n",
       "307    1.0\n",
       "308    0.0\n",
       "309    1.0\n",
       "310    1.0\n",
       "311    1.0\n",
       "312    0.0\n",
       "313    0.0\n",
       "314    0.0\n",
       "315    1.0\n",
       "316    1.0\n",
       "317    0.0\n",
       "318    1.0\n",
       "319    1.0\n",
       "320    0.0\n",
       "321    0.0\n",
       "322    1.0\n",
       "323    1.0\n",
       "324    0.0\n",
       "325    1.0\n",
       "326    0.0\n",
       "327    1.0\n",
       "328    1.0\n",
       "329    1.0\n",
       "330    1.0\n",
       "331    0.0\n",
       "332    0.0\n",
       "333    0.0\n",
       "334    1.0\n",
       "335    0.0\n",
       "336    0.0\n",
       "337    1.0\n",
       "338    1.0\n",
       "339    0.0\n",
       "340    1.0\n",
       "341    1.0\n",
       "342    0.0\n",
       "343    0.0\n",
       "344    0.0\n",
       "345    1.0\n",
       "346    1.0\n",
       "347    1.0\n",
       "348    1.0\n",
       "349    0.0\n",
       "350    0.0\n",
       "351    0.0\n",
       "352    0.0\n",
       "353    0.0\n",
       "354    0.0\n",
       "355    0.0\n",
       "356    1.0\n",
       "357    0.0\n",
       "358    1.0\n",
       "359    1.0\n",
       "360    0.0\n",
       "361    0.0\n",
       "362    0.0\n",
       "363    0.0\n",
       "364    0.0\n",
       "365    0.0\n",
       "366    1.0\n",
       "367    1.0\n",
       "368    1.0\n",
       "369    1.0\n",
       "370    1.0\n",
       "371    0.0\n",
       "372    0.0\n",
       "373    0.0\n",
       "374    0.0\n",
       "375    1.0\n",
       "376    1.0\n",
       "377    0.0\n",
       "378    0.0\n",
       "379    0.0\n",
       "380    1.0\n",
       "381    1.0\n",
       "382    0.0\n",
       "383    1.0\n",
       "384    0.0\n",
       "385    0.0\n",
       "386    0.0\n",
       "387    1.0\n",
       "388    0.0\n",
       "389    1.0\n",
       "390    1.0\n",
       "391    1.0\n",
       "392    0.0\n",
       "393    1.0\n",
       "394    1.0\n",
       "395    0.0\n",
       "396    0.0\n",
       "397    0.0\n",
       "398    0.0\n",
       "399    1.0\n",
       "400    1.0\n",
       "401    0.0\n",
       "402    0.0\n",
       "403    0.0\n",
       "404    0.0\n",
       "405    0.0\n",
       "406    0.0\n",
       "407    1.0\n",
       "408    0.0\n",
       "409    0.0\n",
       "410    0.0\n",
       "411    0.0\n",
       "412    1.0\n",
       "413    0.0\n",
       "414    1.0\n",
       "415    0.0\n",
       "416    1.0\n",
       "417    1.0\n",
       "418    0.0\n",
       "419    0.0\n",
       "420    0.0\n",
       "421    0.0\n",
       "422    0.0\n",
       "423    0.0\n",
       "424    0.0\n",
       "425    0.0\n",
       "426    1.0\n",
       "427    1.0\n",
       "428    0.0\n",
       "429    1.0\n",
       "430    1.0\n",
       "431    1.0\n",
       "432    1.0\n",
       "433    0.0\n",
       "434    0.0\n",
       "435    1.0\n",
       "436    0.0\n",
       "437    1.0\n",
       "438    0.0\n",
       "439    0.0\n",
       "440    1.0\n",
       "441    0.0\n",
       "442    0.0\n",
       "443    1.0\n",
       "444    1.0\n",
       "445    1.0\n",
       "446    1.0\n",
       "447    1.0\n",
       "448    1.0\n",
       "449    1.0\n",
       "450    0.0\n",
       "451    0.0\n",
       "452    0.0\n",
       "453    1.0\n",
       "454    0.0\n",
       "455    1.0\n",
       "456    0.0\n",
       "457    1.0\n",
       "458    1.0\n",
       "459    0.0\n",
       "460    1.0\n",
       "461    0.0\n",
       "462    0.0\n",
       "463    0.0\n",
       "464    0.0\n",
       "465    0.0\n",
       "466    0.0\n",
       "467    0.0\n",
       "468    0.0\n",
       "469    1.0\n",
       "470    0.0\n",
       "471    0.0\n",
       "472    1.0\n",
       "473    1.0\n",
       "474    0.0\n",
       "475    0.0\n",
       "476    0.0\n",
       "477    0.0\n",
       "478    0.0\n",
       "479    1.0\n",
       "480    0.0\n",
       "481    0.0\n",
       "482    0.0\n",
       "483    1.0\n",
       "484    1.0\n",
       "485    0.0\n",
       "486    1.0\n",
       "487    0.0\n",
       "488    0.0\n",
       "489    1.0\n",
       "490    0.0\n",
       "491    0.0\n",
       "492    0.0\n",
       "493    0.0\n",
       "494    0.0\n",
       "495    0.0\n",
       "496    1.0\n",
       "497    0.0\n",
       "498    0.0\n",
       "499    0.0\n",
       "500    0.0\n",
       "501    0.0\n",
       "502    0.0\n",
       "503    0.0\n",
       "504    1.0\n",
       "505    0.0\n",
       "506    1.0\n",
       "507    1.0\n",
       "508    0.0\n",
       "509    1.0\n",
       "510    1.0\n",
       "511    0.0\n",
       "512    1.0\n",
       "513    1.0\n",
       "514    0.0\n",
       "515    0.0\n",
       "516    1.0\n",
       "517    0.0\n",
       "518    1.0\n",
       "519    0.0\n",
       "520    1.0\n",
       "521    0.0\n",
       "522    0.0\n",
       "523    1.0\n",
       "524    0.0\n",
       "525    0.0\n",
       "526    1.0\n",
       "527    0.0\n",
       "528    0.0\n",
       "529    0.0\n",
       "530    1.0\n",
       "531    0.0\n",
       "532    0.0\n",
       "533    1.0\n",
       "534    0.0\n",
       "535    1.0\n",
       "536    0.0\n",
       "537    1.0\n",
       "538    0.0\n",
       "539    1.0\n",
       "540    1.0\n",
       "541    0.0\n",
       "542    0.0\n",
       "543    1.0\n",
       "544    0.0\n",
       "545    0.0\n",
       "546    1.0\n",
       "547    1.0\n",
       "548    0.0\n",
       "549    1.0\n",
       "550    1.0\n",
       "551    0.0\n",
       "552    0.0\n",
       "553    1.0\n",
       "554    1.0\n",
       "555    0.0\n",
       "556    1.0\n",
       "557    0.0\n",
       "558    1.0\n",
       "559    1.0\n",
       "560    0.0\n",
       "561    0.0\n",
       "562    0.0\n",
       "563    0.0\n",
       "564    0.0\n",
       "565    0.0\n",
       "566    0.0\n",
       "567    0.0\n",
       "568    0.0\n",
       "569    1.0\n",
       "570    1.0\n",
       "571    1.0\n",
       "572    1.0\n",
       "573    1.0\n",
       "574    0.0\n",
       "575    0.0\n",
       "576    1.0\n",
       "577    1.0\n",
       "578    0.0\n",
       "579    1.0\n",
       "580    1.0\n",
       "581    1.0\n",
       "582    0.0\n",
       "583    0.0\n",
       "584    0.0\n",
       "585    1.0\n",
       "586    0.0\n",
       "587    1.0\n",
       "588    0.0\n",
       "589    0.0\n",
       "590    0.0\n",
       "591    1.0\n",
       "592    0.0\n",
       "593    0.0\n",
       "594    0.0\n",
       "595    0.0\n",
       "596    1.0\n",
       "597    0.0\n",
       "598    0.0\n",
       "599    1.0\n",
       "600    1.0\n",
       "601    0.0\n",
       "602    0.0\n",
       "603    0.0\n",
       "604    1.0\n",
       "605    0.0\n",
       "606    0.0\n",
       "607    1.0\n",
       "608    1.0\n",
       "609    1.0\n",
       "610    0.0\n",
       "611    0.0\n",
       "612    1.0\n",
       "613    0.0\n",
       "614    0.0\n",
       "615    1.0\n",
       "616    0.0\n",
       "617    0.0\n",
       "618    1.0\n",
       "619    0.0\n",
       "620    0.0\n",
       "621    1.0\n",
       "622    1.0\n",
       "623    0.0\n",
       "624    0.0\n",
       "625    0.0\n",
       "626    0.0\n",
       "627    1.0\n",
       "628    0.0\n",
       "629    0.0\n",
       "630    1.0\n",
       "631    0.0\n",
       "632    1.0\n",
       "633    0.0\n",
       "634    0.0\n",
       "635    1.0\n",
       "636    0.0\n",
       "637    0.0\n",
       "638    0.0\n",
       "639    0.0\n",
       "640    0.0\n",
       "641    1.0\n",
       "642    0.0\n",
       "643    1.0\n",
       "644    1.0\n",
       "645    1.0\n",
       "646    0.0\n",
       "647    1.0\n",
       "648    0.0\n",
       "649    1.0\n",
       "650    0.0\n",
       "651    1.0\n",
       "652    0.0\n",
       "653    1.0\n",
       "654    0.0\n",
       "655    0.0\n",
       "656    0.0\n",
       "657    0.0\n",
       "658    0.0\n",
       "659    0.0\n",
       "660    1.0\n",
       "661    0.0\n",
       "662    0.0\n",
       "663    0.0\n",
       "664    1.0\n",
       "665    0.0\n",
       "666    0.0\n",
       "667    0.0\n",
       "668    0.0\n",
       "669    1.0\n",
       "670    1.0\n",
       "671    0.0\n",
       "672    0.0\n",
       "673    1.0\n",
       "674    0.0\n",
       "675    0.0\n",
       "676    0.0\n",
       "677    1.0\n",
       "678    0.0\n",
       "679    1.0\n",
       "680    0.0\n",
       "681    1.0\n",
       "682    0.0\n",
       "683    0.0\n",
       "684    0.0\n",
       "685    0.0\n",
       "686    0.0\n",
       "687    0.0\n",
       "688    0.0\n",
       "689    1.0\n",
       "690    1.0\n",
       "691    1.0\n",
       "692    1.0\n",
       "693    0.0\n",
       "694    0.0\n",
       "695    0.0\n",
       "696    0.0\n",
       "697    1.0\n",
       "698    0.0\n",
       "699    0.0\n",
       "700    1.0\n",
       "701    1.0\n",
       "702    0.0\n",
       "703    0.0\n",
       "704    0.0\n",
       "705    0.0\n",
       "706    1.0\n",
       "707    1.0\n",
       "708    1.0\n",
       "709    1.0\n",
       "710    1.0\n",
       "711    0.0\n",
       "712    1.0\n",
       "713    0.0\n",
       "714    0.0\n",
       "715    0.0\n",
       "716    1.0\n",
       "717    1.0\n",
       "718    0.0\n",
       "719    0.0\n",
       "720    1.0\n",
       "721    0.0\n",
       "722    0.0\n",
       "723    0.0\n",
       "724    1.0\n",
       "725    0.0\n",
       "726    1.0\n",
       "727    1.0\n",
       "728    0.0\n",
       "729    0.0\n",
       "730    1.0\n",
       "731    0.0\n",
       "732    0.0\n",
       "733    0.0\n",
       "734    0.0\n",
       "735    0.0\n",
       "736    0.0\n",
       "737    1.0\n",
       "738    0.0\n",
       "739    0.0\n",
       "740    1.0\n",
       "741    0.0\n",
       "742    1.0\n",
       "743    0.0\n",
       "744    1.0\n",
       "745    0.0\n",
       "746    0.0\n",
       "747    1.0\n",
       "748    0.0\n",
       "749    0.0\n",
       "750    1.0\n",
       "751    1.0\n",
       "752    0.0\n",
       "753    0.0\n",
       "754    1.0\n",
       "755    1.0\n",
       "756    0.0\n",
       "757    0.0\n",
       "758    0.0\n",
       "759    1.0\n",
       "760    0.0\n",
       "761    0.0\n",
       "762    1.0\n",
       "763    1.0\n",
       "764    0.0\n",
       "765    1.0\n",
       "766    0.0\n",
       "767    0.0\n",
       "768    0.0\n",
       "769    0.0\n",
       "770    0.0\n",
       "771    0.0\n",
       "772    0.0\n",
       "773    0.0\n",
       "774    1.0\n",
       "775    0.0\n",
       "776    0.0\n",
       "777    1.0\n",
       "778    0.0\n",
       "779    1.0\n",
       "780    1.0\n",
       "781    1.0\n",
       "782    0.0\n",
       "783    0.0\n",
       "784    0.0\n",
       "785    0.0\n",
       "786    1.0\n",
       "787    0.0\n",
       "788    1.0\n",
       "789    0.0\n",
       "790    0.0\n",
       "791    0.0\n",
       "792    0.0\n",
       "793    0.0\n",
       "794    0.0\n",
       "795    0.0\n",
       "796    1.0\n",
       "797    1.0\n",
       "798    0.0\n",
       "799    0.0\n",
       "800    0.0\n",
       "801    1.0\n",
       "802    1.0\n",
       "803    1.0\n",
       "804    1.0\n",
       "805    0.0\n",
       "806    0.0\n",
       "807    0.0\n",
       "808    0.0\n",
       "809    1.0\n",
       "810    0.0\n",
       "811    0.0\n",
       "812    0.0\n",
       "813    0.0\n",
       "814    0.0\n",
       "815    0.0\n",
       "816    0.0\n",
       "817    0.0\n",
       "818    0.0\n",
       "819    0.0\n",
       "820    1.0\n",
       "821    1.0\n",
       "822    0.0\n",
       "823    1.0\n",
       "824    0.0\n",
       "825    0.0\n",
       "826    0.0\n",
       "827    1.0\n",
       "828    1.0\n",
       "829    1.0\n",
       "830    1.0\n",
       "831    1.0\n",
       "832    0.0\n",
       "833    0.0\n",
       "834    0.0\n",
       "835    1.0\n",
       "836    0.0\n",
       "837    0.0\n",
       "838    1.0\n",
       "839    1.0\n",
       "840    0.0\n",
       "841    0.0\n",
       "842    1.0\n",
       "843    0.0\n",
       "844    0.0\n",
       "845    0.0\n",
       "846    0.0\n",
       "847    0.0\n",
       "848    0.0\n",
       "849    1.0\n",
       "850    0.0\n",
       "851    0.0\n",
       "852    0.0\n",
       "853    1.0\n",
       "854    0.0\n",
       "855    1.0\n",
       "856    1.0\n",
       "857    1.0\n",
       "858    1.0\n",
       "859    0.0\n",
       "860    0.0\n",
       "861    0.0\n",
       "862    1.0\n",
       "863    0.0\n",
       "864    0.0\n",
       "865    1.0\n",
       "866    1.0\n",
       "867    0.0\n",
       "868    0.0\n",
       "869    1.0\n",
       "870    0.0\n",
       "871    1.0\n",
       "872    0.0\n",
       "873    0.0\n",
       "874    1.0\n",
       "875    1.0\n",
       "876    0.0\n",
       "877    0.0\n",
       "878    0.0\n",
       "879    1.0\n",
       "880    1.0\n",
       "881    0.0\n",
       "882    0.0\n",
       "883    0.0\n",
       "884    0.0\n",
       "885    0.0\n",
       "886    0.0\n",
       "887    1.0\n",
       "888    0.0\n",
       "889    1.0\n",
       "890    0.0\n",
       "Name: Survived, dtype: float64"
      ]
     },
     "execution_count": 319,
     "metadata": {},
     "output_type": "execute_result"
    }
   ],
   "source": [
    "real"
   ]
  },
  {
   "cell_type": "code",
   "execution_count": 320,
   "metadata": {
    "ExecuteTime": {
     "end_time": "2019-11-30T11:57:53.645725Z",
     "start_time": "2019-11-30T11:57:53.568770Z"
    }
   },
   "outputs": [
    {
     "data": {
      "text/plain": [
       "array([False,  True,  True,  True, False, False,  True, False,  True,\n",
       "        True,  True,  True, False, False,  True,  True, False,  True,\n",
       "        True,  True,  True,  True,  True,  True,  True,  True, False,\n",
       "        True,  True, False,  True,  True,  True, False,  True,  True,\n",
       "       False, False,  True,  True,  True,  True, False,  True,  True,\n",
       "       False, False,  True, False,  True, False, False,  True,  True,\n",
       "        True,  True,  True, False,  True, False, False,  True,  True,\n",
       "       False,  True, False,  True, False,  True, False,  True,  True,\n",
       "        True, False, False, False, False, False,  True,  True, False,\n",
       "       False,  True,  True,  True,  True, False, False,  True, False,\n",
       "       False, False,  True, False, False, False,  True,  True,  True,\n",
       "       False,  True, False,  True, False, False, False,  True, False,\n",
       "       False,  True,  True,  True, False,  True,  True, False, False,\n",
       "       False,  True,  True,  True, False,  True,  True,  True, False,\n",
       "       False, False,  True, False, False, False,  True,  True,  True,\n",
       "        True,  True,  True, False,  True,  True,  True,  True, False,\n",
       "        True,  True, False,  True, False, False, False,  True, False,\n",
       "       False, False,  True,  True, False, False, False, False,  True,\n",
       "       False, False, False, False,  True,  True,  True, False,  True,\n",
       "       False,  True, False,  True, False, False,  True,  True, False,\n",
       "       False,  True, False,  True,  True,  True,  True,  True, False,\n",
       "       False,  True,  True,  True,  True,  True,  True, False, False,\n",
       "        True,  True, False, False, False, False, False,  True, False,\n",
       "       False,  True,  True, False,  True, False,  True, False,  True,\n",
       "        True, False,  True,  True, False,  True, False, False,  True,\n",
       "       False,  True, False,  True,  True,  True, False, False,  True,\n",
       "        True,  True, False,  True,  True,  True,  True,  True,  True,\n",
       "       False, False,  True,  True,  True,  True, False, False,  True,\n",
       "        True, False,  True,  True,  True,  True,  True,  True, False,\n",
       "       False,  True,  True,  True, False, False, False,  True,  True,\n",
       "        True, False,  True,  True,  True,  True,  True,  True, False,\n",
       "        True, False, False, False, False,  True, False, False, False,\n",
       "       False,  True,  True,  True,  True,  True, False,  True, False,\n",
       "        True,  True,  True,  True, False, False,  True, False,  True,\n",
       "        True,  True,  True,  True,  True,  True,  True, False, False,\n",
       "        True,  True, False,  True,  True, False, False,  True,  True,\n",
       "       False,  True, False,  True,  True,  True,  True,  True,  True,\n",
       "       False,  True, False,  True,  True, False,  True,  True,  True,\n",
       "        True,  True, False,  True,  True,  True, False, False, False,\n",
       "        True, False, False, False, False,  True,  True,  True,  True,\n",
       "       False,  True,  True, False, False, False,  True,  True,  True,\n",
       "        True,  True, False, False,  True,  True,  True,  True,  True,\n",
       "       False, False,  True,  True, False,  True, False,  True, False,\n",
       "        True, False,  True,  True, False, False,  True,  True, False,\n",
       "        True, False,  True,  True, False, False,  True, False,  True,\n",
       "       False, False,  True, False,  True, False, False,  True,  True,\n",
       "       False,  True,  True,  True,  True,  True, False, False, False,\n",
       "        True, False, False,  True,  True, False, False,  True,  True,\n",
       "        True, False,  True,  True,  True,  True,  True,  True,  True,\n",
       "       False, False,  True, False,  True,  True,  True,  True,  True,\n",
       "       False, False,  True,  True, False, False, False,  True,  True,\n",
       "       False,  True, False,  True, False, False, False,  True,  True,\n",
       "       False,  True, False, False,  True,  True,  True,  True, False,\n",
       "       False, False,  True, False,  True, False,  True,  True,  True,\n",
       "        True,  True, False, False, False, False,  True,  True, False,\n",
       "       False,  True, False,  True, False, False,  True,  True,  True,\n",
       "        True,  True,  True,  True, False, False, False, False,  True,\n",
       "        True, False,  True,  True, False,  True, False,  True, False,\n",
       "       False,  True, False, False,  True,  True, False, False,  True,\n",
       "       False, False,  True,  True,  True,  True,  True, False,  True,\n",
       "        True,  True,  True, False,  True,  True,  True,  True, False,\n",
       "        True,  True,  True, False, False,  True,  True,  True,  True,\n",
       "        True,  True, False, False,  True, False,  True, False, False,\n",
       "        True, False, False, False,  True,  True,  True, False, False,\n",
       "        True,  True,  True, False,  True,  True, False,  True, False,\n",
       "        True, False,  True, False, False, False,  True, False,  True,\n",
       "       False, False,  True, False, False,  True,  True, False,  True,\n",
       "       False,  True, False, False,  True,  True,  True,  True, False,\n",
       "        True, False, False,  True, False,  True,  True,  True, False,\n",
       "        True, False, False, False,  True, False,  True, False, False,\n",
       "       False, False,  True,  True,  True,  True, False, False,  True,\n",
       "       False, False,  True,  True, False,  True,  True, False,  True,\n",
       "       False,  True, False,  True, False,  True,  True, False, False,\n",
       "        True,  True,  True,  True, False,  True, False, False, False,\n",
       "        True, False, False,  True,  True,  True, False,  True,  True,\n",
       "       False, False,  True,  True,  True,  True,  True, False, False,\n",
       "       False,  True, False, False, False,  True,  True,  True, False,\n",
       "       False,  True, False, False,  True,  True, False,  True,  True,\n",
       "        True, False, False, False,  True,  True,  True, False,  True,\n",
       "        True,  True, False, False, False,  True,  True, False, False,\n",
       "        True, False,  True, False,  True, False,  True,  True,  True,\n",
       "        True,  True,  True,  True,  True,  True, False,  True,  True,\n",
       "       False, False,  True,  True,  True, False, False, False, False,\n",
       "        True,  True, False,  True, False, False, False,  True,  True,\n",
       "       False,  True, False,  True, False, False, False,  True, False,\n",
       "        True,  True,  True, False, False, False, False,  True, False,\n",
       "        True, False, False,  True, False,  True,  True,  True,  True,\n",
       "       False, False, False,  True, False, False,  True, False,  True,\n",
       "       False,  True, False, False,  True,  True, False,  True,  True,\n",
       "        True,  True,  True, False, False,  True,  True, False,  True,\n",
       "       False, False, False,  True, False,  True,  True,  True, False,\n",
       "       False,  True, False,  True,  True, False, False, False,  True,\n",
       "       False,  True,  True,  True, False, False, False,  True, False,\n",
       "       False, False,  True, False,  True,  True, False, False, False,\n",
       "       False, False,  True,  True, False, False,  True,  True,  True,\n",
       "        True,  True,  True,  True, False, False,  True,  True, False,\n",
       "        True,  True,  True,  True, False, False, False,  True,  True,\n",
       "       False,  True,  True, False, False, False,  True,  True, False,\n",
       "        True,  True, False,  True,  True,  True,  True,  True, False])"
      ]
     },
     "execution_count": 320,
     "metadata": {},
     "output_type": "execute_result"
    }
   ],
   "source": [
    "train_score>0.2"
   ]
  },
  {
   "cell_type": "code",
   "execution_count": 337,
   "metadata": {
    "ExecuteTime": {
     "end_time": "2019-11-30T12:05:21.554597Z",
     "start_time": "2019-11-30T12:05:21.238759Z"
    }
   },
   "outputs": [],
   "source": [
    "KS_all=[]\n",
    "\n",
    "for cutoff in cutoffs:\n",
    "    \n",
    "    predicted=(train_score>cutoff).astype(int)\n",
    "\n",
    "    TP=((predicted==1) & (real==1)).sum()\n",
    "    TN=((predicted==0) & (real==0)).sum()\n",
    "    FP=((predicted==1) & (real==0)).sum()\n",
    "    FN=((predicted==0) & (real==1)).sum()\n",
    "    \n",
    "    P=TP+FN\n",
    "    N=TN+FP\n",
    "      \n",
    "    KS=(TP+TN)/(P+N)\n",
    "    \n",
    "    KS_all.append(KS)"
   ]
  },
  {
   "cell_type": "code",
   "execution_count": 338,
   "metadata": {
    "ExecuteTime": {
     "end_time": "2019-11-30T12:05:23.580634Z",
     "start_time": "2019-11-30T12:05:23.572639Z"
    }
   },
   "outputs": [
    {
     "data": {
      "text/plain": [
       "[0.3838383838383838,\n",
       " 0.388327721661055,\n",
       " 0.3894500561167228,\n",
       " 0.39057239057239057,\n",
       " 0.40291806958473625,\n",
       " 0.4107744107744108,\n",
       " 0.4276094276094276,\n",
       " 0.44668911335578004,\n",
       " 0.4781144781144781,\n",
       " 0.49607182940516276,\n",
       " 0.5488215488215489,\n",
       " 0.5836139169472503,\n",
       " 0.6105499438832772,\n",
       " 0.6655443322109988,\n",
       " 0.6924803591470258,\n",
       " 0.696969696969697,\n",
       " 0.7014590347923682,\n",
       " 0.7025813692480359,\n",
       " 0.7037037037037037,\n",
       " 0.7093153759820426,\n",
       " 0.7160493827160493,\n",
       " 0.7272727272727273,\n",
       " 0.7396184062850729,\n",
       " 0.7519640852974186,\n",
       " 0.7564534231200898,\n",
       " 0.7643097643097643,\n",
       " 0.7687991021324355,\n",
       " 0.7687991021324355,\n",
       " 0.7699214365881033,\n",
       " 0.7732884399551067,\n",
       " 0.77665544332211,\n",
       " 0.77665544332211,\n",
       " 0.7789001122334456,\n",
       " 0.7800224466891134,\n",
       " 0.7811447811447811,\n",
       " 0.7833894500561167,\n",
       " 0.7845117845117845,\n",
       " 0.7845117845117845,\n",
       " 0.7800224466891134,\n",
       " 0.7845117845117845,\n",
       " 0.7845117845117845,\n",
       " 0.7856341189674523,\n",
       " 0.7901234567901234,\n",
       " 0.7912457912457912,\n",
       " 0.792368125701459,\n",
       " 0.7934904601571269,\n",
       " 0.7991021324354658,\n",
       " 0.7991021324354658,\n",
       " 0.8002244668911336,\n",
       " 0.8002244668911336,\n",
       " 0.8024691358024691,\n",
       " 0.8035914702581369,\n",
       " 0.8047138047138047,\n",
       " 0.8047138047138047,\n",
       " 0.8080808080808081,\n",
       " 0.8080808080808081,\n",
       " 0.8047138047138047,\n",
       " 0.8047138047138047,\n",
       " 0.8103254769921436,\n",
       " 0.8114478114478114,\n",
       " 0.8114478114478114,\n",
       " 0.8181818181818182,\n",
       " 0.8035914702581369,\n",
       " 0.8013468013468014,\n",
       " 0.7968574635241302,\n",
       " 0.8024691358024691,\n",
       " 0.8013468013468014,\n",
       " 0.7934904601571269,\n",
       " 0.7901234567901234,\n",
       " 0.7890011223344556,\n",
       " 0.7878787878787878,\n",
       " 0.7822671156004489,\n",
       " 0.7777777777777778,\n",
       " 0.7732884399551067,\n",
       " 0.7721661054994389,\n",
       " 0.7710437710437711,\n",
       " 0.7654320987654321,\n",
       " 0.7598204264870931,\n",
       " 0.7530864197530864,\n",
       " 0.7508417508417509,\n",
       " 0.7418630751964085,\n",
       " 0.7328843995510662,\n",
       " 0.7250280583613917,\n",
       " 0.7227833894500562,\n",
       " 0.7171717171717171,\n",
       " 0.7115600448933782,\n",
       " 0.7025813692480359,\n",
       " 0.6947250280583613,\n",
       " 0.6891133557800224,\n",
       " 0.6790123456790124,\n",
       " 0.6745230078563412,\n",
       " 0.6666666666666666,\n",
       " 0.6565656565656566,\n",
       " 0.6430976430976431,\n",
       " 0.6296296296296297,\n",
       " 0.6195286195286195,\n",
       " 0.6172839506172839,\n",
       " 0.6172839506172839,\n",
       " 0.6161616161616161]"
      ]
     },
     "execution_count": 338,
     "metadata": {},
     "output_type": "execute_result"
    }
   ],
   "source": [
    "KS_all"
   ]
  },
  {
   "cell_type": "code",
   "execution_count": 339,
   "metadata": {
    "ExecuteTime": {
     "end_time": "2019-11-30T12:05:29.394745Z",
     "start_time": "2019-11-30T12:05:29.386749Z"
    }
   },
   "outputs": [
    {
     "data": {
      "text/plain": [
       "0.62"
      ]
     },
     "execution_count": 339,
     "metadata": {},
     "output_type": "execute_result"
    }
   ],
   "source": [
    "mycutoff=cutoffs[KS_all==max(KS_all)][0]\n",
    "mycutoff"
   ]
  },
  {
   "cell_type": "code",
   "execution_count": 324,
   "metadata": {
    "ExecuteTime": {
     "end_time": "2019-11-30T11:58:26.439923Z",
     "start_time": "2019-11-30T11:58:26.432926Z"
    }
   },
   "outputs": [
    {
     "data": {
      "text/plain": [
       "array([1.35704272])"
      ]
     },
     "execution_count": 324,
     "metadata": {},
     "output_type": "execute_result"
    }
   ],
   "source": [
    "logr.intercept_"
   ]
  },
  {
   "cell_type": "code",
   "execution_count": 325,
   "metadata": {
    "ExecuteTime": {
     "end_time": "2019-11-30T11:58:28.902435Z",
     "start_time": "2019-11-30T11:58:28.894437Z"
    }
   },
   "outputs": [
    {
     "data": {
      "text/plain": [
       "[('Pclass', -0.8707267402133142),\n",
       " ('Age', -0.030473450732944656),\n",
       " ('SibSp', -0.2966040321308066),\n",
       " ('Parch', -0.07946630185962092),\n",
       " ('Fare', 0.0038688332017696283),\n",
       " ('Sex_female', 2.6124294421929233),\n",
       " ('Sex_male', 0.0),\n",
       " ('Embarked_C', 0.2982998187986175),\n",
       " ('Embarked_Q', 0.04788288966199982),\n",
       " ('Embarked_S', 0.0)]"
      ]
     },
     "execution_count": 325,
     "metadata": {},
     "output_type": "execute_result"
    }
   ],
   "source": [
    "list(zip(x_train.columns,logr.coef_[0]))"
   ]
  },
  {
   "cell_type": "code",
   "execution_count": 326,
   "metadata": {
    "ExecuteTime": {
     "end_time": "2019-11-30T11:58:32.298964Z",
     "start_time": "2019-11-30T11:58:32.284972Z"
    }
   },
   "outputs": [],
   "source": [
    "test_score=logr.predict_proba(tt_test)[:,1]\n",
    "pd.DataFrame(test_score).to_csv(\"titanic.csv\",index=False)"
   ]
  },
  {
   "cell_type": "code",
   "execution_count": 329,
   "metadata": {
    "ExecuteTime": {
     "end_time": "2019-11-30T11:58:41.597827Z",
     "start_time": "2019-11-30T11:58:41.592832Z"
    }
   },
   "outputs": [],
   "source": [
    "test_classes=(test_score>mycutoff).astype(int)"
   ]
  },
  {
   "cell_type": "code",
   "execution_count": 331,
   "metadata": {
    "ExecuteTime": {
     "end_time": "2019-11-30T11:58:45.179245Z",
     "start_time": "2019-11-30T11:58:45.170228Z"
    }
   },
   "outputs": [],
   "source": [
    "pd.DataFrame(test_classes).to_csv(\"titanic.csv\",index=False)"
   ]
  },
  {
   "cell_type": "code",
   "execution_count": null,
   "metadata": {},
   "outputs": [],
   "source": [
    "#adaboost"
   ]
  },
  {
   "cell_type": "code",
   "execution_count": 340,
   "metadata": {
    "ExecuteTime": {
     "end_time": "2019-11-30T12:08:56.770852Z",
     "start_time": "2019-11-30T12:08:56.764856Z"
    }
   },
   "outputs": [],
   "source": [
    "train_file=r'C:\\Users\\Abhishek\\Desktop\\python data\\projects\\titanic\\train.csv'\n",
    "test_file=r'C:\\Users\\Abhishek\\Desktop\\python data\\projects\\titanic\\test.csv'\n",
    "\n",
    "pd.set_option('display.max_columns', None)\n",
    "pd.set_option('display.max_rows', None)"
   ]
  },
  {
   "cell_type": "code",
   "execution_count": 341,
   "metadata": {
    "ExecuteTime": {
     "end_time": "2019-11-30T12:08:56.920763Z",
     "start_time": "2019-11-30T12:08:56.778845Z"
    }
   },
   "outputs": [],
   "source": [
    "tt_train=pd.read_csv(train_file)\n",
    "tt_test=pd.read_csv(test_file)"
   ]
  },
  {
   "cell_type": "code",
   "execution_count": 342,
   "metadata": {
    "ExecuteTime": {
     "end_time": "2019-11-30T12:08:57.000962Z",
     "start_time": "2019-11-30T12:08:56.925761Z"
    }
   },
   "outputs": [
    {
     "data": {
      "text/html": [
       "<div>\n",
       "<style scoped>\n",
       "    .dataframe tbody tr th:only-of-type {\n",
       "        vertical-align: middle;\n",
       "    }\n",
       "\n",
       "    .dataframe tbody tr th {\n",
       "        vertical-align: top;\n",
       "    }\n",
       "\n",
       "    .dataframe thead th {\n",
       "        text-align: right;\n",
       "    }\n",
       "</style>\n",
       "<table border=\"1\" class=\"dataframe\">\n",
       "  <thead>\n",
       "    <tr style=\"text-align: right;\">\n",
       "      <th></th>\n",
       "      <th>PassengerId</th>\n",
       "      <th>Survived</th>\n",
       "      <th>Pclass</th>\n",
       "      <th>Name</th>\n",
       "      <th>Sex</th>\n",
       "      <th>Age</th>\n",
       "      <th>SibSp</th>\n",
       "      <th>Parch</th>\n",
       "      <th>Ticket</th>\n",
       "      <th>Fare</th>\n",
       "      <th>Cabin</th>\n",
       "      <th>Embarked</th>\n",
       "    </tr>\n",
       "  </thead>\n",
       "  <tbody>\n",
       "    <tr>\n",
       "      <td>0</td>\n",
       "      <td>1</td>\n",
       "      <td>0</td>\n",
       "      <td>3</td>\n",
       "      <td>Braund, Mr. Owen Harris</td>\n",
       "      <td>male</td>\n",
       "      <td>22.0</td>\n",
       "      <td>1</td>\n",
       "      <td>0</td>\n",
       "      <td>A/5 21171</td>\n",
       "      <td>7.2500</td>\n",
       "      <td>NaN</td>\n",
       "      <td>S</td>\n",
       "    </tr>\n",
       "    <tr>\n",
       "      <td>1</td>\n",
       "      <td>2</td>\n",
       "      <td>1</td>\n",
       "      <td>1</td>\n",
       "      <td>Cumings, Mrs. John Bradley (Florence Briggs Th...</td>\n",
       "      <td>female</td>\n",
       "      <td>38.0</td>\n",
       "      <td>1</td>\n",
       "      <td>0</td>\n",
       "      <td>PC 17599</td>\n",
       "      <td>71.2833</td>\n",
       "      <td>C85</td>\n",
       "      <td>C</td>\n",
       "    </tr>\n",
       "    <tr>\n",
       "      <td>2</td>\n",
       "      <td>3</td>\n",
       "      <td>1</td>\n",
       "      <td>3</td>\n",
       "      <td>Heikkinen, Miss. Laina</td>\n",
       "      <td>female</td>\n",
       "      <td>26.0</td>\n",
       "      <td>0</td>\n",
       "      <td>0</td>\n",
       "      <td>STON/O2. 3101282</td>\n",
       "      <td>7.9250</td>\n",
       "      <td>NaN</td>\n",
       "      <td>S</td>\n",
       "    </tr>\n",
       "    <tr>\n",
       "      <td>3</td>\n",
       "      <td>4</td>\n",
       "      <td>1</td>\n",
       "      <td>1</td>\n",
       "      <td>Futrelle, Mrs. Jacques Heath (Lily May Peel)</td>\n",
       "      <td>female</td>\n",
       "      <td>35.0</td>\n",
       "      <td>1</td>\n",
       "      <td>0</td>\n",
       "      <td>113803</td>\n",
       "      <td>53.1000</td>\n",
       "      <td>C123</td>\n",
       "      <td>S</td>\n",
       "    </tr>\n",
       "    <tr>\n",
       "      <td>4</td>\n",
       "      <td>5</td>\n",
       "      <td>0</td>\n",
       "      <td>3</td>\n",
       "      <td>Allen, Mr. William Henry</td>\n",
       "      <td>male</td>\n",
       "      <td>35.0</td>\n",
       "      <td>0</td>\n",
       "      <td>0</td>\n",
       "      <td>373450</td>\n",
       "      <td>8.0500</td>\n",
       "      <td>NaN</td>\n",
       "      <td>S</td>\n",
       "    </tr>\n",
       "  </tbody>\n",
       "</table>\n",
       "</div>"
      ],
      "text/plain": [
       "   PassengerId  Survived  Pclass  \\\n",
       "0            1         0       3   \n",
       "1            2         1       1   \n",
       "2            3         1       3   \n",
       "3            4         1       1   \n",
       "4            5         0       3   \n",
       "\n",
       "                                                Name     Sex   Age  SibSp  \\\n",
       "0                            Braund, Mr. Owen Harris    male  22.0      1   \n",
       "1  Cumings, Mrs. John Bradley (Florence Briggs Th...  female  38.0      1   \n",
       "2                             Heikkinen, Miss. Laina  female  26.0      0   \n",
       "3       Futrelle, Mrs. Jacques Heath (Lily May Peel)  female  35.0      1   \n",
       "4                           Allen, Mr. William Henry    male  35.0      0   \n",
       "\n",
       "   Parch            Ticket     Fare Cabin Embarked  \n",
       "0      0         A/5 21171   7.2500   NaN        S  \n",
       "1      0          PC 17599  71.2833   C85        C  \n",
       "2      0  STON/O2. 3101282   7.9250   NaN        S  \n",
       "3      0            113803  53.1000  C123        S  \n",
       "4      0            373450   8.0500   NaN        S  "
      ]
     },
     "execution_count": 342,
     "metadata": {},
     "output_type": "execute_result"
    }
   ],
   "source": [
    "tt_train.head()"
   ]
  },
  {
   "cell_type": "code",
   "execution_count": 343,
   "metadata": {
    "ExecuteTime": {
     "end_time": "2019-11-30T12:08:57.133111Z",
     "start_time": "2019-11-30T12:08:57.005940Z"
    }
   },
   "outputs": [
    {
     "data": {
      "text/html": [
       "<div>\n",
       "<style scoped>\n",
       "    .dataframe tbody tr th:only-of-type {\n",
       "        vertical-align: middle;\n",
       "    }\n",
       "\n",
       "    .dataframe tbody tr th {\n",
       "        vertical-align: top;\n",
       "    }\n",
       "\n",
       "    .dataframe thead th {\n",
       "        text-align: right;\n",
       "    }\n",
       "</style>\n",
       "<table border=\"1\" class=\"dataframe\">\n",
       "  <thead>\n",
       "    <tr style=\"text-align: right;\">\n",
       "      <th></th>\n",
       "      <th>PassengerId</th>\n",
       "      <th>Pclass</th>\n",
       "      <th>Name</th>\n",
       "      <th>Sex</th>\n",
       "      <th>Age</th>\n",
       "      <th>SibSp</th>\n",
       "      <th>Parch</th>\n",
       "      <th>Ticket</th>\n",
       "      <th>Fare</th>\n",
       "      <th>Cabin</th>\n",
       "      <th>Embarked</th>\n",
       "    </tr>\n",
       "  </thead>\n",
       "  <tbody>\n",
       "    <tr>\n",
       "      <td>0</td>\n",
       "      <td>892</td>\n",
       "      <td>3</td>\n",
       "      <td>Kelly, Mr. James</td>\n",
       "      <td>male</td>\n",
       "      <td>34.5</td>\n",
       "      <td>0</td>\n",
       "      <td>0</td>\n",
       "      <td>330911</td>\n",
       "      <td>7.8292</td>\n",
       "      <td>NaN</td>\n",
       "      <td>Q</td>\n",
       "    </tr>\n",
       "    <tr>\n",
       "      <td>1</td>\n",
       "      <td>893</td>\n",
       "      <td>3</td>\n",
       "      <td>Wilkes, Mrs. James (Ellen Needs)</td>\n",
       "      <td>female</td>\n",
       "      <td>47.0</td>\n",
       "      <td>1</td>\n",
       "      <td>0</td>\n",
       "      <td>363272</td>\n",
       "      <td>7.0000</td>\n",
       "      <td>NaN</td>\n",
       "      <td>S</td>\n",
       "    </tr>\n",
       "    <tr>\n",
       "      <td>2</td>\n",
       "      <td>894</td>\n",
       "      <td>2</td>\n",
       "      <td>Myles, Mr. Thomas Francis</td>\n",
       "      <td>male</td>\n",
       "      <td>62.0</td>\n",
       "      <td>0</td>\n",
       "      <td>0</td>\n",
       "      <td>240276</td>\n",
       "      <td>9.6875</td>\n",
       "      <td>NaN</td>\n",
       "      <td>Q</td>\n",
       "    </tr>\n",
       "    <tr>\n",
       "      <td>3</td>\n",
       "      <td>895</td>\n",
       "      <td>3</td>\n",
       "      <td>Wirz, Mr. Albert</td>\n",
       "      <td>male</td>\n",
       "      <td>27.0</td>\n",
       "      <td>0</td>\n",
       "      <td>0</td>\n",
       "      <td>315154</td>\n",
       "      <td>8.6625</td>\n",
       "      <td>NaN</td>\n",
       "      <td>S</td>\n",
       "    </tr>\n",
       "    <tr>\n",
       "      <td>4</td>\n",
       "      <td>896</td>\n",
       "      <td>3</td>\n",
       "      <td>Hirvonen, Mrs. Alexander (Helga E Lindqvist)</td>\n",
       "      <td>female</td>\n",
       "      <td>22.0</td>\n",
       "      <td>1</td>\n",
       "      <td>1</td>\n",
       "      <td>3101298</td>\n",
       "      <td>12.2875</td>\n",
       "      <td>NaN</td>\n",
       "      <td>S</td>\n",
       "    </tr>\n",
       "  </tbody>\n",
       "</table>\n",
       "</div>"
      ],
      "text/plain": [
       "   PassengerId  Pclass                                          Name     Sex  \\\n",
       "0          892       3                              Kelly, Mr. James    male   \n",
       "1          893       3              Wilkes, Mrs. James (Ellen Needs)  female   \n",
       "2          894       2                     Myles, Mr. Thomas Francis    male   \n",
       "3          895       3                              Wirz, Mr. Albert    male   \n",
       "4          896       3  Hirvonen, Mrs. Alexander (Helga E Lindqvist)  female   \n",
       "\n",
       "    Age  SibSp  Parch   Ticket     Fare Cabin Embarked  \n",
       "0  34.5      0      0   330911   7.8292   NaN        Q  \n",
       "1  47.0      1      0   363272   7.0000   NaN        S  \n",
       "2  62.0      0      0   240276   9.6875   NaN        Q  \n",
       "3  27.0      0      0   315154   8.6625   NaN        S  \n",
       "4  22.0      1      1  3101298  12.2875   NaN        S  "
      ]
     },
     "execution_count": 343,
     "metadata": {},
     "output_type": "execute_result"
    }
   ],
   "source": [
    "tt_test.head()"
   ]
  },
  {
   "cell_type": "code",
   "execution_count": 344,
   "metadata": {
    "ExecuteTime": {
     "end_time": "2019-11-30T12:08:57.221240Z",
     "start_time": "2019-11-30T12:08:57.137110Z"
    }
   },
   "outputs": [],
   "source": [
    "tt_test['Survived']=np.nan"
   ]
  },
  {
   "cell_type": "code",
   "execution_count": 345,
   "metadata": {
    "ExecuteTime": {
     "end_time": "2019-11-30T12:08:57.331393Z",
     "start_time": "2019-11-30T12:08:57.225236Z"
    }
   },
   "outputs": [],
   "source": [
    "tt_train['data']='train'\n",
    "tt_test['data']='test'\n",
    "\n",
    "\n",
    "tt_test=tt_test[tt_train.columns]\n",
    "tt_all=pd.concat([tt_train,tt_test],axis=0) "
   ]
  },
  {
   "cell_type": "code",
   "execution_count": 346,
   "metadata": {
    "ExecuteTime": {
     "end_time": "2019-11-30T12:08:57.424347Z",
     "start_time": "2019-11-30T12:08:57.334359Z"
    }
   },
   "outputs": [
    {
     "data": {
      "text/plain": [
       "PassengerId      int64\n",
       "Survived       float64\n",
       "Pclass           int64\n",
       "Name            object\n",
       "Sex             object\n",
       "Age            float64\n",
       "SibSp            int64\n",
       "Parch            int64\n",
       "Ticket          object\n",
       "Fare           float64\n",
       "Cabin           object\n",
       "Embarked        object\n",
       "data            object\n",
       "dtype: object"
      ]
     },
     "execution_count": 346,
     "metadata": {},
     "output_type": "execute_result"
    }
   ],
   "source": [
    "tt_all.dtypes"
   ]
  },
  {
   "cell_type": "code",
   "execution_count": 347,
   "metadata": {
    "ExecuteTime": {
     "end_time": "2019-11-30T12:08:57.514267Z",
     "start_time": "2019-11-30T12:08:57.428347Z"
    }
   },
   "outputs": [],
   "source": [
    "tt_all.drop(['PassengerId','Name','Ticket','Cabin'],axis=1,inplace=True)"
   ]
  },
  {
   "cell_type": "code",
   "execution_count": 348,
   "metadata": {
    "ExecuteTime": {
     "end_time": "2019-11-30T12:08:57.614076Z",
     "start_time": "2019-11-30T12:08:57.519229Z"
    }
   },
   "outputs": [
    {
     "data": {
      "text/plain": [
       "Survived    float64\n",
       "Pclass        int64\n",
       "Sex          object\n",
       "Age         float64\n",
       "SibSp         int64\n",
       "Parch         int64\n",
       "Fare        float64\n",
       "Embarked     object\n",
       "data         object\n",
       "dtype: object"
      ]
     },
     "execution_count": 348,
     "metadata": {},
     "output_type": "execute_result"
    }
   ],
   "source": [
    "tt_all.dtypes"
   ]
  },
  {
   "cell_type": "code",
   "execution_count": 349,
   "metadata": {
    "ExecuteTime": {
     "end_time": "2019-11-30T12:08:57.703459Z",
     "start_time": "2019-11-30T12:08:57.618074Z"
    }
   },
   "outputs": [
    {
     "data": {
      "text/plain": [
       "Survived    418\n",
       "Pclass        0\n",
       "Sex           0\n",
       "Age         263\n",
       "SibSp         0\n",
       "Parch         0\n",
       "Fare          1\n",
       "Embarked      2\n",
       "data          0\n",
       "dtype: int64"
      ]
     },
     "execution_count": 349,
     "metadata": {},
     "output_type": "execute_result"
    }
   ],
   "source": [
    "\n",
    "tt_all.isnull().sum()"
   ]
  },
  {
   "cell_type": "code",
   "execution_count": 350,
   "metadata": {
    "ExecuteTime": {
     "end_time": "2019-11-30T12:08:57.811098Z",
     "start_time": "2019-11-30T12:08:57.706458Z"
    }
   },
   "outputs": [],
   "source": [
    "tt_all['Embarked'].fillna('S', inplace=True)"
   ]
  },
  {
   "cell_type": "code",
   "execution_count": 351,
   "metadata": {
    "ExecuteTime": {
     "end_time": "2019-11-30T12:08:57.928033Z",
     "start_time": "2019-11-30T12:08:57.814097Z"
    }
   },
   "outputs": [
    {
     "data": {
      "text/html": [
       "<div>\n",
       "<style scoped>\n",
       "    .dataframe tbody tr th:only-of-type {\n",
       "        vertical-align: middle;\n",
       "    }\n",
       "\n",
       "    .dataframe tbody tr th {\n",
       "        vertical-align: top;\n",
       "    }\n",
       "\n",
       "    .dataframe thead th {\n",
       "        text-align: right;\n",
       "    }\n",
       "</style>\n",
       "<table border=\"1\" class=\"dataframe\">\n",
       "  <thead>\n",
       "    <tr style=\"text-align: right;\">\n",
       "      <th></th>\n",
       "      <th>Survived</th>\n",
       "      <th>Pclass</th>\n",
       "      <th>Sex</th>\n",
       "      <th>Age</th>\n",
       "      <th>SibSp</th>\n",
       "      <th>Parch</th>\n",
       "      <th>Fare</th>\n",
       "      <th>Embarked</th>\n",
       "      <th>data</th>\n",
       "    </tr>\n",
       "  </thead>\n",
       "  <tbody>\n",
       "    <tr>\n",
       "      <td>0</td>\n",
       "      <td>0.0</td>\n",
       "      <td>3</td>\n",
       "      <td>male</td>\n",
       "      <td>22.0</td>\n",
       "      <td>1</td>\n",
       "      <td>0</td>\n",
       "      <td>7.2500</td>\n",
       "      <td>S</td>\n",
       "      <td>train</td>\n",
       "    </tr>\n",
       "    <tr>\n",
       "      <td>1</td>\n",
       "      <td>1.0</td>\n",
       "      <td>1</td>\n",
       "      <td>female</td>\n",
       "      <td>38.0</td>\n",
       "      <td>1</td>\n",
       "      <td>0</td>\n",
       "      <td>71.2833</td>\n",
       "      <td>C</td>\n",
       "      <td>train</td>\n",
       "    </tr>\n",
       "    <tr>\n",
       "      <td>2</td>\n",
       "      <td>1.0</td>\n",
       "      <td>3</td>\n",
       "      <td>female</td>\n",
       "      <td>26.0</td>\n",
       "      <td>0</td>\n",
       "      <td>0</td>\n",
       "      <td>7.9250</td>\n",
       "      <td>S</td>\n",
       "      <td>train</td>\n",
       "    </tr>\n",
       "    <tr>\n",
       "      <td>3</td>\n",
       "      <td>1.0</td>\n",
       "      <td>1</td>\n",
       "      <td>female</td>\n",
       "      <td>35.0</td>\n",
       "      <td>1</td>\n",
       "      <td>0</td>\n",
       "      <td>53.1000</td>\n",
       "      <td>S</td>\n",
       "      <td>train</td>\n",
       "    </tr>\n",
       "    <tr>\n",
       "      <td>4</td>\n",
       "      <td>0.0</td>\n",
       "      <td>3</td>\n",
       "      <td>male</td>\n",
       "      <td>35.0</td>\n",
       "      <td>0</td>\n",
       "      <td>0</td>\n",
       "      <td>8.0500</td>\n",
       "      <td>S</td>\n",
       "      <td>train</td>\n",
       "    </tr>\n",
       "  </tbody>\n",
       "</table>\n",
       "</div>"
      ],
      "text/plain": [
       "   Survived  Pclass     Sex   Age  SibSp  Parch     Fare Embarked   data\n",
       "0       0.0       3    male  22.0      1      0   7.2500        S  train\n",
       "1       1.0       1  female  38.0      1      0  71.2833        C  train\n",
       "2       1.0       3  female  26.0      0      0   7.9250        S  train\n",
       "3       1.0       1  female  35.0      1      0  53.1000        S  train\n",
       "4       0.0       3    male  35.0      0      0   8.0500        S  train"
      ]
     },
     "execution_count": 351,
     "metadata": {},
     "output_type": "execute_result"
    }
   ],
   "source": [
    "tt_all.head()"
   ]
  },
  {
   "cell_type": "code",
   "execution_count": null,
   "metadata": {},
   "outputs": [],
   "source": []
  },
  {
   "cell_type": "code",
   "execution_count": 352,
   "metadata": {
    "ExecuteTime": {
     "end_time": "2019-11-30T12:08:58.051003Z",
     "start_time": "2019-11-30T12:08:57.931031Z"
    }
   },
   "outputs": [],
   "source": [
    "for col in tt_all.columns:\n",
    "    if (col not in ['Survived'])& (tt_all[col].isnull().sum()>0):\n",
    "        tt_all.loc[tt_all[col].isnull(),col]=tt_all.loc[tt_all['data']=='train',col].mean()"
   ]
  },
  {
   "cell_type": "code",
   "execution_count": 353,
   "metadata": {
    "ExecuteTime": {
     "end_time": "2019-11-30T12:08:58.117144Z",
     "start_time": "2019-11-30T12:08:58.053963Z"
    }
   },
   "outputs": [
    {
     "data": {
      "text/plain": [
       "Index(['Sex', 'Embarked', 'data'], dtype='object')"
      ]
     },
     "execution_count": 353,
     "metadata": {},
     "output_type": "execute_result"
    }
   ],
   "source": [
    "cat_vars=tt_all.select_dtypes(['object']).columns\n",
    "\n",
    "cat_vars"
   ]
  },
  {
   "cell_type": "code",
   "execution_count": 354,
   "metadata": {
    "ExecuteTime": {
     "end_time": "2019-11-30T12:08:58.241496Z",
     "start_time": "2019-11-30T12:08:58.121141Z"
    }
   },
   "outputs": [
    {
     "name": "stdout",
     "output_type": "stream",
     "text": [
      "Sex\n",
      "Embarked\n"
     ]
    }
   ],
   "source": [
    "for col in cat_vars[:-1]:\n",
    "    dummy=pd.get_dummies(tt_all[col],drop_first=False,prefix=col)\n",
    "    tt_all=pd.concat([tt_all,dummy],axis=1)\n",
    "    del tt_all[col]\n",
    "    print(col)\n",
    "del dummy"
   ]
  },
  {
   "cell_type": "code",
   "execution_count": 355,
   "metadata": {
    "ExecuteTime": {
     "end_time": "2019-11-30T12:08:58.300480Z",
     "start_time": "2019-11-30T12:08:58.245493Z"
    }
   },
   "outputs": [
    {
     "data": {
      "text/plain": [
       "(1309, 12)"
      ]
     },
     "execution_count": 355,
     "metadata": {},
     "output_type": "execute_result"
    }
   ],
   "source": [
    "tt_all.shape"
   ]
  },
  {
   "cell_type": "code",
   "execution_count": 356,
   "metadata": {
    "ExecuteTime": {
     "end_time": "2019-11-30T12:08:58.400355Z",
     "start_time": "2019-11-30T12:08:58.304457Z"
    }
   },
   "outputs": [
    {
     "data": {
      "text/html": [
       "<div>\n",
       "<style scoped>\n",
       "    .dataframe tbody tr th:only-of-type {\n",
       "        vertical-align: middle;\n",
       "    }\n",
       "\n",
       "    .dataframe tbody tr th {\n",
       "        vertical-align: top;\n",
       "    }\n",
       "\n",
       "    .dataframe thead th {\n",
       "        text-align: right;\n",
       "    }\n",
       "</style>\n",
       "<table border=\"1\" class=\"dataframe\">\n",
       "  <thead>\n",
       "    <tr style=\"text-align: right;\">\n",
       "      <th></th>\n",
       "      <th>Survived</th>\n",
       "      <th>Pclass</th>\n",
       "      <th>Age</th>\n",
       "      <th>SibSp</th>\n",
       "      <th>Parch</th>\n",
       "      <th>Fare</th>\n",
       "      <th>data</th>\n",
       "      <th>Sex_female</th>\n",
       "      <th>Sex_male</th>\n",
       "      <th>Embarked_C</th>\n",
       "      <th>Embarked_Q</th>\n",
       "      <th>Embarked_S</th>\n",
       "    </tr>\n",
       "  </thead>\n",
       "  <tbody>\n",
       "    <tr>\n",
       "      <td>0</td>\n",
       "      <td>0.0</td>\n",
       "      <td>3</td>\n",
       "      <td>22.0</td>\n",
       "      <td>1</td>\n",
       "      <td>0</td>\n",
       "      <td>7.2500</td>\n",
       "      <td>train</td>\n",
       "      <td>0</td>\n",
       "      <td>1</td>\n",
       "      <td>0</td>\n",
       "      <td>0</td>\n",
       "      <td>1</td>\n",
       "    </tr>\n",
       "    <tr>\n",
       "      <td>1</td>\n",
       "      <td>1.0</td>\n",
       "      <td>1</td>\n",
       "      <td>38.0</td>\n",
       "      <td>1</td>\n",
       "      <td>0</td>\n",
       "      <td>71.2833</td>\n",
       "      <td>train</td>\n",
       "      <td>1</td>\n",
       "      <td>0</td>\n",
       "      <td>1</td>\n",
       "      <td>0</td>\n",
       "      <td>0</td>\n",
       "    </tr>\n",
       "    <tr>\n",
       "      <td>2</td>\n",
       "      <td>1.0</td>\n",
       "      <td>3</td>\n",
       "      <td>26.0</td>\n",
       "      <td>0</td>\n",
       "      <td>0</td>\n",
       "      <td>7.9250</td>\n",
       "      <td>train</td>\n",
       "      <td>1</td>\n",
       "      <td>0</td>\n",
       "      <td>0</td>\n",
       "      <td>0</td>\n",
       "      <td>1</td>\n",
       "    </tr>\n",
       "    <tr>\n",
       "      <td>3</td>\n",
       "      <td>1.0</td>\n",
       "      <td>1</td>\n",
       "      <td>35.0</td>\n",
       "      <td>1</td>\n",
       "      <td>0</td>\n",
       "      <td>53.1000</td>\n",
       "      <td>train</td>\n",
       "      <td>1</td>\n",
       "      <td>0</td>\n",
       "      <td>0</td>\n",
       "      <td>0</td>\n",
       "      <td>1</td>\n",
       "    </tr>\n",
       "    <tr>\n",
       "      <td>4</td>\n",
       "      <td>0.0</td>\n",
       "      <td>3</td>\n",
       "      <td>35.0</td>\n",
       "      <td>0</td>\n",
       "      <td>0</td>\n",
       "      <td>8.0500</td>\n",
       "      <td>train</td>\n",
       "      <td>0</td>\n",
       "      <td>1</td>\n",
       "      <td>0</td>\n",
       "      <td>0</td>\n",
       "      <td>1</td>\n",
       "    </tr>\n",
       "  </tbody>\n",
       "</table>\n",
       "</div>"
      ],
      "text/plain": [
       "   Survived  Pclass   Age  SibSp  Parch     Fare   data  Sex_female  Sex_male  \\\n",
       "0       0.0       3  22.0      1      0   7.2500  train           0         1   \n",
       "1       1.0       1  38.0      1      0  71.2833  train           1         0   \n",
       "2       1.0       3  26.0      0      0   7.9250  train           1         0   \n",
       "3       1.0       1  35.0      1      0  53.1000  train           1         0   \n",
       "4       0.0       3  35.0      0      0   8.0500  train           0         1   \n",
       "\n",
       "   Embarked_C  Embarked_Q  Embarked_S  \n",
       "0           0           0           1  \n",
       "1           1           0           0  \n",
       "2           0           0           1  \n",
       "3           0           0           1  \n",
       "4           0           0           1  "
      ]
     },
     "execution_count": 356,
     "metadata": {},
     "output_type": "execute_result"
    }
   ],
   "source": [
    "tt_all.head()"
   ]
  },
  {
   "cell_type": "code",
   "execution_count": 357,
   "metadata": {
    "ExecuteTime": {
     "end_time": "2019-11-30T12:08:58.484481Z",
     "start_time": "2019-11-30T12:08:58.403335Z"
    }
   },
   "outputs": [
    {
     "data": {
      "text/plain": [
       "Survived      418\n",
       "Pclass          0\n",
       "Age             0\n",
       "SibSp           0\n",
       "Parch           0\n",
       "Fare            0\n",
       "data            0\n",
       "Sex_female      0\n",
       "Sex_male        0\n",
       "Embarked_C      0\n",
       "Embarked_Q      0\n",
       "Embarked_S      0\n",
       "dtype: int64"
      ]
     },
     "execution_count": 357,
     "metadata": {},
     "output_type": "execute_result"
    }
   ],
   "source": [
    "tt_all.isnull().sum()"
   ]
  },
  {
   "cell_type": "code",
   "execution_count": 219,
   "metadata": {
    "ExecuteTime": {
     "end_time": "2019-11-30T11:23:52.625023Z",
     "start_time": "2019-11-30T11:23:52.506090Z"
    }
   },
   "outputs": [
    {
     "name": "stderr",
     "output_type": "stream",
     "text": [
      "C:\\Users\\Abhishek\\Anaconda3\\lib\\site-packages\\pandas\\core\\frame.py:4102: SettingWithCopyWarning: \n",
      "A value is trying to be set on a copy of a slice from a DataFrame\n",
      "\n",
      "See the caveats in the documentation: http://pandas.pydata.org/pandas-docs/stable/user_guide/indexing.html#returning-a-view-versus-a-copy\n",
      "  errors=errors,\n"
     ]
    }
   ],
   "source": [
    "tt_train=tt_all[tt_all['data']=='train']\n",
    "del tt_train['data']\n",
    "tt_test=tt_all[tt_all['data']=='test']\n",
    "tt_test.drop(['Survived','data'],axis=1,inplace=True)"
   ]
  },
  {
   "cell_type": "code",
   "execution_count": 358,
   "metadata": {
    "ExecuteTime": {
     "end_time": "2019-11-30T12:09:10.054691Z",
     "start_time": "2019-11-30T12:09:08.569498Z"
    }
   },
   "outputs": [],
   "source": [
    "\n",
    "from sklearn.ensemble import RandomForestClassifier"
   ]
  },
  {
   "cell_type": "code",
   "execution_count": 359,
   "metadata": {
    "ExecuteTime": {
     "end_time": "2019-11-30T12:09:24.141416Z",
     "start_time": "2019-11-30T12:09:24.136420Z"
    }
   },
   "outputs": [],
   "source": [
    "clf = RandomForestClassifier()"
   ]
  },
  {
   "cell_type": "code",
   "execution_count": 368,
   "metadata": {
    "ExecuteTime": {
     "end_time": "2019-11-30T12:15:17.803219Z",
     "start_time": "2019-11-30T12:15:17.796224Z"
    }
   },
   "outputs": [],
   "source": [
    "\n",
    "param_dist = {\"n_estimators\":[100,200,300,500,700,1000],\n",
    "              \"max_features\": [5,10,20],\n",
    "              \"bootstrap\": [True, False],\n",
    "              'class_weight':[None,'balanced'], \n",
    "                'criterion':['entropy','gini'],\n",
    "                'max_depth':[None,5,10,15,20,30,50,70],\n",
    "                'min_samples_leaf':[1,2,5,10,15,20], \n",
    "                'min_samples_split':[2,5,10,15,20]\n",
    "                  }"
   ]
  },
  {
   "cell_type": "code",
   "execution_count": 369,
   "metadata": {
    "ExecuteTime": {
     "end_time": "2019-11-30T12:15:19.951971Z",
     "start_time": "2019-11-30T12:15:19.945954Z"
    }
   },
   "outputs": [
    {
     "data": {
      "text/plain": [
       "(891, 10)"
      ]
     },
     "execution_count": 369,
     "metadata": {},
     "output_type": "execute_result"
    }
   ],
   "source": [
    "x_train.shape"
   ]
  },
  {
   "cell_type": "code",
   "execution_count": 370,
   "metadata": {
    "ExecuteTime": {
     "end_time": "2019-11-30T12:15:21.739532Z",
     "start_time": "2019-11-30T12:15:21.727540Z"
    }
   },
   "outputs": [],
   "source": [
    "import pandas as pd\n",
    "import numpy as np\n",
    "from sklearn import tree\n",
    "import numpy as np\n",
    "from sklearn.metrics import roc_auc_score\n",
    "\n",
    "%matplotlib inline"
   ]
  },
  {
   "cell_type": "code",
   "execution_count": 371,
   "metadata": {
    "ExecuteTime": {
     "end_time": "2019-11-30T12:15:24.391356Z",
     "start_time": "2019-11-30T12:15:24.386358Z"
    }
   },
   "outputs": [],
   "source": [
    "from sklearn.model_selection import RandomizedSearchCV"
   ]
  },
  {
   "cell_type": "code",
   "execution_count": 372,
   "metadata": {
    "ExecuteTime": {
     "end_time": "2019-11-30T12:15:26.285724Z",
     "start_time": "2019-11-30T12:15:26.280725Z"
    }
   },
   "outputs": [],
   "source": [
    "n_iter_search = 10\n",
    "# n_iter parameter of RandomizedSeacrhCV controls, how many \n",
    "# parameter combination will be tried; out of all possible given values\n",
    "\n",
    "random_search = RandomizedSearchCV(clf, param_distributions=param_dist,\n",
    "                                   n_iter=n_iter_search,scoring='roc_auc',cv=5,verbose=3,n_jobs=-1)\n"
   ]
  },
  {
   "cell_type": "code",
   "execution_count": 373,
   "metadata": {
    "ExecuteTime": {
     "end_time": "2019-11-30T12:15:35.032215Z",
     "start_time": "2019-11-30T12:15:29.326490Z"
    }
   },
   "outputs": [
    {
     "name": "stdout",
     "output_type": "stream",
     "text": [
      "Fitting 5 folds for each of 10 candidates, totalling 50 fits\n"
     ]
    },
    {
     "name": "stderr",
     "output_type": "stream",
     "text": [
      "[Parallel(n_jobs=-1)]: Using backend LokyBackend with 4 concurrent workers.\n"
     ]
    },
    {
     "ename": "ValueError",
     "evalue": "max_features must be in (0, n_features]",
     "output_type": "error",
     "traceback": [
      "\u001b[1;31m---------------------------------------------------------------------------\u001b[0m",
      "\u001b[1;31m_RemoteTraceback\u001b[0m                          Traceback (most recent call last)",
      "\u001b[1;31m_RemoteTraceback\u001b[0m: \n\"\"\"\nTraceback (most recent call last):\n  File \"C:\\Users\\Abhishek\\Anaconda3\\lib\\site-packages\\joblib\\externals\\loky\\process_executor.py\", line 418, in _process_worker\n    r = call_item()\n  File \"C:\\Users\\Abhishek\\Anaconda3\\lib\\site-packages\\joblib\\externals\\loky\\process_executor.py\", line 272, in __call__\n    return self.fn(*self.args, **self.kwargs)\n  File \"C:\\Users\\Abhishek\\Anaconda3\\lib\\site-packages\\joblib\\_parallel_backends.py\", line 567, in __call__\n    return self.func(*args, **kwargs)\n  File \"C:\\Users\\Abhishek\\Anaconda3\\lib\\site-packages\\joblib\\parallel.py\", line 225, in __call__\n    for func, args, kwargs in self.items]\n  File \"C:\\Users\\Abhishek\\Anaconda3\\lib\\site-packages\\joblib\\parallel.py\", line 225, in <listcomp>\n    for func, args, kwargs in self.items]\n  File \"C:\\Users\\Abhishek\\Anaconda3\\lib\\site-packages\\sklearn\\model_selection\\_validation.py\", line 514, in _fit_and_score\n    estimator.fit(X_train, y_train, **fit_params)\n  File \"C:\\Users\\Abhishek\\Anaconda3\\lib\\site-packages\\sklearn\\ensemble\\forest.py\", line 330, in fit\n    for i, t in enumerate(trees))\n  File \"C:\\Users\\Abhishek\\Anaconda3\\lib\\site-packages\\joblib\\parallel.py\", line 921, in __call__\n    if self.dispatch_one_batch(iterator):\n  File \"C:\\Users\\Abhishek\\Anaconda3\\lib\\site-packages\\joblib\\parallel.py\", line 759, in dispatch_one_batch\n    self._dispatch(tasks)\n  File \"C:\\Users\\Abhishek\\Anaconda3\\lib\\site-packages\\joblib\\parallel.py\", line 716, in _dispatch\n    job = self._backend.apply_async(batch, callback=cb)\n  File \"C:\\Users\\Abhishek\\Anaconda3\\lib\\site-packages\\joblib\\_parallel_backends.py\", line 182, in apply_async\n    result = ImmediateResult(func)\n  File \"C:\\Users\\Abhishek\\Anaconda3\\lib\\site-packages\\joblib\\_parallel_backends.py\", line 549, in __init__\n    self.results = batch()\n  File \"C:\\Users\\Abhishek\\Anaconda3\\lib\\site-packages\\joblib\\parallel.py\", line 225, in __call__\n    for func, args, kwargs in self.items]\n  File \"C:\\Users\\Abhishek\\Anaconda3\\lib\\site-packages\\joblib\\parallel.py\", line 225, in <listcomp>\n    for func, args, kwargs in self.items]\n  File \"C:\\Users\\Abhishek\\Anaconda3\\lib\\site-packages\\sklearn\\ensemble\\forest.py\", line 120, in _parallel_build_trees\n    tree.fit(X, y, sample_weight=sample_weight, check_input=False)\n  File \"C:\\Users\\Abhishek\\Anaconda3\\lib\\site-packages\\sklearn\\tree\\tree.py\", line 816, in fit\n    X_idx_sorted=X_idx_sorted)\n  File \"C:\\Users\\Abhishek\\Anaconda3\\lib\\site-packages\\sklearn\\tree\\tree.py\", line 256, in fit\n    raise ValueError(\"max_features must be in (0, n_features]\")\nValueError: max_features must be in (0, n_features]\n\"\"\"",
      "\nThe above exception was the direct cause of the following exception:\n",
      "\u001b[1;31mValueError\u001b[0m                                Traceback (most recent call last)",
      "\u001b[1;32m<ipython-input-373-008e38c38524>\u001b[0m in \u001b[0;36m<module>\u001b[1;34m\u001b[0m\n\u001b[1;32m----> 1\u001b[1;33m \u001b[0mrandom_search\u001b[0m\u001b[1;33m.\u001b[0m\u001b[0mfit\u001b[0m\u001b[1;33m(\u001b[0m\u001b[0mx_train\u001b[0m\u001b[1;33m,\u001b[0m \u001b[0my_train\u001b[0m\u001b[1;33m)\u001b[0m\u001b[1;33m\u001b[0m\u001b[1;33m\u001b[0m\u001b[0m\n\u001b[0m",
      "\u001b[1;32m~\\Anaconda3\\lib\\site-packages\\sklearn\\model_selection\\_search.py\u001b[0m in \u001b[0;36mfit\u001b[1;34m(self, X, y, groups, **fit_params)\u001b[0m\n\u001b[0;32m    685\u001b[0m                 \u001b[1;32mreturn\u001b[0m \u001b[0mresults\u001b[0m\u001b[1;33m\u001b[0m\u001b[1;33m\u001b[0m\u001b[0m\n\u001b[0;32m    686\u001b[0m \u001b[1;33m\u001b[0m\u001b[0m\n\u001b[1;32m--> 687\u001b[1;33m             \u001b[0mself\u001b[0m\u001b[1;33m.\u001b[0m\u001b[0m_run_search\u001b[0m\u001b[1;33m(\u001b[0m\u001b[0mevaluate_candidates\u001b[0m\u001b[1;33m)\u001b[0m\u001b[1;33m\u001b[0m\u001b[1;33m\u001b[0m\u001b[0m\n\u001b[0m\u001b[0;32m    688\u001b[0m \u001b[1;33m\u001b[0m\u001b[0m\n\u001b[0;32m    689\u001b[0m         \u001b[1;31m# For multi-metric evaluation, store the best_index_, best_params_ and\u001b[0m\u001b[1;33m\u001b[0m\u001b[1;33m\u001b[0m\u001b[1;33m\u001b[0m\u001b[0m\n",
      "\u001b[1;32m~\\Anaconda3\\lib\\site-packages\\sklearn\\model_selection\\_search.py\u001b[0m in \u001b[0;36m_run_search\u001b[1;34m(self, evaluate_candidates)\u001b[0m\n\u001b[0;32m   1466\u001b[0m         evaluate_candidates(ParameterSampler(\n\u001b[0;32m   1467\u001b[0m             \u001b[0mself\u001b[0m\u001b[1;33m.\u001b[0m\u001b[0mparam_distributions\u001b[0m\u001b[1;33m,\u001b[0m \u001b[0mself\u001b[0m\u001b[1;33m.\u001b[0m\u001b[0mn_iter\u001b[0m\u001b[1;33m,\u001b[0m\u001b[1;33m\u001b[0m\u001b[1;33m\u001b[0m\u001b[0m\n\u001b[1;32m-> 1468\u001b[1;33m             random_state=self.random_state))\n\u001b[0m",
      "\u001b[1;32m~\\Anaconda3\\lib\\site-packages\\sklearn\\model_selection\\_search.py\u001b[0m in \u001b[0;36mevaluate_candidates\u001b[1;34m(candidate_params)\u001b[0m\n\u001b[0;32m    664\u001b[0m                                \u001b[1;32mfor\u001b[0m \u001b[0mparameters\u001b[0m\u001b[1;33m,\u001b[0m \u001b[1;33m(\u001b[0m\u001b[0mtrain\u001b[0m\u001b[1;33m,\u001b[0m \u001b[0mtest\u001b[0m\u001b[1;33m)\u001b[0m\u001b[1;33m\u001b[0m\u001b[1;33m\u001b[0m\u001b[0m\n\u001b[0;32m    665\u001b[0m                                in product(candidate_params,\n\u001b[1;32m--> 666\u001b[1;33m                                           cv.split(X, y, groups)))\n\u001b[0m\u001b[0;32m    667\u001b[0m \u001b[1;33m\u001b[0m\u001b[0m\n\u001b[0;32m    668\u001b[0m                 \u001b[1;32mif\u001b[0m \u001b[0mlen\u001b[0m\u001b[1;33m(\u001b[0m\u001b[0mout\u001b[0m\u001b[1;33m)\u001b[0m \u001b[1;33m<\u001b[0m \u001b[1;36m1\u001b[0m\u001b[1;33m:\u001b[0m\u001b[1;33m\u001b[0m\u001b[1;33m\u001b[0m\u001b[0m\n",
      "\u001b[1;32m~\\Anaconda3\\lib\\site-packages\\joblib\\parallel.py\u001b[0m in \u001b[0;36m__call__\u001b[1;34m(self, iterable)\u001b[0m\n\u001b[0;32m    932\u001b[0m \u001b[1;33m\u001b[0m\u001b[0m\n\u001b[0;32m    933\u001b[0m             \u001b[1;32mwith\u001b[0m \u001b[0mself\u001b[0m\u001b[1;33m.\u001b[0m\u001b[0m_backend\u001b[0m\u001b[1;33m.\u001b[0m\u001b[0mretrieval_context\u001b[0m\u001b[1;33m(\u001b[0m\u001b[1;33m)\u001b[0m\u001b[1;33m:\u001b[0m\u001b[1;33m\u001b[0m\u001b[1;33m\u001b[0m\u001b[0m\n\u001b[1;32m--> 934\u001b[1;33m                 \u001b[0mself\u001b[0m\u001b[1;33m.\u001b[0m\u001b[0mretrieve\u001b[0m\u001b[1;33m(\u001b[0m\u001b[1;33m)\u001b[0m\u001b[1;33m\u001b[0m\u001b[1;33m\u001b[0m\u001b[0m\n\u001b[0m\u001b[0;32m    935\u001b[0m             \u001b[1;31m# Make sure that we get a last message telling us we are done\u001b[0m\u001b[1;33m\u001b[0m\u001b[1;33m\u001b[0m\u001b[1;33m\u001b[0m\u001b[0m\n\u001b[0;32m    936\u001b[0m             \u001b[0melapsed_time\u001b[0m \u001b[1;33m=\u001b[0m \u001b[0mtime\u001b[0m\u001b[1;33m.\u001b[0m\u001b[0mtime\u001b[0m\u001b[1;33m(\u001b[0m\u001b[1;33m)\u001b[0m \u001b[1;33m-\u001b[0m \u001b[0mself\u001b[0m\u001b[1;33m.\u001b[0m\u001b[0m_start_time\u001b[0m\u001b[1;33m\u001b[0m\u001b[1;33m\u001b[0m\u001b[0m\n",
      "\u001b[1;32m~\\Anaconda3\\lib\\site-packages\\joblib\\parallel.py\u001b[0m in \u001b[0;36mretrieve\u001b[1;34m(self)\u001b[0m\n\u001b[0;32m    831\u001b[0m             \u001b[1;32mtry\u001b[0m\u001b[1;33m:\u001b[0m\u001b[1;33m\u001b[0m\u001b[1;33m\u001b[0m\u001b[0m\n\u001b[0;32m    832\u001b[0m                 \u001b[1;32mif\u001b[0m \u001b[0mgetattr\u001b[0m\u001b[1;33m(\u001b[0m\u001b[0mself\u001b[0m\u001b[1;33m.\u001b[0m\u001b[0m_backend\u001b[0m\u001b[1;33m,\u001b[0m \u001b[1;34m'supports_timeout'\u001b[0m\u001b[1;33m,\u001b[0m \u001b[1;32mFalse\u001b[0m\u001b[1;33m)\u001b[0m\u001b[1;33m:\u001b[0m\u001b[1;33m\u001b[0m\u001b[1;33m\u001b[0m\u001b[0m\n\u001b[1;32m--> 833\u001b[1;33m                     \u001b[0mself\u001b[0m\u001b[1;33m.\u001b[0m\u001b[0m_output\u001b[0m\u001b[1;33m.\u001b[0m\u001b[0mextend\u001b[0m\u001b[1;33m(\u001b[0m\u001b[0mjob\u001b[0m\u001b[1;33m.\u001b[0m\u001b[0mget\u001b[0m\u001b[1;33m(\u001b[0m\u001b[0mtimeout\u001b[0m\u001b[1;33m=\u001b[0m\u001b[0mself\u001b[0m\u001b[1;33m.\u001b[0m\u001b[0mtimeout\u001b[0m\u001b[1;33m)\u001b[0m\u001b[1;33m)\u001b[0m\u001b[1;33m\u001b[0m\u001b[1;33m\u001b[0m\u001b[0m\n\u001b[0m\u001b[0;32m    834\u001b[0m                 \u001b[1;32melse\u001b[0m\u001b[1;33m:\u001b[0m\u001b[1;33m\u001b[0m\u001b[1;33m\u001b[0m\u001b[0m\n\u001b[0;32m    835\u001b[0m                     \u001b[0mself\u001b[0m\u001b[1;33m.\u001b[0m\u001b[0m_output\u001b[0m\u001b[1;33m.\u001b[0m\u001b[0mextend\u001b[0m\u001b[1;33m(\u001b[0m\u001b[0mjob\u001b[0m\u001b[1;33m.\u001b[0m\u001b[0mget\u001b[0m\u001b[1;33m(\u001b[0m\u001b[1;33m)\u001b[0m\u001b[1;33m)\u001b[0m\u001b[1;33m\u001b[0m\u001b[1;33m\u001b[0m\u001b[0m\n",
      "\u001b[1;32m~\\Anaconda3\\lib\\site-packages\\joblib\\_parallel_backends.py\u001b[0m in \u001b[0;36mwrap_future_result\u001b[1;34m(future, timeout)\u001b[0m\n\u001b[0;32m    519\u001b[0m         AsyncResults.get from multiprocessing.\"\"\"\n\u001b[0;32m    520\u001b[0m         \u001b[1;32mtry\u001b[0m\u001b[1;33m:\u001b[0m\u001b[1;33m\u001b[0m\u001b[1;33m\u001b[0m\u001b[0m\n\u001b[1;32m--> 521\u001b[1;33m             \u001b[1;32mreturn\u001b[0m \u001b[0mfuture\u001b[0m\u001b[1;33m.\u001b[0m\u001b[0mresult\u001b[0m\u001b[1;33m(\u001b[0m\u001b[0mtimeout\u001b[0m\u001b[1;33m=\u001b[0m\u001b[0mtimeout\u001b[0m\u001b[1;33m)\u001b[0m\u001b[1;33m\u001b[0m\u001b[1;33m\u001b[0m\u001b[0m\n\u001b[0m\u001b[0;32m    522\u001b[0m         \u001b[1;32mexcept\u001b[0m \u001b[0mLokyTimeoutError\u001b[0m\u001b[1;33m:\u001b[0m\u001b[1;33m\u001b[0m\u001b[1;33m\u001b[0m\u001b[0m\n\u001b[0;32m    523\u001b[0m             \u001b[1;32mraise\u001b[0m \u001b[0mTimeoutError\u001b[0m\u001b[1;33m(\u001b[0m\u001b[1;33m)\u001b[0m\u001b[1;33m\u001b[0m\u001b[1;33m\u001b[0m\u001b[0m\n",
      "\u001b[1;32m~\\Anaconda3\\lib\\concurrent\\futures\\_base.py\u001b[0m in \u001b[0;36mresult\u001b[1;34m(self, timeout)\u001b[0m\n\u001b[0;32m    430\u001b[0m                 \u001b[1;32mraise\u001b[0m \u001b[0mCancelledError\u001b[0m\u001b[1;33m(\u001b[0m\u001b[1;33m)\u001b[0m\u001b[1;33m\u001b[0m\u001b[1;33m\u001b[0m\u001b[0m\n\u001b[0;32m    431\u001b[0m             \u001b[1;32melif\u001b[0m \u001b[0mself\u001b[0m\u001b[1;33m.\u001b[0m\u001b[0m_state\u001b[0m \u001b[1;33m==\u001b[0m \u001b[0mFINISHED\u001b[0m\u001b[1;33m:\u001b[0m\u001b[1;33m\u001b[0m\u001b[1;33m\u001b[0m\u001b[0m\n\u001b[1;32m--> 432\u001b[1;33m                 \u001b[1;32mreturn\u001b[0m \u001b[0mself\u001b[0m\u001b[1;33m.\u001b[0m\u001b[0m__get_result\u001b[0m\u001b[1;33m(\u001b[0m\u001b[1;33m)\u001b[0m\u001b[1;33m\u001b[0m\u001b[1;33m\u001b[0m\u001b[0m\n\u001b[0m\u001b[0;32m    433\u001b[0m             \u001b[1;32melse\u001b[0m\u001b[1;33m:\u001b[0m\u001b[1;33m\u001b[0m\u001b[1;33m\u001b[0m\u001b[0m\n\u001b[0;32m    434\u001b[0m                 \u001b[1;32mraise\u001b[0m \u001b[0mTimeoutError\u001b[0m\u001b[1;33m(\u001b[0m\u001b[1;33m)\u001b[0m\u001b[1;33m\u001b[0m\u001b[1;33m\u001b[0m\u001b[0m\n",
      "\u001b[1;32m~\\Anaconda3\\lib\\concurrent\\futures\\_base.py\u001b[0m in \u001b[0;36m__get_result\u001b[1;34m(self)\u001b[0m\n\u001b[0;32m    382\u001b[0m     \u001b[1;32mdef\u001b[0m \u001b[0m__get_result\u001b[0m\u001b[1;33m(\u001b[0m\u001b[0mself\u001b[0m\u001b[1;33m)\u001b[0m\u001b[1;33m:\u001b[0m\u001b[1;33m\u001b[0m\u001b[1;33m\u001b[0m\u001b[0m\n\u001b[0;32m    383\u001b[0m         \u001b[1;32mif\u001b[0m \u001b[0mself\u001b[0m\u001b[1;33m.\u001b[0m\u001b[0m_exception\u001b[0m\u001b[1;33m:\u001b[0m\u001b[1;33m\u001b[0m\u001b[1;33m\u001b[0m\u001b[0m\n\u001b[1;32m--> 384\u001b[1;33m             \u001b[1;32mraise\u001b[0m \u001b[0mself\u001b[0m\u001b[1;33m.\u001b[0m\u001b[0m_exception\u001b[0m\u001b[1;33m\u001b[0m\u001b[1;33m\u001b[0m\u001b[0m\n\u001b[0m\u001b[0;32m    385\u001b[0m         \u001b[1;32melse\u001b[0m\u001b[1;33m:\u001b[0m\u001b[1;33m\u001b[0m\u001b[1;33m\u001b[0m\u001b[0m\n\u001b[0;32m    386\u001b[0m             \u001b[1;32mreturn\u001b[0m \u001b[0mself\u001b[0m\u001b[1;33m.\u001b[0m\u001b[0m_result\u001b[0m\u001b[1;33m\u001b[0m\u001b[1;33m\u001b[0m\u001b[0m\n",
      "\u001b[1;31mValueError\u001b[0m: max_features must be in (0, n_features]"
     ]
    }
   ],
   "source": [
    "random_search.fit(x_train, y_train)"
   ]
  }
 ],
 "metadata": {
  "kernelspec": {
   "display_name": "Python 3",
   "language": "python",
   "name": "python3"
  },
  "language_info": {
   "codemirror_mode": {
    "name": "ipython",
    "version": 3
   },
   "file_extension": ".py",
   "mimetype": "text/x-python",
   "name": "python",
   "nbconvert_exporter": "python",
   "pygments_lexer": "ipython3",
   "version": "3.7.3"
  }
 },
 "nbformat": 4,
 "nbformat_minor": 2
}
